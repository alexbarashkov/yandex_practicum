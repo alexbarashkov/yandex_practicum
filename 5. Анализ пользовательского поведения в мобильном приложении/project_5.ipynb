{
 "cells": [
  {
   "cell_type": "markdown",
   "id": "22865e79",
   "metadata": {},
   "source": [
    "# Анализ пользовательского поведения в мобильном приложении"
   ]
  },
  {
   "cell_type": "markdown",
   "id": "eff1a487",
   "metadata": {},
   "source": [
    "## Описание проекта\n",
    "\n",
    "Я работаю в стартапе, который продаёт продукты питания. Моя задача - изучить поведение пользователей мобильного приложения.\n",
    "\n",
    "Для этого нужно провести анализ воронки продаж, чтобы узнать, какие шаги пользователи проходят перед покупкой и на каких этапах возникают проблемы.\n",
    "\n",
    "После этого запустить A/A/B-эксперимент, где пользователей разделить на две контрольные группы и одну экспериментальную группу. Нужно определить, как изменение шрифтов в приложении повлияет на поведение пользователей.\n",
    "\n",
    "## Описание данных\n",
    "\n",
    "Каждая запись в логе — это действие пользователя, или событие.\n",
    "\n",
    "`EventName` — название события;  \n",
    "`DeviceIDHash` — уникальный идентификатор пользователя;  \n",
    "`EventTimestamp` — время события;  \n",
    "`ExpId` — номер эксперимента: 246 и 247 — контрольные группы, а 248 — экспериментальная.  \n",
    "\n",
    "## План (декомпозиция) анализа данных:   \n",
    "\n",
    "1. Загрузка данных и изучение общей информации.\n",
    "2. Подготовка данных к анализу.\n",
    "3. Изучение и проверка данных.\n",
    "4. Изучение воронки событий.\n",
    "5. Изучение результатов эксперимента.\n",
    "6. Общий вывод."
   ]
  },
  {
   "cell_type": "markdown",
   "id": "781a2a91",
   "metadata": {},
   "source": [
    "## Шаг 1. Загрузка данных и изучение общей информации. "
   ]
  },
  {
   "cell_type": "code",
   "execution_count": 1,
   "id": "72576667",
   "metadata": {},
   "outputs": [
    {
     "data": {
      "text/html": [
       "        <script type=\"text/javascript\">\n",
       "        window.PlotlyConfig = {MathJaxConfig: 'local'};\n",
       "        if (window.MathJax && window.MathJax.Hub && window.MathJax.Hub.Config) {window.MathJax.Hub.Config({SVG: {font: \"STIX-Web\"}});}\n",
       "        if (typeof require !== 'undefined') {\n",
       "        require.undef(\"plotly\");\n",
       "        requirejs.config({\n",
       "            paths: {\n",
       "                'plotly': ['https://cdn.plot.ly/plotly-2.24.1.min']\n",
       "            }\n",
       "        });\n",
       "        require(['plotly'], function(Plotly) {\n",
       "            window._Plotly = Plotly;\n",
       "        });\n",
       "        }\n",
       "        </script>\n",
       "        "
      ]
     },
     "metadata": {},
     "output_type": "display_data"
    }
   ],
   "source": [
    "import pandas as pd\n",
    "import scipy.stats as stats\n",
    "from scipy import stats as st\n",
    "import numpy as np\n",
    "import math as mth\n",
    "import matplotlib.pyplot as plt\n",
    "import plotly.offline as pyo\n",
    "import plotly.graph_objs as go\n",
    "from plotly import graph_objects as go\n",
    "\n",
    "pyo.init_notebook_mode(connected=True)"
   ]
  },
  {
   "cell_type": "code",
   "execution_count": 2,
   "id": "99dae5d5",
   "metadata": {
    "scrolled": false
   },
   "outputs": [],
   "source": [
    "data = pd.read_csv('/datasets/logs_exp.csv', sep='\\t')"
   ]
  },
  {
   "cell_type": "code",
   "execution_count": 3,
   "id": "eda8d16e",
   "metadata": {},
   "outputs": [
    {
     "data": {
      "text/html": [
       "<div>\n",
       "<style scoped>\n",
       "    .dataframe tbody tr th:only-of-type {\n",
       "        vertical-align: middle;\n",
       "    }\n",
       "\n",
       "    .dataframe tbody tr th {\n",
       "        vertical-align: top;\n",
       "    }\n",
       "\n",
       "    .dataframe thead th {\n",
       "        text-align: right;\n",
       "    }\n",
       "</style>\n",
       "<table border=\"1\" class=\"dataframe\">\n",
       "  <thead>\n",
       "    <tr style=\"text-align: right;\">\n",
       "      <th></th>\n",
       "      <th>EventName</th>\n",
       "      <th>DeviceIDHash</th>\n",
       "      <th>EventTimestamp</th>\n",
       "      <th>ExpId</th>\n",
       "    </tr>\n",
       "  </thead>\n",
       "  <tbody>\n",
       "    <tr>\n",
       "      <th>0</th>\n",
       "      <td>MainScreenAppear</td>\n",
       "      <td>4575588528974610257</td>\n",
       "      <td>1564029816</td>\n",
       "      <td>246</td>\n",
       "    </tr>\n",
       "    <tr>\n",
       "      <th>1</th>\n",
       "      <td>MainScreenAppear</td>\n",
       "      <td>7416695313311560658</td>\n",
       "      <td>1564053102</td>\n",
       "      <td>246</td>\n",
       "    </tr>\n",
       "    <tr>\n",
       "      <th>2</th>\n",
       "      <td>PaymentScreenSuccessful</td>\n",
       "      <td>3518123091307005509</td>\n",
       "      <td>1564054127</td>\n",
       "      <td>248</td>\n",
       "    </tr>\n",
       "    <tr>\n",
       "      <th>3</th>\n",
       "      <td>CartScreenAppear</td>\n",
       "      <td>3518123091307005509</td>\n",
       "      <td>1564054127</td>\n",
       "      <td>248</td>\n",
       "    </tr>\n",
       "    <tr>\n",
       "      <th>4</th>\n",
       "      <td>PaymentScreenSuccessful</td>\n",
       "      <td>6217807653094995999</td>\n",
       "      <td>1564055322</td>\n",
       "      <td>248</td>\n",
       "    </tr>\n",
       "    <tr>\n",
       "      <th>5</th>\n",
       "      <td>CartScreenAppear</td>\n",
       "      <td>6217807653094995999</td>\n",
       "      <td>1564055323</td>\n",
       "      <td>248</td>\n",
       "    </tr>\n",
       "    <tr>\n",
       "      <th>6</th>\n",
       "      <td>OffersScreenAppear</td>\n",
       "      <td>8351860793733343758</td>\n",
       "      <td>1564066242</td>\n",
       "      <td>246</td>\n",
       "    </tr>\n",
       "    <tr>\n",
       "      <th>7</th>\n",
       "      <td>MainScreenAppear</td>\n",
       "      <td>5682100281902512875</td>\n",
       "      <td>1564085677</td>\n",
       "      <td>246</td>\n",
       "    </tr>\n",
       "    <tr>\n",
       "      <th>8</th>\n",
       "      <td>MainScreenAppear</td>\n",
       "      <td>1850981295691852772</td>\n",
       "      <td>1564086702</td>\n",
       "      <td>247</td>\n",
       "    </tr>\n",
       "    <tr>\n",
       "      <th>9</th>\n",
       "      <td>MainScreenAppear</td>\n",
       "      <td>5407636962369102641</td>\n",
       "      <td>1564112112</td>\n",
       "      <td>246</td>\n",
       "    </tr>\n",
       "  </tbody>\n",
       "</table>\n",
       "</div>"
      ],
      "text/plain": [
       "                 EventName         DeviceIDHash  EventTimestamp  ExpId\n",
       "0         MainScreenAppear  4575588528974610257      1564029816    246\n",
       "1         MainScreenAppear  7416695313311560658      1564053102    246\n",
       "2  PaymentScreenSuccessful  3518123091307005509      1564054127    248\n",
       "3         CartScreenAppear  3518123091307005509      1564054127    248\n",
       "4  PaymentScreenSuccessful  6217807653094995999      1564055322    248\n",
       "5         CartScreenAppear  6217807653094995999      1564055323    248\n",
       "6       OffersScreenAppear  8351860793733343758      1564066242    246\n",
       "7         MainScreenAppear  5682100281902512875      1564085677    246\n",
       "8         MainScreenAppear  1850981295691852772      1564086702    247\n",
       "9         MainScreenAppear  5407636962369102641      1564112112    246"
      ]
     },
     "metadata": {},
     "output_type": "display_data"
    }
   ],
   "source": [
    "display(data.head(10))"
   ]
  },
  {
   "cell_type": "markdown",
   "id": "85697e92",
   "metadata": {},
   "source": [
    "Видим, что имеются время события имеет формат не даты, а названия столбцов написаны в верблюжьем регистре.\n",
    "\n",
    "Посмотрим на уникальные названия событий:"
   ]
  },
  {
   "cell_type": "code",
   "execution_count": 4,
   "id": "2aca4043",
   "metadata": {},
   "outputs": [
    {
     "data": {
      "text/plain": [
       "array(['MainScreenAppear', 'PaymentScreenSuccessful', 'CartScreenAppear',\n",
       "       'OffersScreenAppear', 'Tutorial'], dtype=object)"
      ]
     },
     "execution_count": 4,
     "metadata": {},
     "output_type": "execute_result"
    }
   ],
   "source": [
    "data['EventName'].unique()"
   ]
  },
  {
   "cell_type": "markdown",
   "id": "1499703b",
   "metadata": {},
   "source": [
    "Общая информация:"
   ]
  },
  {
   "cell_type": "code",
   "execution_count": 5,
   "id": "202ba777",
   "metadata": {
    "scrolled": false
   },
   "outputs": [
    {
     "name": "stdout",
     "output_type": "stream",
     "text": [
      "<class 'pandas.core.frame.DataFrame'>\n",
      "RangeIndex: 244126 entries, 0 to 244125\n",
      "Data columns (total 4 columns):\n",
      " #   Column          Non-Null Count   Dtype \n",
      "---  ------          --------------   ----- \n",
      " 0   EventName       244126 non-null  object\n",
      " 1   DeviceIDHash    244126 non-null  int64 \n",
      " 2   EventTimestamp  244126 non-null  int64 \n",
      " 3   ExpId           244126 non-null  int64 \n",
      "dtypes: int64(3), object(1)\n",
      "memory usage: 7.5+ MB\n"
     ]
    }
   ],
   "source": [
    "data.info()"
   ]
  },
  {
   "cell_type": "markdown",
   "id": "978fb2fc",
   "metadata": {},
   "source": [
    "Всего 244126 строк. Пропуски отсутствуют. Также видим, что тип данных в столбце `EventTimestamp` формата данных `int64` вместо `datetime64`."
   ]
  },
  {
   "cell_type": "markdown",
   "id": "54b178b1",
   "metadata": {},
   "source": [
    "__Промежуточный вывод:__ изучили общую информацию:  \n",
    "- Увидели, что в данных нет пропусков.  \n",
    "- Названия столбцов указаны в верблюжьем регистре.  \n",
    "- Тип данных в столбце `EventTimestamp` `int` вместо `datetime64`."
   ]
  },
  {
   "cell_type": "markdown",
   "id": "b552247f",
   "metadata": {},
   "source": [
    "## Шаг 2. Подготовка данных к анализу."
   ]
  },
  {
   "cell_type": "markdown",
   "id": "b114bef6",
   "metadata": {},
   "source": [
    "### Заменим названия столбцов."
   ]
  },
  {
   "cell_type": "markdown",
   "id": "63e4f5dc",
   "metadata": {},
   "source": [
    "Приведем название столбцов к змеиному регистру."
   ]
  },
  {
   "cell_type": "code",
   "execution_count": 6,
   "id": "895da0b2",
   "metadata": {},
   "outputs": [],
   "source": [
    "data.columns =['event_name', 'device_id_hash', 'event_timestamp', 'exp_id']"
   ]
  },
  {
   "cell_type": "code",
   "execution_count": 7,
   "id": "3d04a05a",
   "metadata": {},
   "outputs": [
    {
     "data": {
      "text/html": [
       "<div>\n",
       "<style scoped>\n",
       "    .dataframe tbody tr th:only-of-type {\n",
       "        vertical-align: middle;\n",
       "    }\n",
       "\n",
       "    .dataframe tbody tr th {\n",
       "        vertical-align: top;\n",
       "    }\n",
       "\n",
       "    .dataframe thead th {\n",
       "        text-align: right;\n",
       "    }\n",
       "</style>\n",
       "<table border=\"1\" class=\"dataframe\">\n",
       "  <thead>\n",
       "    <tr style=\"text-align: right;\">\n",
       "      <th></th>\n",
       "      <th>event_name</th>\n",
       "      <th>device_id_hash</th>\n",
       "      <th>event_timestamp</th>\n",
       "      <th>exp_id</th>\n",
       "    </tr>\n",
       "  </thead>\n",
       "  <tbody>\n",
       "    <tr>\n",
       "      <th>0</th>\n",
       "      <td>MainScreenAppear</td>\n",
       "      <td>4575588528974610257</td>\n",
       "      <td>1564029816</td>\n",
       "      <td>246</td>\n",
       "    </tr>\n",
       "    <tr>\n",
       "      <th>1</th>\n",
       "      <td>MainScreenAppear</td>\n",
       "      <td>7416695313311560658</td>\n",
       "      <td>1564053102</td>\n",
       "      <td>246</td>\n",
       "    </tr>\n",
       "    <tr>\n",
       "      <th>2</th>\n",
       "      <td>PaymentScreenSuccessful</td>\n",
       "      <td>3518123091307005509</td>\n",
       "      <td>1564054127</td>\n",
       "      <td>248</td>\n",
       "    </tr>\n",
       "    <tr>\n",
       "      <th>3</th>\n",
       "      <td>CartScreenAppear</td>\n",
       "      <td>3518123091307005509</td>\n",
       "      <td>1564054127</td>\n",
       "      <td>248</td>\n",
       "    </tr>\n",
       "    <tr>\n",
       "      <th>4</th>\n",
       "      <td>PaymentScreenSuccessful</td>\n",
       "      <td>6217807653094995999</td>\n",
       "      <td>1564055322</td>\n",
       "      <td>248</td>\n",
       "    </tr>\n",
       "  </tbody>\n",
       "</table>\n",
       "</div>"
      ],
      "text/plain": [
       "                event_name       device_id_hash  event_timestamp  exp_id\n",
       "0         MainScreenAppear  4575588528974610257       1564029816     246\n",
       "1         MainScreenAppear  7416695313311560658       1564053102     246\n",
       "2  PaymentScreenSuccessful  3518123091307005509       1564054127     248\n",
       "3         CartScreenAppear  3518123091307005509       1564054127     248\n",
       "4  PaymentScreenSuccessful  6217807653094995999       1564055322     248"
      ]
     },
     "execution_count": 7,
     "metadata": {},
     "output_type": "execute_result"
    }
   ],
   "source": [
    "data.head()"
   ]
  },
  {
   "cell_type": "markdown",
   "id": "01d9589c",
   "metadata": {},
   "source": [
    "Привели названия столбцов к змеиному регистру."
   ]
  },
  {
   "cell_type": "markdown",
   "id": "1f8b4a65",
   "metadata": {},
   "source": [
    "### Проверим пропуски и типы данных.\n",
    "\n",
    "Проверим пропуски:"
   ]
  },
  {
   "cell_type": "code",
   "execution_count": 8,
   "id": "f68e6bb3",
   "metadata": {},
   "outputs": [
    {
     "data": {
      "text/html": [
       "<style type=\"text/css\">\n",
       "#T_3cb52_row0_col0, #T_3cb52_row1_col0, #T_3cb52_row2_col0, #T_3cb52_row3_col0 {\n",
       "  background-color: #3b4cc0;\n",
       "  color: #f1f1f1;\n",
       "}\n",
       "</style>\n",
       "<table id=\"T_3cb52\">\n",
       "  <thead>\n",
       "    <tr>\n",
       "      <th class=\"blank level0\" >&nbsp;</th>\n",
       "      <th id=\"T_3cb52_level0_col0\" class=\"col_heading level0 col0\" >0</th>\n",
       "    </tr>\n",
       "  </thead>\n",
       "  <tbody>\n",
       "    <tr>\n",
       "      <th id=\"T_3cb52_level0_row0\" class=\"row_heading level0 row0\" >event_name</th>\n",
       "      <td id=\"T_3cb52_row0_col0\" class=\"data row0 col0\" >0.000000</td>\n",
       "    </tr>\n",
       "    <tr>\n",
       "      <th id=\"T_3cb52_level0_row1\" class=\"row_heading level0 row1\" >device_id_hash</th>\n",
       "      <td id=\"T_3cb52_row1_col0\" class=\"data row1 col0\" >0.000000</td>\n",
       "    </tr>\n",
       "    <tr>\n",
       "      <th id=\"T_3cb52_level0_row2\" class=\"row_heading level0 row2\" >event_timestamp</th>\n",
       "      <td id=\"T_3cb52_row2_col0\" class=\"data row2 col0\" >0.000000</td>\n",
       "    </tr>\n",
       "    <tr>\n",
       "      <th id=\"T_3cb52_level0_row3\" class=\"row_heading level0 row3\" >exp_id</th>\n",
       "      <td id=\"T_3cb52_row3_col0\" class=\"data row3 col0\" >0.000000</td>\n",
       "    </tr>\n",
       "  </tbody>\n",
       "</table>\n"
      ],
      "text/plain": [
       "<pandas.io.formats.style.Styler at 0x15ab6f4c0>"
      ]
     },
     "execution_count": 8,
     "metadata": {},
     "output_type": "execute_result"
    }
   ],
   "source": [
    "pd.DataFrame(round(data.isna().mean()*100,1)).style.background_gradient('coolwarm')"
   ]
  },
  {
   "cell_type": "markdown",
   "id": "a8af6400",
   "metadata": {},
   "source": [
    "Изменим тип данных в столбце `event_timestamp` на `datetime64`."
   ]
  },
  {
   "cell_type": "code",
   "execution_count": 9,
   "id": "2f80092c",
   "metadata": {},
   "outputs": [],
   "source": [
    "data['event_timestamp'] = pd.to_datetime(data['event_timestamp'], unit='s')"
   ]
  },
  {
   "cell_type": "code",
   "execution_count": 10,
   "id": "309b74ae",
   "metadata": {
    "scrolled": true
   },
   "outputs": [
    {
     "data": {
      "text/html": [
       "<div>\n",
       "<style scoped>\n",
       "    .dataframe tbody tr th:only-of-type {\n",
       "        vertical-align: middle;\n",
       "    }\n",
       "\n",
       "    .dataframe tbody tr th {\n",
       "        vertical-align: top;\n",
       "    }\n",
       "\n",
       "    .dataframe thead th {\n",
       "        text-align: right;\n",
       "    }\n",
       "</style>\n",
       "<table border=\"1\" class=\"dataframe\">\n",
       "  <thead>\n",
       "    <tr style=\"text-align: right;\">\n",
       "      <th></th>\n",
       "      <th>event_name</th>\n",
       "      <th>device_id_hash</th>\n",
       "      <th>event_timestamp</th>\n",
       "      <th>exp_id</th>\n",
       "    </tr>\n",
       "  </thead>\n",
       "  <tbody>\n",
       "    <tr>\n",
       "      <th>0</th>\n",
       "      <td>MainScreenAppear</td>\n",
       "      <td>4575588528974610257</td>\n",
       "      <td>2019-07-25 04:43:36</td>\n",
       "      <td>246</td>\n",
       "    </tr>\n",
       "    <tr>\n",
       "      <th>1</th>\n",
       "      <td>MainScreenAppear</td>\n",
       "      <td>7416695313311560658</td>\n",
       "      <td>2019-07-25 11:11:42</td>\n",
       "      <td>246</td>\n",
       "    </tr>\n",
       "    <tr>\n",
       "      <th>2</th>\n",
       "      <td>PaymentScreenSuccessful</td>\n",
       "      <td>3518123091307005509</td>\n",
       "      <td>2019-07-25 11:28:47</td>\n",
       "      <td>248</td>\n",
       "    </tr>\n",
       "    <tr>\n",
       "      <th>3</th>\n",
       "      <td>CartScreenAppear</td>\n",
       "      <td>3518123091307005509</td>\n",
       "      <td>2019-07-25 11:28:47</td>\n",
       "      <td>248</td>\n",
       "    </tr>\n",
       "    <tr>\n",
       "      <th>4</th>\n",
       "      <td>PaymentScreenSuccessful</td>\n",
       "      <td>6217807653094995999</td>\n",
       "      <td>2019-07-25 11:48:42</td>\n",
       "      <td>248</td>\n",
       "    </tr>\n",
       "  </tbody>\n",
       "</table>\n",
       "</div>"
      ],
      "text/plain": [
       "                event_name       device_id_hash     event_timestamp  exp_id\n",
       "0         MainScreenAppear  4575588528974610257 2019-07-25 04:43:36     246\n",
       "1         MainScreenAppear  7416695313311560658 2019-07-25 11:11:42     246\n",
       "2  PaymentScreenSuccessful  3518123091307005509 2019-07-25 11:28:47     248\n",
       "3         CartScreenAppear  3518123091307005509 2019-07-25 11:28:47     248\n",
       "4  PaymentScreenSuccessful  6217807653094995999 2019-07-25 11:48:42     248"
      ]
     },
     "execution_count": 10,
     "metadata": {},
     "output_type": "execute_result"
    }
   ],
   "source": [
    "data.head()"
   ]
  },
  {
   "cell_type": "markdown",
   "id": "801d0da9",
   "metadata": {},
   "source": [
    "Изменили тип данных в столбце `event_timestamp` на `datetime64`, пропуски отсутствуют."
   ]
  },
  {
   "cell_type": "markdown",
   "id": "0ff74175",
   "metadata": {},
   "source": [
    "### Проверим на наличие дубликатов."
   ]
  },
  {
   "cell_type": "code",
   "execution_count": 11,
   "id": "e1bbc2dc",
   "metadata": {},
   "outputs": [
    {
     "name": "stdout",
     "output_type": "stream",
     "text": [
      "Количество дубликатов - 413, доля дубликатов - 0.17%\n"
     ]
    }
   ],
   "source": [
    "print(f\"Количество дубликатов - {data.duplicated().sum()}, доля дубликатов - {round(data.duplicated().sum()/data['event_name'].count()*100, 2)}%\")"
   ]
  },
  {
   "cell_type": "markdown",
   "id": "412e28e8",
   "metadata": {},
   "source": [
    "Найдено 411 дубликатов (0,17%), удалим их и пронумеруем заново индексы."
   ]
  },
  {
   "cell_type": "code",
   "execution_count": 12,
   "id": "c05870b8",
   "metadata": {},
   "outputs": [],
   "source": [
    "data = data.drop_duplicates().reset_index(drop=True)"
   ]
  },
  {
   "cell_type": "markdown",
   "id": "3d17ac10",
   "metadata": {},
   "source": [
    "### Проверим, не пересекаются ли пользователи между группами."
   ]
  },
  {
   "cell_type": "code",
   "execution_count": 13,
   "id": "bc0737e2",
   "metadata": {},
   "outputs": [
    {
     "name": "stdout",
     "output_type": "stream",
     "text": [
      "Количество пользователей, которые входят одновременно в группы 246 и 247: 0, что составляет 0.0% от всех пользователей.\n",
      "Количество пользователей, которые входят одновременно в группы 246 и 248: 0, что составляет 0.0% от всех пользователей.\n",
      "Количество пользователей, которые входят одновременно в группы 247 и 248: 0, что составляет 0.0% от всех пользователей.\n"
     ]
    }
   ],
   "source": [
    "group_ids = [246, 247, 248]\n",
    "\n",
    "for i in range(len(group_ids)):\n",
    "    for j in range(i+1, len(group_ids)):\n",
    "        group_i = data.query(f'exp_id == {group_ids[i]}')\n",
    "        group_j = data.query(f'exp_id == {group_ids[j]}')\n",
    "        common_users = group_i.merge(group_j, how='inner', on='device_id_hash')\n",
    "        count = common_users['device_id_hash'].count()\n",
    "        share = round(common_users['device_id_hash'].nunique() / data['device_id_hash'].nunique() * 100, 1)\n",
    "        print(f\"Количество пользователей, которые входят одновременно в группы {group_ids[i]} и {group_ids[j]}: {count}, \\\n",
    "что составляет {share}% от всех пользователей.\")"
   ]
  },
  {
   "cell_type": "markdown",
   "id": "a04773cf",
   "metadata": {},
   "source": [
    "Пользователи не пересекаются между группами."
   ]
  },
  {
   "cell_type": "markdown",
   "id": "072cfb5d",
   "metadata": {},
   "source": [
    "### Добавим столбец даты и времени, а также отдельный столбец дат."
   ]
  },
  {
   "cell_type": "code",
   "execution_count": 14,
   "id": "f0fdc7e1",
   "metadata": {
    "scrolled": true
   },
   "outputs": [
    {
     "data": {
      "text/html": [
       "<div>\n",
       "<style scoped>\n",
       "    .dataframe tbody tr th:only-of-type {\n",
       "        vertical-align: middle;\n",
       "    }\n",
       "\n",
       "    .dataframe tbody tr th {\n",
       "        vertical-align: top;\n",
       "    }\n",
       "\n",
       "    .dataframe thead th {\n",
       "        text-align: right;\n",
       "    }\n",
       "</style>\n",
       "<table border=\"1\" class=\"dataframe\">\n",
       "  <thead>\n",
       "    <tr style=\"text-align: right;\">\n",
       "      <th></th>\n",
       "      <th>event_name</th>\n",
       "      <th>device_id_hash</th>\n",
       "      <th>event_timestamp</th>\n",
       "      <th>exp_id</th>\n",
       "      <th>event_ts</th>\n",
       "      <th>event_date</th>\n",
       "    </tr>\n",
       "  </thead>\n",
       "  <tbody>\n",
       "    <tr>\n",
       "      <th>0</th>\n",
       "      <td>MainScreenAppear</td>\n",
       "      <td>4575588528974610257</td>\n",
       "      <td>2019-07-25 04:43:36</td>\n",
       "      <td>246</td>\n",
       "      <td>2019-07-25 04:43:36</td>\n",
       "      <td>2019-07-25</td>\n",
       "    </tr>\n",
       "    <tr>\n",
       "      <th>1</th>\n",
       "      <td>MainScreenAppear</td>\n",
       "      <td>7416695313311560658</td>\n",
       "      <td>2019-07-25 11:11:42</td>\n",
       "      <td>246</td>\n",
       "      <td>2019-07-25 11:11:42</td>\n",
       "      <td>2019-07-25</td>\n",
       "    </tr>\n",
       "    <tr>\n",
       "      <th>2</th>\n",
       "      <td>PaymentScreenSuccessful</td>\n",
       "      <td>3518123091307005509</td>\n",
       "      <td>2019-07-25 11:28:47</td>\n",
       "      <td>248</td>\n",
       "      <td>2019-07-25 11:28:47</td>\n",
       "      <td>2019-07-25</td>\n",
       "    </tr>\n",
       "    <tr>\n",
       "      <th>3</th>\n",
       "      <td>CartScreenAppear</td>\n",
       "      <td>3518123091307005509</td>\n",
       "      <td>2019-07-25 11:28:47</td>\n",
       "      <td>248</td>\n",
       "      <td>2019-07-25 11:28:47</td>\n",
       "      <td>2019-07-25</td>\n",
       "    </tr>\n",
       "    <tr>\n",
       "      <th>4</th>\n",
       "      <td>PaymentScreenSuccessful</td>\n",
       "      <td>6217807653094995999</td>\n",
       "      <td>2019-07-25 11:48:42</td>\n",
       "      <td>248</td>\n",
       "      <td>2019-07-25 11:48:42</td>\n",
       "      <td>2019-07-25</td>\n",
       "    </tr>\n",
       "  </tbody>\n",
       "</table>\n",
       "</div>"
      ],
      "text/plain": [
       "                event_name       device_id_hash     event_timestamp  exp_id  \\\n",
       "0         MainScreenAppear  4575588528974610257 2019-07-25 04:43:36     246   \n",
       "1         MainScreenAppear  7416695313311560658 2019-07-25 11:11:42     246   \n",
       "2  PaymentScreenSuccessful  3518123091307005509 2019-07-25 11:28:47     248   \n",
       "3         CartScreenAppear  3518123091307005509 2019-07-25 11:28:47     248   \n",
       "4  PaymentScreenSuccessful  6217807653094995999 2019-07-25 11:48:42     248   \n",
       "\n",
       "             event_ts  event_date  \n",
       "0 2019-07-25 04:43:36  2019-07-25  \n",
       "1 2019-07-25 11:11:42  2019-07-25  \n",
       "2 2019-07-25 11:28:47  2019-07-25  \n",
       "3 2019-07-25 11:28:47  2019-07-25  \n",
       "4 2019-07-25 11:48:42  2019-07-25  "
      ]
     },
     "execution_count": 14,
     "metadata": {},
     "output_type": "execute_result"
    }
   ],
   "source": [
    "data['event_ts'] = data['event_timestamp']\n",
    "data['event_date'] = data['event_timestamp'].dt.date\n",
    "data.head()"
   ]
  },
  {
   "cell_type": "markdown",
   "id": "b78dea56",
   "metadata": {},
   "source": [
    "Добавили столбец даты и времени, а также отдельный столбец дат."
   ]
  },
  {
   "cell_type": "markdown",
   "id": "04f01278",
   "metadata": {},
   "source": [
    "__Промежуточный вывод:__ провели подготовку данных к анализу:  \n",
    "- Привели названия столбцов к змеиному регистру.  \n",
    "- Изменили тип данных в столбце `event_timestamp` на `datetime64`, пропуски в данных отсутствуют.  \n",
    "- Нашли 411 дубликатов (0,17%), удалили их и заново пронумеровали индексы.  \n",
    "- Проверили, что пользователи не пересекаются между группами.\n",
    "- Добавили столбец даты и времени, а также отдельный столбец дат."
   ]
  },
  {
   "cell_type": "markdown",
   "id": "4dcc3691",
   "metadata": {},
   "source": [
    "## Шаг 3. Изучение и проверка данных.\n",
    "\n",
    "### Посчитаем сколько всего событий в логе."
   ]
  },
  {
   "cell_type": "code",
   "execution_count": 15,
   "id": "e51e3426",
   "metadata": {
    "scrolled": true
   },
   "outputs": [
    {
     "data": {
      "text/plain": [
       "243713"
      ]
     },
     "execution_count": 15,
     "metadata": {},
     "output_type": "execute_result"
    }
   ],
   "source": [
    "data['event_name'].count()"
   ]
  },
  {
   "cell_type": "markdown",
   "id": "52ce6659",
   "metadata": {},
   "source": [
    "Всего 243713 событий в логе."
   ]
  },
  {
   "cell_type": "markdown",
   "id": "a6a06c80",
   "metadata": {},
   "source": [
    "### Посчитаем сколько всего пользователей в логе."
   ]
  },
  {
   "cell_type": "code",
   "execution_count": 16,
   "id": "ba48d4dd",
   "metadata": {},
   "outputs": [
    {
     "data": {
      "text/plain": [
       "7551"
      ]
     },
     "execution_count": 16,
     "metadata": {},
     "output_type": "execute_result"
    }
   ],
   "source": [
    "data['device_id_hash'].nunique()"
   ]
  },
  {
   "cell_type": "markdown",
   "id": "76d55d7d",
   "metadata": {},
   "source": [
    "Всего 7551 пользователь в логе."
   ]
  },
  {
   "cell_type": "markdown",
   "id": "4f24508e",
   "metadata": {},
   "source": [
    "### Посчитаем сколько в среднем событий приходится на пользователя."
   ]
  },
  {
   "cell_type": "code",
   "execution_count": 17,
   "id": "b5c86ae6",
   "metadata": {
    "scrolled": true
   },
   "outputs": [
    {
     "data": {
      "text/plain": [
       "32"
      ]
     },
     "execution_count": 17,
     "metadata": {},
     "output_type": "execute_result"
    }
   ],
   "source": [
    "round(data['event_name'].count()/data['device_id_hash'].nunique())"
   ]
  },
  {
   "cell_type": "markdown",
   "id": "40b7f351",
   "metadata": {},
   "source": [
    "В среднем приходится 32 события на пользователя."
   ]
  },
  {
   "cell_type": "markdown",
   "id": "384068a1",
   "metadata": {},
   "source": [
    "### Проверим существование аномальных пользователей, которые совершали очень много событий."
   ]
  },
  {
   "cell_type": "code",
   "execution_count": 18,
   "id": "df682ca4",
   "metadata": {
    "scrolled": false
   },
   "outputs": [
    {
     "data": {
      "text/plain": [
       "count    2.437130e+05\n",
       "mean     4.627963e+18\n",
       "std      2.642723e+18\n",
       "min      6.888747e+15\n",
       "25%      2.372212e+18\n",
       "50%      4.623192e+18\n",
       "75%      6.932517e+18\n",
       "max      9.222603e+18\n",
       "Name: device_id_hash, dtype: float64"
      ]
     },
     "metadata": {},
     "output_type": "display_data"
    },
    {
     "data": {
      "image/png": "[encoded data removed]",
      "text/plain": [
       "<Figure size 1000x600 with 1 Axes>"
      ]
     },
     "metadata": {},
     "output_type": "display_data"
    }
   ],
   "source": [
    "display(data['device_id_hash'].describe())\n",
    "\n",
    "data['device_id_hash'].hist(figsize=(10, 6))\n",
    "plt.xlabel('Уникальный идентификатор пользователя')\n",
    "plt.ylabel('Количество событий')\n",
    "plt.title('Количество событий на пользователей');"
   ]
  },
  {
   "cell_type": "markdown",
   "id": "f9697e3f",
   "metadata": {},
   "source": [
    "Аномальных пользователей, совершивших очень много событий, не обнаружено."
   ]
  },
  {
   "cell_type": "markdown",
   "id": "a64c98c3",
   "metadata": {},
   "source": [
    "### Найдем максимальную и минимальную дату событий."
   ]
  },
  {
   "cell_type": "code",
   "execution_count": 19,
   "id": "cd5a9b70",
   "metadata": {},
   "outputs": [
    {
     "data": {
      "text/plain": [
       "datetime.date(2019, 7, 25)"
      ]
     },
     "metadata": {},
     "output_type": "display_data"
    },
    {
     "data": {
      "text/plain": [
       "datetime.date(2019, 8, 7)"
      ]
     },
     "execution_count": 19,
     "metadata": {},
     "output_type": "execute_result"
    }
   ],
   "source": [
    "display(data['event_date'].min())\n",
    "data['event_date'].max()"
   ]
  },
  {
   "cell_type": "markdown",
   "id": "baa6035b",
   "metadata": {},
   "source": [
    "Мы располгагаем данными с 25.07.2019 по 07.08.2019."
   ]
  },
  {
   "cell_type": "markdown",
   "id": "af1dcd1e",
   "metadata": {},
   "source": [
    "### Построим гистограмму по дате и времени. Проверим, что у нас одинаково полные данные за весь период."
   ]
  },
  {
   "cell_type": "code",
   "execution_count": 20,
   "id": "a2e5ac1c",
   "metadata": {},
   "outputs": [
    {
     "data": {
      "image/png": "[encoded data removed]",
      "text/plain": [
       "<Figure size 1000x600 with 1 Axes>"
      ]
     },
     "metadata": {},
     "output_type": "display_data"
    }
   ],
   "source": [
    "data['event_ts'].hist(figsize=(10, 6), bins=14)\n",
    "plt.xlabel('Дата события')\n",
    "plt.ylabel('Количество событий')\n",
    "plt.title('Гистограмма по дате событий')\n",
    "plt.xticks(rotation=45);"
   ]
  },
  {
   "cell_type": "markdown",
   "id": "10e2a10d",
   "metadata": {},
   "source": [
    "По графику видим, что у нас одинаково полные данные с 01.08.2019 по 07.08.2019. Будем использовать их."
   ]
  },
  {
   "cell_type": "markdown",
   "id": "3e63a928",
   "metadata": {},
   "source": [
    "### Посчитаем сколько событий и пользователей мы потеряли, отбросив старые данные."
   ]
  },
  {
   "cell_type": "code",
   "execution_count": 21,
   "id": "28d237b7",
   "metadata": {},
   "outputs": [
    {
     "name": "stdout",
     "output_type": "stream",
     "text": [
      "Отбросив старые данные, мы потеряли 2826 событий (1.16%) и 17 пользователей (0.23%).\n"
     ]
    }
   ],
   "source": [
    "old_data = data.query('event_ts < \"2019-08-01\"')\n",
    "new_data = data.query('event_ts >= \"2019-08-01\"')\n",
    "\n",
    "print(f\"Отбросив старые данные, мы потеряли {old_data['event_name'].count()} событий \\\n",
    "({round(old_data['event_name'].count()/data['event_name'].count()*100, 2)}%) и \\\n",
    "{data['device_id_hash'].nunique()-new_data['device_id_hash'].nunique()} пользователей \\\n",
    "({round((data['device_id_hash'].nunique()-new_data['device_id_hash'].nunique())/data['device_id_hash'].nunique()*100, 2)}%).\")"
   ]
  },
  {
   "cell_type": "markdown",
   "id": "926a6ebe",
   "metadata": {},
   "source": [
    "Отбросив старые данные, мы потеряли 2826 событий (1.16%) и 17 пользователей (0.23%)."
   ]
  },
  {
   "cell_type": "markdown",
   "id": "1b410004",
   "metadata": {},
   "source": [
    "### Проверим, что у нас есть пользователи из всех трёх экспериментальных групп."
   ]
  },
  {
   "cell_type": "code",
   "execution_count": 23,
   "id": "0105f8a6",
   "metadata": {
    "scrolled": true
   },
   "outputs": [
    {
     "data": {
      "text/plain": [
       "exp_id\n",
       "248    84563\n",
       "246    79302\n",
       "247    77022\n",
       "Name: count, dtype: int64"
      ]
     },
     "execution_count": 23,
     "metadata": {},
     "output_type": "execute_result"
    }
   ],
   "source": [
    "new_data['exp_id'].value_counts()"
   ]
  },
  {
   "cell_type": "markdown",
   "id": "d43e6291",
   "metadata": {},
   "source": [
    "Проверили, что в новых данных для анализа имеются пользователи из всех трёх экспериментальных групп."
   ]
  },
  {
   "cell_type": "markdown",
   "id": "39af1f93",
   "metadata": {},
   "source": [
    "__Промежуточный вывод:__ изучили и проверили данные:\n",
    "- Всего 243713 событий в логе.\n",
    "- Всего 7551 пользователь в логе.\n",
    "- В среднем приходится 32 события на пользователя.\n",
    "- Аномальных пользователей, совершивших очень много событий, не обнаружено.\n",
    "- Мы располгагаем данными с 25.07.2019 по 07.08.2019.\n",
    "- По гистограмме по дате и времени видим, что у нас одинаково полные данные с 01.08.2019 по 07.08.2019.\n",
    "- Отбросив данные до 01.08.2019, мы потеряли 2826 событий (1.16%) и 17 пользователей (0.23%).\n",
    "- Проверили, что в новых данных для анализа имеются пользователи из всех трёх экспериментальных групп."
   ]
  },
  {
   "cell_type": "markdown",
   "id": "e766b7a7",
   "metadata": {},
   "source": [
    "## Шаг 4. Изучение воронки событий.\n",
    "\n",
    "### Посмотрим, какие события есть в логах, как часто они встречаются. Отсортируем события по частоте."
   ]
  },
  {
   "cell_type": "code",
   "execution_count": 24,
   "id": "bc2dc7ff",
   "metadata": {},
   "outputs": [
    {
     "data": {
      "text/plain": [
       "event_name\n",
       "MainScreenAppear           117328\n",
       "OffersScreenAppear          46333\n",
       "CartScreenAppear            42303\n",
       "PaymentScreenSuccessful     33918\n",
       "Tutorial                     1005\n",
       "Name: count, dtype: int64"
      ]
     },
     "execution_count": 24,
     "metadata": {},
     "output_type": "execute_result"
    }
   ],
   "source": [
    "new_data['event_name'].value_counts()"
   ]
  },
  {
   "cell_type": "markdown",
   "id": "027c1c28",
   "metadata": {},
   "source": [
    "Самым частым событием является показ главного экрана `MainScreenAppear` - 117328 раз, далее экран предложения `OffersScreenAppear` - 46333 раза, экран корзины `CartScreenAppear` - 42303 раза, экран успешной оплаты `PaymentScreenSuccessful` - 33918 раз. Наименее частым событием является руководство `Tutorial` - всего 1005 раз."
   ]
  },
  {
   "cell_type": "markdown",
   "id": "9ae55f79",
   "metadata": {},
   "source": [
    "### Посчитаем, сколько пользователей совершали каждое из этих событий. Отсортируем события по числу пользователей. Посчитаем долю пользователей, которые хоть раз совершали событие."
   ]
  },
  {
   "cell_type": "code",
   "execution_count": 25,
   "id": "d8940920",
   "metadata": {
    "scrolled": true
   },
   "outputs": [
    {
     "data": {
      "text/html": [
       "<div>\n",
       "<style scoped>\n",
       "    .dataframe tbody tr th:only-of-type {\n",
       "        vertical-align: middle;\n",
       "    }\n",
       "\n",
       "    .dataframe tbody tr th {\n",
       "        vertical-align: top;\n",
       "    }\n",
       "\n",
       "    .dataframe thead th {\n",
       "        text-align: right;\n",
       "    }\n",
       "</style>\n",
       "<table border=\"1\" class=\"dataframe\">\n",
       "  <thead>\n",
       "    <tr style=\"text-align: right;\">\n",
       "      <th></th>\n",
       "      <th>event_name</th>\n",
       "      <th>users_count</th>\n",
       "      <th>users_share</th>\n",
       "    </tr>\n",
       "  </thead>\n",
       "  <tbody>\n",
       "    <tr>\n",
       "      <th>0</th>\n",
       "      <td>MainScreenAppear</td>\n",
       "      <td>7419</td>\n",
       "      <td>0.98</td>\n",
       "    </tr>\n",
       "    <tr>\n",
       "      <th>1</th>\n",
       "      <td>OffersScreenAppear</td>\n",
       "      <td>4593</td>\n",
       "      <td>0.61</td>\n",
       "    </tr>\n",
       "    <tr>\n",
       "      <th>2</th>\n",
       "      <td>CartScreenAppear</td>\n",
       "      <td>3734</td>\n",
       "      <td>0.49</td>\n",
       "    </tr>\n",
       "    <tr>\n",
       "      <th>3</th>\n",
       "      <td>PaymentScreenSuccessful</td>\n",
       "      <td>3539</td>\n",
       "      <td>0.47</td>\n",
       "    </tr>\n",
       "    <tr>\n",
       "      <th>4</th>\n",
       "      <td>Tutorial</td>\n",
       "      <td>840</td>\n",
       "      <td>0.11</td>\n",
       "    </tr>\n",
       "  </tbody>\n",
       "</table>\n",
       "</div>"
      ],
      "text/plain": [
       "                event_name  users_count  users_share\n",
       "0         MainScreenAppear         7419         0.98\n",
       "1       OffersScreenAppear         4593         0.61\n",
       "2         CartScreenAppear         3734         0.49\n",
       "3  PaymentScreenSuccessful         3539         0.47\n",
       "4                 Tutorial          840         0.11"
      ]
     },
     "execution_count": 25,
     "metadata": {},
     "output_type": "execute_result"
    }
   ],
   "source": [
    "users = (\n",
    "    new_data\n",
    "    .groupby('event_name')\n",
    "    .agg({'device_id_hash': 'nunique'})\n",
    "    .sort_values(by='device_id_hash', ascending=False)\n",
    "    .rename(columns={'device_id_hash': 'users_count'})\n",
    "    .reset_index()\n",
    ")\n",
    "users['users_share'] = round(users['users_count'] / data['device_id_hash'].nunique(), 2)\n",
    "users"
   ]
  },
  {
   "cell_type": "markdown",
   "id": "088e082c",
   "metadata": {},
   "source": [
    "98% пользователей увидели главный экран приложения, 61% - экран предложения, 49% - экран корзины, 47% - экран успешной оплаты и 11% - руководство."
   ]
  },
  {
   "cell_type": "markdown",
   "id": "320c2db6",
   "metadata": {},
   "source": [
    "### Предположим, в каком порядке происходят события."
   ]
  },
  {
   "cell_type": "markdown",
   "id": "58a8db20",
   "metadata": {},
   "source": [
    "Предположим следующий порядок событий в приложении:\n",
    "\n",
    "1. Пользователь впервые открыл приложение и получил уведомление о знакомстве с руководством. Он может закрыть уведомление или прочитать руководство (событие `Tutorial`) и перейти на главный экран. Событие `Tutorial` является необязательным для работы с приложением.\n",
    "2. Пользователь увидел главный экран (событие `MainScreenAppear`), где он может выбрать нужный раздел с продуктами питания.\n",
    "3. Пользователь выбрал раздел с продуктами питания.\n",
    "4. Пользователь увидел экран предложения (событие `OffersScreenAppear`), где он может выбрать необходимое количество товаров.\n",
    "5. Пользователь нажал на кнопку \"Перейти в корзину\".\n",
    "6. Пользователь увидел экран корзины (событие `CartScreenAppear`), где он может выбрать адрес доставки и ввести способ оплаты.\n",
    "7. Пользователь ввел платежные реквизиты и нажал кнопку \"Оплатить\".\n",
    "8. Пользователь увидел экран успешной оплаты (событие `PaymentScreenSuccessful`)."
   ]
  },
  {
   "cell_type": "markdown",
   "id": "3f0bcb47",
   "metadata": {},
   "source": [
    "### По воронке событий посчитаем, какая доля пользователей проходит на следующий шаг воронки (от числа пользователей на предыдущем)."
   ]
  },
  {
   "cell_type": "markdown",
   "id": "b7b5ce5f",
   "metadata": {},
   "source": [
    "Рассчитаем доли пользователей, перешедших на следующий шаг воронки, исключив необязательное событие `Tutorial`."
   ]
  },
  {
   "cell_type": "code",
   "execution_count": 26,
   "id": "30dd510b",
   "metadata": {},
   "outputs": [
    {
     "data": {
      "text/html": [
       "<div>\n",
       "<style scoped>\n",
       "    .dataframe tbody tr th:only-of-type {\n",
       "        vertical-align: middle;\n",
       "    }\n",
       "\n",
       "    .dataframe tbody tr th {\n",
       "        vertical-align: top;\n",
       "    }\n",
       "\n",
       "    .dataframe thead th {\n",
       "        text-align: right;\n",
       "    }\n",
       "</style>\n",
       "<table border=\"1\" class=\"dataframe\">\n",
       "  <thead>\n",
       "    <tr style=\"text-align: right;\">\n",
       "      <th></th>\n",
       "      <th>event_name</th>\n",
       "      <th>users_count</th>\n",
       "      <th>users_share</th>\n",
       "      <th>conversion_rate</th>\n",
       "    </tr>\n",
       "  </thead>\n",
       "  <tbody>\n",
       "    <tr>\n",
       "      <th>0</th>\n",
       "      <td>MainScreenAppear</td>\n",
       "      <td>7419</td>\n",
       "      <td>0.98</td>\n",
       "      <td>1.00</td>\n",
       "    </tr>\n",
       "    <tr>\n",
       "      <th>1</th>\n",
       "      <td>OffersScreenAppear</td>\n",
       "      <td>4593</td>\n",
       "      <td>0.61</td>\n",
       "      <td>0.62</td>\n",
       "    </tr>\n",
       "    <tr>\n",
       "      <th>2</th>\n",
       "      <td>CartScreenAppear</td>\n",
       "      <td>3734</td>\n",
       "      <td>0.49</td>\n",
       "      <td>0.81</td>\n",
       "    </tr>\n",
       "    <tr>\n",
       "      <th>3</th>\n",
       "      <td>PaymentScreenSuccessful</td>\n",
       "      <td>3539</td>\n",
       "      <td>0.47</td>\n",
       "      <td>0.95</td>\n",
       "    </tr>\n",
       "  </tbody>\n",
       "</table>\n",
       "</div>"
      ],
      "text/plain": [
       "                event_name  users_count  users_share  conversion_rate\n",
       "0         MainScreenAppear         7419         0.98             1.00\n",
       "1       OffersScreenAppear         4593         0.61             0.62\n",
       "2         CartScreenAppear         3734         0.49             0.81\n",
       "3  PaymentScreenSuccessful         3539         0.47             0.95"
      ]
     },
     "execution_count": 26,
     "metadata": {},
     "output_type": "execute_result"
    }
   ],
   "source": [
    "users['conversion_rate'] = round(users['users_count'] / users['users_count'].shift(1), 2)\n",
    "users['conversion_rate'].fillna(1, inplace=True)  # Заменим NaN на 1\n",
    "users = users.drop(4)\n",
    "users"
   ]
  },
  {
   "cell_type": "markdown",
   "id": "30ab0507",
   "metadata": {},
   "source": [
    "62% пользователей, открывших главный экран, перешли на экран предложения, 81% пользователей перешли к экрану корзины, 95% пользователей оплатили товары в корзине."
   ]
  },
  {
   "cell_type": "markdown",
   "id": "cddd0bee",
   "metadata": {},
   "source": [
    "### На каком шаге теряем больше всего пользователей?"
   ]
  },
  {
   "cell_type": "markdown",
   "id": "44a1e1e7",
   "metadata": {},
   "source": [
    "Больше всего пользователей теряем на переходе к экрану предложения (событие `OffersScreenAppear`) - 2826 пользователей (37%)."
   ]
  },
  {
   "cell_type": "markdown",
   "id": "b6a58880",
   "metadata": {},
   "source": [
    "### Какая доля пользователей доходит от первого события до оплаты?"
   ]
  },
  {
   "cell_type": "code",
   "execution_count": 27,
   "id": "d80648b5",
   "metadata": {},
   "outputs": [
    {
     "data": {
      "text/plain": [
       "0.48"
      ]
     },
     "execution_count": 27,
     "metadata": {},
     "output_type": "execute_result"
    }
   ],
   "source": [
    "round(users.loc[3, 'users_count']/users.loc[0, 'users_count'], 2)"
   ]
  },
  {
   "cell_type": "markdown",
   "id": "a3fbb881",
   "metadata": {},
   "source": [
    "48% пользователей доходят от первого события до оплаты."
   ]
  },
  {
   "cell_type": "markdown",
   "id": "c1dc6546",
   "metadata": {},
   "source": [
    "### Построим график воронки событий по пользователям (по количеству)."
   ]
  },
  {
   "cell_type": "code",
   "execution_count": 28,
   "id": "52105a8d",
   "metadata": {},
   "outputs": [
    {
     "data": {
      "application/vnd.plotly.v1+json": {
       "config": {
        "plotlyServerURL": "https://plot.ly"
       },
       "data": [
        {
         "type": "funnel",
         "x": [
          7419,
          4593,
          3734,
          3539
         ],
         "y": [
          "MainScreenAppear",
          "OffersScreenAppear",
          "CartScreenAppear",
          "PaymentScreenSuccessful"
         ]
        }
       ],
       "layout": {
        "template": {
         "data": {
          "bar": [
           {
            "error_x": {
             "color": "#2a3f5f"
            },
            "error_y": {
             "color": "#2a3f5f"
            },
            "marker": {
             "line": {
              "color": "#E5ECF6",
              "width": 0.5
             },
             "pattern": {
              "fillmode": "overlay",
              "size": 10,
              "solidity": 0.2
             }
            },
            "type": "bar"
           }
          ],
          "barpolar": [
           {
            "marker": {
             "line": {
              "color": "#E5ECF6",
              "width": 0.5
             },
             "pattern": {
              "fillmode": "overlay",
              "size": 10,
              "solidity": 0.2
             }
            },
            "type": "barpolar"
           }
          ],
          "carpet": [
           {
            "aaxis": {
             "endlinecolor": "#2a3f5f",
             "gridcolor": "white",
             "linecolor": "white",
             "minorgridcolor": "white",
             "startlinecolor": "#2a3f5f"
            },
            "baxis": {
             "endlinecolor": "#2a3f5f",
             "gridcolor": "white",
             "linecolor": "white",
             "minorgridcolor": "white",
             "startlinecolor": "#2a3f5f"
            },
            "type": "carpet"
           }
          ],
          "choropleth": [
           {
            "colorbar": {
             "outlinewidth": 0,
             "ticks": ""
            },
            "type": "choropleth"
           }
          ],
          "contour": [
           {
            "colorbar": {
             "outlinewidth": 0,
             "ticks": ""
            },
            "colorscale": [
             [
              0,
              "#0d0887"
             ],
             [
              0.1111111111111111,
              "#46039f"
             ],
             [
              0.2222222222222222,
              "#7201a8"
             ],
             [
              0.3333333333333333,
              "#9c179e"
             ],
             [
              0.4444444444444444,
              "#bd3786"
             ],
             [
              0.5555555555555556,
              "#d8576b"
             ],
             [
              0.6666666666666666,
              "#ed7953"
             ],
             [
              0.7777777777777778,
              "#fb9f3a"
             ],
             [
              0.8888888888888888,
              "#fdca26"
             ],
             [
              1,
              "#f0f921"
             ]
            ],
            "type": "contour"
           }
          ],
          "contourcarpet": [
           {
            "colorbar": {
             "outlinewidth": 0,
             "ticks": ""
            },
            "type": "contourcarpet"
           }
          ],
          "heatmap": [
           {
            "colorbar": {
             "outlinewidth": 0,
             "ticks": ""
            },
            "colorscale": [
             [
              0,
              "#0d0887"
             ],
             [
              0.1111111111111111,
              "#46039f"
             ],
             [
              0.2222222222222222,
              "#7201a8"
             ],
             [
              0.3333333333333333,
              "#9c179e"
             ],
             [
              0.4444444444444444,
              "#bd3786"
             ],
             [
              0.5555555555555556,
              "#d8576b"
             ],
             [
              0.6666666666666666,
              "#ed7953"
             ],
             [
              0.7777777777777778,
              "#fb9f3a"
             ],
             [
              0.8888888888888888,
              "#fdca26"
             ],
             [
              1,
              "#f0f921"
             ]
            ],
            "type": "heatmap"
           }
          ],
          "heatmapgl": [
           {
            "colorbar": {
             "outlinewidth": 0,
             "ticks": ""
            },
            "colorscale": [
             [
              0,
              "#0d0887"
             ],
             [
              0.1111111111111111,
              "#46039f"
             ],
             [
              0.2222222222222222,
              "#7201a8"
             ],
             [
              0.3333333333333333,
              "#9c179e"
             ],
             [
              0.4444444444444444,
              "#bd3786"
             ],
             [
              0.5555555555555556,
              "#d8576b"
             ],
             [
              0.6666666666666666,
              "#ed7953"
             ],
             [
              0.7777777777777778,
              "#fb9f3a"
             ],
             [
              0.8888888888888888,
              "#fdca26"
             ],
             [
              1,
              "#f0f921"
             ]
            ],
            "type": "heatmapgl"
           }
          ],
          "histogram": [
           {
            "marker": {
             "pattern": {
              "fillmode": "overlay",
              "size": 10,
              "solidity": 0.2
             }
            },
            "type": "histogram"
           }
          ],
          "histogram2d": [
           {
            "colorbar": {
             "outlinewidth": 0,
             "ticks": ""
            },
            "colorscale": [
             [
              0,
              "#0d0887"
             ],
             [
              0.1111111111111111,
              "#46039f"
             ],
             [
              0.2222222222222222,
              "#7201a8"
             ],
             [
              0.3333333333333333,
              "#9c179e"
             ],
             [
              0.4444444444444444,
              "#bd3786"
             ],
             [
              0.5555555555555556,
              "#d8576b"
             ],
             [
              0.6666666666666666,
              "#ed7953"
             ],
             [
              0.7777777777777778,
              "#fb9f3a"
             ],
             [
              0.8888888888888888,
              "#fdca26"
             ],
             [
              1,
              "#f0f921"
             ]
            ],
            "type": "histogram2d"
           }
          ],
          "histogram2dcontour": [
           {
            "colorbar": {
             "outlinewidth": 0,
             "ticks": ""
            },
            "colorscale": [
             [
              0,
              "#0d0887"
             ],
             [
              0.1111111111111111,
              "#46039f"
             ],
             [
              0.2222222222222222,
              "#7201a8"
             ],
             [
              0.3333333333333333,
              "#9c179e"
             ],
             [
              0.4444444444444444,
              "#bd3786"
             ],
             [
              0.5555555555555556,
              "#d8576b"
             ],
             [
              0.6666666666666666,
              "#ed7953"
             ],
             [
              0.7777777777777778,
              "#fb9f3a"
             ],
             [
              0.8888888888888888,
              "#fdca26"
             ],
             [
              1,
              "#f0f921"
             ]
            ],
            "type": "histogram2dcontour"
           }
          ],
          "mesh3d": [
           {
            "colorbar": {
             "outlinewidth": 0,
             "ticks": ""
            },
            "type": "mesh3d"
           }
          ],
          "parcoords": [
           {
            "line": {
             "colorbar": {
              "outlinewidth": 0,
              "ticks": ""
             }
            },
            "type": "parcoords"
           }
          ],
          "pie": [
           {
            "automargin": true,
            "type": "pie"
           }
          ],
          "scatter": [
           {
            "fillpattern": {
             "fillmode": "overlay",
             "size": 10,
             "solidity": 0.2
            },
            "type": "scatter"
           }
          ],
          "scatter3d": [
           {
            "line": {
             "colorbar": {
              "outlinewidth": 0,
              "ticks": ""
             }
            },
            "marker": {
             "colorbar": {
              "outlinewidth": 0,
              "ticks": ""
             }
            },
            "type": "scatter3d"
           }
          ],
          "scattercarpet": [
           {
            "marker": {
             "colorbar": {
              "outlinewidth": 0,
              "ticks": ""
             }
            },
            "type": "scattercarpet"
           }
          ],
          "scattergeo": [
           {
            "marker": {
             "colorbar": {
              "outlinewidth": 0,
              "ticks": ""
             }
            },
            "type": "scattergeo"
           }
          ],
          "scattergl": [
           {
            "marker": {
             "colorbar": {
              "outlinewidth": 0,
              "ticks": ""
             }
            },
            "type": "scattergl"
           }
          ],
          "scattermapbox": [
           {
            "marker": {
             "colorbar": {
              "outlinewidth": 0,
              "ticks": ""
             }
            },
            "type": "scattermapbox"
           }
          ],
          "scatterpolar": [
           {
            "marker": {
             "colorbar": {
              "outlinewidth": 0,
              "ticks": ""
             }
            },
            "type": "scatterpolar"
           }
          ],
          "scatterpolargl": [
           {
            "marker": {
             "colorbar": {
              "outlinewidth": 0,
              "ticks": ""
             }
            },
            "type": "scatterpolargl"
           }
          ],
          "scatterternary": [
           {
            "marker": {
             "colorbar": {
              "outlinewidth": 0,
              "ticks": ""
             }
            },
            "type": "scatterternary"
           }
          ],
          "surface": [
           {
            "colorbar": {
             "outlinewidth": 0,
             "ticks": ""
            },
            "colorscale": [
             [
              0,
              "#0d0887"
             ],
             [
              0.1111111111111111,
              "#46039f"
             ],
             [
              0.2222222222222222,
              "#7201a8"
             ],
             [
              0.3333333333333333,
              "#9c179e"
             ],
             [
              0.4444444444444444,
              "#bd3786"
             ],
             [
              0.5555555555555556,
              "#d8576b"
             ],
             [
              0.6666666666666666,
              "#ed7953"
             ],
             [
              0.7777777777777778,
              "#fb9f3a"
             ],
             [
              0.8888888888888888,
              "#fdca26"
             ],
             [
              1,
              "#f0f921"
             ]
            ],
            "type": "surface"
           }
          ],
          "table": [
           {
            "cells": {
             "fill": {
              "color": "#EBF0F8"
             },
             "line": {
              "color": "white"
             }
            },
            "header": {
             "fill": {
              "color": "#C8D4E3"
             },
             "line": {
              "color": "white"
             }
            },
            "type": "table"
           }
          ]
         },
         "layout": {
          "annotationdefaults": {
           "arrowcolor": "#2a3f5f",
           "arrowhead": 0,
           "arrowwidth": 1
          },
          "autotypenumbers": "strict",
          "coloraxis": {
           "colorbar": {
            "outlinewidth": 0,
            "ticks": ""
           }
          },
          "colorscale": {
           "diverging": [
            [
             0,
             "#8e0152"
            ],
            [
             0.1,
             "#c51b7d"
            ],
            [
             0.2,
             "#de77ae"
            ],
            [
             0.3,
             "#f1b6da"
            ],
            [
             0.4,
             "#fde0ef"
            ],
            [
             0.5,
             "#f7f7f7"
            ],
            [
             0.6,
             "#e6f5d0"
            ],
            [
             0.7,
             "#b8e186"
            ],
            [
             0.8,
             "#7fbc41"
            ],
            [
             0.9,
             "#4d9221"
            ],
            [
             1,
             "#276419"
            ]
           ],
           "sequential": [
            [
             0,
             "#0d0887"
            ],
            [
             0.1111111111111111,
             "#46039f"
            ],
            [
             0.2222222222222222,
             "#7201a8"
            ],
            [
             0.3333333333333333,
             "#9c179e"
            ],
            [
             0.4444444444444444,
             "#bd3786"
            ],
            [
             0.5555555555555556,
             "#d8576b"
            ],
            [
             0.6666666666666666,
             "#ed7953"
            ],
            [
             0.7777777777777778,
             "#fb9f3a"
            ],
            [
             0.8888888888888888,
             "#fdca26"
            ],
            [
             1,
             "#f0f921"
            ]
           ],
           "sequentialminus": [
            [
             0,
             "#0d0887"
            ],
            [
             0.1111111111111111,
             "#46039f"
            ],
            [
             0.2222222222222222,
             "#7201a8"
            ],
            [
             0.3333333333333333,
             "#9c179e"
            ],
            [
             0.4444444444444444,
             "#bd3786"
            ],
            [
             0.5555555555555556,
             "#d8576b"
            ],
            [
             0.6666666666666666,
             "#ed7953"
            ],
            [
             0.7777777777777778,
             "#fb9f3a"
            ],
            [
             0.8888888888888888,
             "#fdca26"
            ],
            [
             1,
             "#f0f921"
            ]
           ]
          },
          "colorway": [
           "#636efa",
           "#EF553B",
           "#00cc96",
           "#ab63fa",
           "#FFA15A",
           "#19d3f3",
           "#FF6692",
           "#B6E880",
           "#FF97FF",
           "#FECB52"
          ],
          "font": {
           "color": "#2a3f5f"
          },
          "geo": {
           "bgcolor": "white",
           "lakecolor": "white",
           "landcolor": "#E5ECF6",
           "showlakes": true,
           "showland": true,
           "subunitcolor": "white"
          },
          "hoverlabel": {
           "align": "left"
          },
          "hovermode": "closest",
          "mapbox": {
           "style": "light"
          },
          "paper_bgcolor": "white",
          "plot_bgcolor": "#E5ECF6",
          "polar": {
           "angularaxis": {
            "gridcolor": "white",
            "linecolor": "white",
            "ticks": ""
           },
           "bgcolor": "#E5ECF6",
           "radialaxis": {
            "gridcolor": "white",
            "linecolor": "white",
            "ticks": ""
           }
          },
          "scene": {
           "xaxis": {
            "backgroundcolor": "#E5ECF6",
            "gridcolor": "white",
            "gridwidth": 2,
            "linecolor": "white",
            "showbackground": true,
            "ticks": "",
            "zerolinecolor": "white"
           },
           "yaxis": {
            "backgroundcolor": "#E5ECF6",
            "gridcolor": "white",
            "gridwidth": 2,
            "linecolor": "white",
            "showbackground": true,
            "ticks": "",
            "zerolinecolor": "white"
           },
           "zaxis": {
            "backgroundcolor": "#E5ECF6",
            "gridcolor": "white",
            "gridwidth": 2,
            "linecolor": "white",
            "showbackground": true,
            "ticks": "",
            "zerolinecolor": "white"
           }
          },
          "shapedefaults": {
           "line": {
            "color": "#2a3f5f"
           }
          },
          "ternary": {
           "aaxis": {
            "gridcolor": "white",
            "linecolor": "white",
            "ticks": ""
           },
           "baxis": {
            "gridcolor": "white",
            "linecolor": "white",
            "ticks": ""
           },
           "bgcolor": "#E5ECF6",
           "caxis": {
            "gridcolor": "white",
            "linecolor": "white",
            "ticks": ""
           }
          },
          "title": {
           "x": 0.05
          },
          "xaxis": {
           "automargin": true,
           "gridcolor": "white",
           "linecolor": "white",
           "ticks": "",
           "title": {
            "standoff": 15
           },
           "zerolinecolor": "white",
           "zerolinewidth": 2
          },
          "yaxis": {
           "automargin": true,
           "gridcolor": "white",
           "linecolor": "white",
           "ticks": "",
           "title": {
            "standoff": 15
           },
           "zerolinecolor": "white",
           "zerolinewidth": 2
          }
         }
        },
        "title": {
         "text": "Воронка событий"
        }
       }
      },
      "text/html": [
       "<div>                            <div id=\"c72a13c5-a2ae-4575-a6c7-a8a1e0e91556\" class=\"plotly-graph-div\" style=\"height:525px; width:100%;\"></div>            <script type=\"text/javascript\">                require([\"plotly\"], function(Plotly) {                    window.PLOTLYENV=window.PLOTLYENV || {};                                    if (document.getElementById(\"c72a13c5-a2ae-4575-a6c7-a8a1e0e91556\")) {                    Plotly.newPlot(                        \"c72a13c5-a2ae-4575-a6c7-a8a1e0e91556\",                        [{\"x\":[7419,4593,3734,3539],\"y\":[\"MainScreenAppear\",\"OffersScreenAppear\",\"CartScreenAppear\",\"PaymentScreenSuccessful\"],\"type\":\"funnel\"}],                        {\"template\":{\"data\":{\"histogram2dcontour\":[{\"type\":\"histogram2dcontour\",\"colorbar\":{\"outlinewidth\":0,\"ticks\":\"\"},\"colorscale\":[[0.0,\"#0d0887\"],[0.1111111111111111,\"#46039f\"],[0.2222222222222222,\"#7201a8\"],[0.3333333333333333,\"#9c179e\"],[0.4444444444444444,\"#bd3786\"],[0.5555555555555556,\"#d8576b\"],[0.6666666666666666,\"#ed7953\"],[0.7777777777777778,\"#fb9f3a\"],[0.8888888888888888,\"#fdca26\"],[1.0,\"#f0f921\"]]}],\"choropleth\":[{\"type\":\"choropleth\",\"colorbar\":{\"outlinewidth\":0,\"ticks\":\"\"}}],\"histogram2d\":[{\"type\":\"histogram2d\",\"colorbar\":{\"outlinewidth\":0,\"ticks\":\"\"},\"colorscale\":[[0.0,\"#0d0887\"],[0.1111111111111111,\"#46039f\"],[0.2222222222222222,\"#7201a8\"],[0.3333333333333333,\"#9c179e\"],[0.4444444444444444,\"#bd3786\"],[0.5555555555555556,\"#d8576b\"],[0.6666666666666666,\"#ed7953\"],[0.7777777777777778,\"#fb9f3a\"],[0.8888888888888888,\"#fdca26\"],[1.0,\"#f0f921\"]]}],\"heatmap\":[{\"type\":\"heatmap\",\"colorbar\":{\"outlinewidth\":0,\"ticks\":\"\"},\"colorscale\":[[0.0,\"#0d0887\"],[0.1111111111111111,\"#46039f\"],[0.2222222222222222,\"#7201a8\"],[0.3333333333333333,\"#9c179e\"],[0.4444444444444444,\"#bd3786\"],[0.5555555555555556,\"#d8576b\"],[0.6666666666666666,\"#ed7953\"],[0.7777777777777778,\"#fb9f3a\"],[0.8888888888888888,\"#fdca26\"],[1.0,\"#f0f921\"]]}],\"heatmapgl\":[{\"type\":\"heatmapgl\",\"colorbar\":{\"outlinewidth\":0,\"ticks\":\"\"},\"colorscale\":[[0.0,\"#0d0887\"],[0.1111111111111111,\"#46039f\"],[0.2222222222222222,\"#7201a8\"],[0.3333333333333333,\"#9c179e\"],[0.4444444444444444,\"#bd3786\"],[0.5555555555555556,\"#d8576b\"],[0.6666666666666666,\"#ed7953\"],[0.7777777777777778,\"#fb9f3a\"],[0.8888888888888888,\"#fdca26\"],[1.0,\"#f0f921\"]]}],\"contourcarpet\":[{\"type\":\"contourcarpet\",\"colorbar\":{\"outlinewidth\":0,\"ticks\":\"\"}}],\"contour\":[{\"type\":\"contour\",\"colorbar\":{\"outlinewidth\":0,\"ticks\":\"\"},\"colorscale\":[[0.0,\"#0d0887\"],[0.1111111111111111,\"#46039f\"],[0.2222222222222222,\"#7201a8\"],[0.3333333333333333,\"#9c179e\"],[0.4444444444444444,\"#bd3786\"],[0.5555555555555556,\"#d8576b\"],[0.6666666666666666,\"#ed7953\"],[0.7777777777777778,\"#fb9f3a\"],[0.8888888888888888,\"#fdca26\"],[1.0,\"#f0f921\"]]}],\"surface\":[{\"type\":\"surface\",\"colorbar\":{\"outlinewidth\":0,\"ticks\":\"\"},\"colorscale\":[[0.0,\"#0d0887\"],[0.1111111111111111,\"#46039f\"],[0.2222222222222222,\"#7201a8\"],[0.3333333333333333,\"#9c179e\"],[0.4444444444444444,\"#bd3786\"],[0.5555555555555556,\"#d8576b\"],[0.6666666666666666,\"#ed7953\"],[0.7777777777777778,\"#fb9f3a\"],[0.8888888888888888,\"#fdca26\"],[1.0,\"#f0f921\"]]}],\"mesh3d\":[{\"type\":\"mesh3d\",\"colorbar\":{\"outlinewidth\":0,\"ticks\":\"\"}}],\"scatter\":[{\"fillpattern\":{\"fillmode\":\"overlay\",\"size\":10,\"solidity\":0.2},\"type\":\"scatter\"}],\"parcoords\":[{\"type\":\"parcoords\",\"line\":{\"colorbar\":{\"outlinewidth\":0,\"ticks\":\"\"}}}],\"scatterpolargl\":[{\"type\":\"scatterpolargl\",\"marker\":{\"colorbar\":{\"outlinewidth\":0,\"ticks\":\"\"}}}],\"bar\":[{\"error_x\":{\"color\":\"#2a3f5f\"},\"error_y\":{\"color\":\"#2a3f5f\"},\"marker\":{\"line\":{\"color\":\"#E5ECF6\",\"width\":0.5},\"pattern\":{\"fillmode\":\"overlay\",\"size\":10,\"solidity\":0.2}},\"type\":\"bar\"}],\"scattergeo\":[{\"type\":\"scattergeo\",\"marker\":{\"colorbar\":{\"outlinewidth\":0,\"ticks\":\"\"}}}],\"scatterpolar\":[{\"type\":\"scatterpolar\",\"marker\":{\"colorbar\":{\"outlinewidth\":0,\"ticks\":\"\"}}}],\"histogram\":[{\"marker\":{\"pattern\":{\"fillmode\":\"overlay\",\"size\":10,\"solidity\":0.2}},\"type\":\"histogram\"}],\"scattergl\":[{\"type\":\"scattergl\",\"marker\":{\"colorbar\":{\"outlinewidth\":0,\"ticks\":\"\"}}}],\"scatter3d\":[{\"type\":\"scatter3d\",\"line\":{\"colorbar\":{\"outlinewidth\":0,\"ticks\":\"\"}},\"marker\":{\"colorbar\":{\"outlinewidth\":0,\"ticks\":\"\"}}}],\"scattermapbox\":[{\"type\":\"scattermapbox\",\"marker\":{\"colorbar\":{\"outlinewidth\":0,\"ticks\":\"\"}}}],\"scatterternary\":[{\"type\":\"scatterternary\",\"marker\":{\"colorbar\":{\"outlinewidth\":0,\"ticks\":\"\"}}}],\"scattercarpet\":[{\"type\":\"scattercarpet\",\"marker\":{\"colorbar\":{\"outlinewidth\":0,\"ticks\":\"\"}}}],\"carpet\":[{\"aaxis\":{\"endlinecolor\":\"#2a3f5f\",\"gridcolor\":\"white\",\"linecolor\":\"white\",\"minorgridcolor\":\"white\",\"startlinecolor\":\"#2a3f5f\"},\"baxis\":{\"endlinecolor\":\"#2a3f5f\",\"gridcolor\":\"white\",\"linecolor\":\"white\",\"minorgridcolor\":\"white\",\"startlinecolor\":\"#2a3f5f\"},\"type\":\"carpet\"}],\"table\":[{\"cells\":{\"fill\":{\"color\":\"#EBF0F8\"},\"line\":{\"color\":\"white\"}},\"header\":{\"fill\":{\"color\":\"#C8D4E3\"},\"line\":{\"color\":\"white\"}},\"type\":\"table\"}],\"barpolar\":[{\"marker\":{\"line\":{\"color\":\"#E5ECF6\",\"width\":0.5},\"pattern\":{\"fillmode\":\"overlay\",\"size\":10,\"solidity\":0.2}},\"type\":\"barpolar\"}],\"pie\":[{\"automargin\":true,\"type\":\"pie\"}]},\"layout\":{\"autotypenumbers\":\"strict\",\"colorway\":[\"#636efa\",\"#EF553B\",\"#00cc96\",\"#ab63fa\",\"#FFA15A\",\"#19d3f3\",\"#FF6692\",\"#B6E880\",\"#FF97FF\",\"#FECB52\"],\"font\":{\"color\":\"#2a3f5f\"},\"hovermode\":\"closest\",\"hoverlabel\":{\"align\":\"left\"},\"paper_bgcolor\":\"white\",\"plot_bgcolor\":\"#E5ECF6\",\"polar\":{\"bgcolor\":\"#E5ECF6\",\"angularaxis\":{\"gridcolor\":\"white\",\"linecolor\":\"white\",\"ticks\":\"\"},\"radialaxis\":{\"gridcolor\":\"white\",\"linecolor\":\"white\",\"ticks\":\"\"}},\"ternary\":{\"bgcolor\":\"#E5ECF6\",\"aaxis\":{\"gridcolor\":\"white\",\"linecolor\":\"white\",\"ticks\":\"\"},\"baxis\":{\"gridcolor\":\"white\",\"linecolor\":\"white\",\"ticks\":\"\"},\"caxis\":{\"gridcolor\":\"white\",\"linecolor\":\"white\",\"ticks\":\"\"}},\"coloraxis\":{\"colorbar\":{\"outlinewidth\":0,\"ticks\":\"\"}},\"colorscale\":{\"sequential\":[[0.0,\"#0d0887\"],[0.1111111111111111,\"#46039f\"],[0.2222222222222222,\"#7201a8\"],[0.3333333333333333,\"#9c179e\"],[0.4444444444444444,\"#bd3786\"],[0.5555555555555556,\"#d8576b\"],[0.6666666666666666,\"#ed7953\"],[0.7777777777777778,\"#fb9f3a\"],[0.8888888888888888,\"#fdca26\"],[1.0,\"#f0f921\"]],\"sequentialminus\":[[0.0,\"#0d0887\"],[0.1111111111111111,\"#46039f\"],[0.2222222222222222,\"#7201a8\"],[0.3333333333333333,\"#9c179e\"],[0.4444444444444444,\"#bd3786\"],[0.5555555555555556,\"#d8576b\"],[0.6666666666666666,\"#ed7953\"],[0.7777777777777778,\"#fb9f3a\"],[0.8888888888888888,\"#fdca26\"],[1.0,\"#f0f921\"]],\"diverging\":[[0,\"#8e0152\"],[0.1,\"#c51b7d\"],[0.2,\"#de77ae\"],[0.3,\"#f1b6da\"],[0.4,\"#fde0ef\"],[0.5,\"#f7f7f7\"],[0.6,\"#e6f5d0\"],[0.7,\"#b8e186\"],[0.8,\"#7fbc41\"],[0.9,\"#4d9221\"],[1,\"#276419\"]]},\"xaxis\":{\"gridcolor\":\"white\",\"linecolor\":\"white\",\"ticks\":\"\",\"title\":{\"standoff\":15},\"zerolinecolor\":\"white\",\"automargin\":true,\"zerolinewidth\":2},\"yaxis\":{\"gridcolor\":\"white\",\"linecolor\":\"white\",\"ticks\":\"\",\"title\":{\"standoff\":15},\"zerolinecolor\":\"white\",\"automargin\":true,\"zerolinewidth\":2},\"scene\":{\"xaxis\":{\"backgroundcolor\":\"#E5ECF6\",\"gridcolor\":\"white\",\"linecolor\":\"white\",\"showbackground\":true,\"ticks\":\"\",\"zerolinecolor\":\"white\",\"gridwidth\":2},\"yaxis\":{\"backgroundcolor\":\"#E5ECF6\",\"gridcolor\":\"white\",\"linecolor\":\"white\",\"showbackground\":true,\"ticks\":\"\",\"zerolinecolor\":\"white\",\"gridwidth\":2},\"zaxis\":{\"backgroundcolor\":\"#E5ECF6\",\"gridcolor\":\"white\",\"linecolor\":\"white\",\"showbackground\":true,\"ticks\":\"\",\"zerolinecolor\":\"white\",\"gridwidth\":2}},\"shapedefaults\":{\"line\":{\"color\":\"#2a3f5f\"}},\"annotationdefaults\":{\"arrowcolor\":\"#2a3f5f\",\"arrowhead\":0,\"arrowwidth\":1},\"geo\":{\"bgcolor\":\"white\",\"landcolor\":\"#E5ECF6\",\"subunitcolor\":\"white\",\"showland\":true,\"showlakes\":true,\"lakecolor\":\"white\"},\"title\":{\"x\":0.05},\"mapbox\":{\"style\":\"light\"}}},\"title\":{\"text\":\"\\u0412\\u043e\\u0440\\u043e\\u043d\\u043a\\u0430 \\u0441\\u043e\\u0431\\u044b\\u0442\\u0438\\u0439\"}},                        {\"responsive\": true}                    ).then(function(){\n",
       "                            \n",
       "var gd = document.getElementById('c72a13c5-a2ae-4575-a6c7-a8a1e0e91556');\n",
       "var x = new MutationObserver(function (mutations, observer) {{\n",
       "        var display = window.getComputedStyle(gd).display;\n",
       "        if (!display || display === 'none') {{\n",
       "            console.log([gd, 'removed!']);\n",
       "            Plotly.purge(gd);\n",
       "            observer.disconnect();\n",
       "        }}\n",
       "}});\n",
       "\n",
       "// Listen for the removal of the full notebook cells\n",
       "var notebookContainer = gd.closest('#notebook-container');\n",
       "if (notebookContainer) {{\n",
       "    x.observe(notebookContainer, {childList: true});\n",
       "}}\n",
       "\n",
       "// Listen for the clearing of the current output cell\n",
       "var outputEl = gd.closest('.output');\n",
       "if (outputEl) {{\n",
       "    x.observe(outputEl, {childList: true});\n",
       "}}\n",
       "\n",
       "                        })                };                });            </script>        </div>"
      ]
     },
     "metadata": {},
     "output_type": "display_data"
    }
   ],
   "source": [
    "fig = go.Figure(go.Funnel(\n",
    "    y = users['event_name'],\n",
    "    x = users['users_count'])\n",
    "    )\n",
    "fig.update_layout(title=\"Воронка событий\")\n",
    "fig.show()"
   ]
  },
  {
   "cell_type": "markdown",
   "id": "c2ec46c2",
   "metadata": {},
   "source": [
    "__Промежуточный вывод:__ изучили воронку событий:\n",
    "- Самым частым событием является показ главного экрана `MainScreenAppear` - 117328 раз, далее экран предложения `OffersScreenAppear` - 46333 раза, экран корзины `CartScreenAppear` - 42303 раза, экран успешной оплаты `PaymentScreenSuccessful` - 33918 раз. Наименее частым событием является руководство `Tutorial` - всего 1005 раз.\n",
    "- 98% пользователей увидели главный экран приложения, 61% - экран предложения, 49% - экран корзины, 47% - экран успешной оплаты и 11% - руководство.\n",
    "- Предположили следующий порядок событий в приложении:\n",
    "    1. Пользователь впервые открыл приложение и получил уведомление о знакомстве с руководством. Он может закрыть уведомление или прочитать руководство (событие `Tutorial`) и перейти на главный экран. Событие `Tutorial` является необязательным для работы с приложением.\n",
    "    2. Пользователь увидел главный экран (событие `MainScreenAppear`), где он может выбрать нужный раздел с продуктами питания.\n",
    "    3. Пользователь выбрал раздел с продуктами питания.\n",
    "    4. Пользователь увидел экран предложения (событие `OffersScreenAppear`), где он может выбрать необходимое количество товаров.\n",
    "    5. Пользователь нажал на кнопку \"Перейти в корзину\".\n",
    "    6. Пользователь увидел экран корзины (событие `CartScreenAppear`), где он может выбрать адрес доставки и ввести способ оплаты.\n",
    "    7. Пользователь ввел платежные реквизиты и нажал кнопку \"Оплатить\".\n",
    "    8. Пользователь увидел экран успешной оплаты (событие `PaymentScreenSuccessful`).\n",
    "- 62% пользователей, открывших главный экран, перешли на экран предложения, 81% пользователей перешли к экрану корзины, 95% пользователей оплатили товары в корзине.\n",
    "- Больше всего пользователей теряем на переходе к экрану предложения (событие `OffersScreenAppear`) - 2826 пользователей (37%).\n",
    "- 48% пользователей доходят от первого события до оплаты."
   ]
  },
  {
   "cell_type": "markdown",
   "id": "1dff035a",
   "metadata": {},
   "source": [
    "## Шаг 5. Изучение результатов эксперимента."
   ]
  },
  {
   "cell_type": "code",
   "execution_count": 29,
   "id": "c8a6fd43",
   "metadata": {},
   "outputs": [],
   "source": [
    "# Напишем функцию для расчета доли пользователей, перешедших на следующий шаг воронки, для каждой из групп\n",
    "def conversion_rate(group):\n",
    "    users = (\n",
    "        data\n",
    "        .query('exp_id == @group')\n",
    "        .groupby('event_name')\n",
    "        .agg({'device_id_hash': 'nunique'})\n",
    "        .sort_values(by='device_id_hash', ascending=False)\n",
    "        .rename(columns={'device_id_hash': 'users_count'})\n",
    "        .reset_index()\n",
    "        .drop(4)\n",
    "    )\n",
    "    users['users_share'] = round(users['users_count'] / data['device_id_hash'].nunique(), 2)\n",
    "    users['conversion_rate'] = round(users['users_count'] / users['users_count'].shift(1), 2)\n",
    "    users['conversion_rate'].fillna(1, inplace=True)  # Заменим NaN на 1\n",
    "    return users"
   ]
  },
  {
   "cell_type": "markdown",
   "id": "af37236c",
   "metadata": {},
   "source": [
    "Посчитаем, какая доля пользователей проходит на следующий шаг воронки для каждой из групп."
   ]
  },
  {
   "cell_type": "code",
   "execution_count": 30,
   "id": "0bbf98a2",
   "metadata": {},
   "outputs": [
    {
     "data": {
      "text/html": [
       "<div>\n",
       "<style scoped>\n",
       "    .dataframe tbody tr th:only-of-type {\n",
       "        vertical-align: middle;\n",
       "    }\n",
       "\n",
       "    .dataframe tbody tr th {\n",
       "        vertical-align: top;\n",
       "    }\n",
       "\n",
       "    .dataframe thead th {\n",
       "        text-align: right;\n",
       "    }\n",
       "</style>\n",
       "<table border=\"1\" class=\"dataframe\">\n",
       "  <thead>\n",
       "    <tr style=\"text-align: right;\">\n",
       "      <th></th>\n",
       "      <th>event_name</th>\n",
       "      <th>users_count</th>\n",
       "      <th>users_share</th>\n",
       "      <th>conversion_rate</th>\n",
       "    </tr>\n",
       "  </thead>\n",
       "  <tbody>\n",
       "    <tr>\n",
       "      <th>0</th>\n",
       "      <td>MainScreenAppear</td>\n",
       "      <td>2456</td>\n",
       "      <td>0.33</td>\n",
       "      <td>1.00</td>\n",
       "    </tr>\n",
       "    <tr>\n",
       "      <th>1</th>\n",
       "      <td>OffersScreenAppear</td>\n",
       "      <td>1545</td>\n",
       "      <td>0.20</td>\n",
       "      <td>0.63</td>\n",
       "    </tr>\n",
       "    <tr>\n",
       "      <th>2</th>\n",
       "      <td>CartScreenAppear</td>\n",
       "      <td>1270</td>\n",
       "      <td>0.17</td>\n",
       "      <td>0.82</td>\n",
       "    </tr>\n",
       "    <tr>\n",
       "      <th>3</th>\n",
       "      <td>PaymentScreenSuccessful</td>\n",
       "      <td>1202</td>\n",
       "      <td>0.16</td>\n",
       "      <td>0.95</td>\n",
       "    </tr>\n",
       "  </tbody>\n",
       "</table>\n",
       "</div>"
      ],
      "text/plain": [
       "                event_name  users_count  users_share  conversion_rate\n",
       "0         MainScreenAppear         2456         0.33             1.00\n",
       "1       OffersScreenAppear         1545         0.20             0.63\n",
       "2         CartScreenAppear         1270         0.17             0.82\n",
       "3  PaymentScreenSuccessful         1202         0.16             0.95"
      ]
     },
     "execution_count": 30,
     "metadata": {},
     "output_type": "execute_result"
    }
   ],
   "source": [
    "conversion_rate(246)"
   ]
  },
  {
   "cell_type": "code",
   "execution_count": 31,
   "id": "1efe676a",
   "metadata": {},
   "outputs": [
    {
     "data": {
      "text/html": [
       "<div>\n",
       "<style scoped>\n",
       "    .dataframe tbody tr th:only-of-type {\n",
       "        vertical-align: middle;\n",
       "    }\n",
       "\n",
       "    .dataframe tbody tr th {\n",
       "        vertical-align: top;\n",
       "    }\n",
       "\n",
       "    .dataframe thead th {\n",
       "        text-align: right;\n",
       "    }\n",
       "</style>\n",
       "<table border=\"1\" class=\"dataframe\">\n",
       "  <thead>\n",
       "    <tr style=\"text-align: right;\">\n",
       "      <th></th>\n",
       "      <th>event_name</th>\n",
       "      <th>users_count</th>\n",
       "      <th>users_share</th>\n",
       "      <th>conversion_rate</th>\n",
       "    </tr>\n",
       "  </thead>\n",
       "  <tbody>\n",
       "    <tr>\n",
       "      <th>0</th>\n",
       "      <td>MainScreenAppear</td>\n",
       "      <td>2482</td>\n",
       "      <td>0.33</td>\n",
       "      <td>1.00</td>\n",
       "    </tr>\n",
       "    <tr>\n",
       "      <th>1</th>\n",
       "      <td>OffersScreenAppear</td>\n",
       "      <td>1530</td>\n",
       "      <td>0.20</td>\n",
       "      <td>0.62</td>\n",
       "    </tr>\n",
       "    <tr>\n",
       "      <th>2</th>\n",
       "      <td>CartScreenAppear</td>\n",
       "      <td>1240</td>\n",
       "      <td>0.16</td>\n",
       "      <td>0.81</td>\n",
       "    </tr>\n",
       "    <tr>\n",
       "      <th>3</th>\n",
       "      <td>PaymentScreenSuccessful</td>\n",
       "      <td>1160</td>\n",
       "      <td>0.15</td>\n",
       "      <td>0.94</td>\n",
       "    </tr>\n",
       "  </tbody>\n",
       "</table>\n",
       "</div>"
      ],
      "text/plain": [
       "                event_name  users_count  users_share  conversion_rate\n",
       "0         MainScreenAppear         2482         0.33             1.00\n",
       "1       OffersScreenAppear         1530         0.20             0.62\n",
       "2         CartScreenAppear         1240         0.16             0.81\n",
       "3  PaymentScreenSuccessful         1160         0.15             0.94"
      ]
     },
     "execution_count": 31,
     "metadata": {},
     "output_type": "execute_result"
    }
   ],
   "source": [
    "conversion_rate(247)"
   ]
  },
  {
   "cell_type": "code",
   "execution_count": 32,
   "id": "37a178b1",
   "metadata": {
    "scrolled": true
   },
   "outputs": [
    {
     "data": {
      "text/html": [
       "<div>\n",
       "<style scoped>\n",
       "    .dataframe tbody tr th:only-of-type {\n",
       "        vertical-align: middle;\n",
       "    }\n",
       "\n",
       "    .dataframe tbody tr th {\n",
       "        vertical-align: top;\n",
       "    }\n",
       "\n",
       "    .dataframe thead th {\n",
       "        text-align: right;\n",
       "    }\n",
       "</style>\n",
       "<table border=\"1\" class=\"dataframe\">\n",
       "  <thead>\n",
       "    <tr style=\"text-align: right;\">\n",
       "      <th></th>\n",
       "      <th>event_name</th>\n",
       "      <th>users_count</th>\n",
       "      <th>users_share</th>\n",
       "      <th>conversion_rate</th>\n",
       "    </tr>\n",
       "  </thead>\n",
       "  <tbody>\n",
       "    <tr>\n",
       "      <th>0</th>\n",
       "      <td>MainScreenAppear</td>\n",
       "      <td>2501</td>\n",
       "      <td>0.33</td>\n",
       "      <td>1.00</td>\n",
       "    </tr>\n",
       "    <tr>\n",
       "      <th>1</th>\n",
       "      <td>OffersScreenAppear</td>\n",
       "      <td>1538</td>\n",
       "      <td>0.20</td>\n",
       "      <td>0.61</td>\n",
       "    </tr>\n",
       "    <tr>\n",
       "      <th>2</th>\n",
       "      <td>CartScreenAppear</td>\n",
       "      <td>1239</td>\n",
       "      <td>0.16</td>\n",
       "      <td>0.81</td>\n",
       "    </tr>\n",
       "    <tr>\n",
       "      <th>3</th>\n",
       "      <td>PaymentScreenSuccessful</td>\n",
       "      <td>1185</td>\n",
       "      <td>0.16</td>\n",
       "      <td>0.96</td>\n",
       "    </tr>\n",
       "  </tbody>\n",
       "</table>\n",
       "</div>"
      ],
      "text/plain": [
       "                event_name  users_count  users_share  conversion_rate\n",
       "0         MainScreenAppear         2501         0.33             1.00\n",
       "1       OffersScreenAppear         1538         0.20             0.61\n",
       "2         CartScreenAppear         1239         0.16             0.81\n",
       "3  PaymentScreenSuccessful         1185         0.16             0.96"
      ]
     },
     "execution_count": 32,
     "metadata": {},
     "output_type": "execute_result"
    }
   ],
   "source": [
    "conversion_rate(248)"
   ]
  },
  {
   "cell_type": "markdown",
   "id": "2e0847ff",
   "metadata": {},
   "source": [
    "По результатам эксперимента видим, что доля пользователей, оплативших товары в корзине, в экспериментальной группе 248 не отличается от контрольной группы 246. Доля пользователей, которая проходит на следующий шаг воронки, в экспериментальной группе 248 отличается от контрольных групп на 1-2%. Можно сделать вывод, что новые шрифты в приложении для пользователей не показались непривычными, но в то же время показатели продаж не изменились. Поэтому сказать, что новый шрифт лучше старого мы не можем. Тем не менее, изменение шрифта во всем приложении не вызовет отторжения у пользователей."
   ]
  },
  {
   "cell_type": "markdown",
   "id": "8a50a6a3",
   "metadata": {},
   "source": [
    "### Сколько пользователей в каждой экспериментальной группе?"
   ]
  },
  {
   "cell_type": "code",
   "execution_count": 33,
   "id": "923c251b",
   "metadata": {},
   "outputs": [
    {
     "name": "stdout",
     "output_type": "stream",
     "text": [
      "В группе 246 - 2489 пользователей.\n",
      "В группе 247 - 2520 пользователей.\n",
      "В группе 248 - 2542 пользователя.\n"
     ]
    }
   ],
   "source": [
    "for group_id in group_ids:\n",
    "    count = data.query(f'exp_id == {group_id}')['device_id_hash'].nunique()\n",
    "    if count % 10 == 1 and count % 100 != 11:\n",
    "        print(f\"В группе {group_id} - {count} {'пользователь.'}\")\n",
    "    if 2 <= count % 10 <= 3 and not (10 < count % 100 < 20):\n",
    "        print(f\"В группе {group_id} - {count} {'пользователя.'}\")\n",
    "    else:\n",
    "        print(f\"В группе {group_id} - {count} {'пользователей.'}\")"
   ]
  },
  {
   "cell_type": "markdown",
   "id": "aef8f96c",
   "metadata": {},
   "source": [
    "В группе 246 - 2489 пользователей, 247 - 2520 пользователей, 248 - 2542 пользователя."
   ]
  },
  {
   "cell_type": "markdown",
   "id": "064c4bd7",
   "metadata": {},
   "source": [
    "### Есть 2 контрольные группы для А/А-эксперимента, чтобы проверить корректность всех механизмов и расчётов. Проверим, находят ли статистические критерии разницу между выборками 246 и 247."
   ]
  },
  {
   "cell_type": "markdown",
   "id": "f0e7c0e0",
   "metadata": {},
   "source": [
    "Для проверки наличия статистически значимой разницы между контрольными выборками 246 и 247 используем непараметрический критерий Манна-Уитни.\n",
    "\n",
    "Сформулируем нулевую и альтернативную гипотезы.\n",
    "- Нулевая гипотеза (H0): между выборками 246 и 247 нет статистически значимых различий.\n",
    "- Альтернативная гипотеза (H1): между выборками 246 и 247 статистически значимые различия есть.\n",
    "\n",
    "Зададим уровень статистической значимости: 0,05."
   ]
  },
  {
   "cell_type": "code",
   "execution_count": 34,
   "id": "0cb1b60e",
   "metadata": {},
   "outputs": [
    {
     "name": "stdout",
     "output_type": "stream",
     "text": [
      "P-value: 0.707\n"
     ]
    }
   ],
   "source": [
    "print('P-value: {0:.3f}'.format(stats.mannwhitneyu(data.query('exp_id == 246')['device_id_hash'].unique(), data.query('exp_id == 247')['device_id_hash'].unique())[1]))"
   ]
  },
  {
   "cell_type": "markdown",
   "id": "a66155be",
   "metadata": {},
   "source": [
    "По критерию Манна-Уитни p-value больше 0,05 - статистически значимых различий в контрольных группах 246 и 247 нет."
   ]
  },
  {
   "cell_type": "markdown",
   "id": "1d153d0f",
   "metadata": {},
   "source": [
    "### Выберем самое популярное событие. Посчитаем число пользователей, совершивших это событие в каждой из контрольных групп. Посчитаем долю пользователей, совершивших это событие. Проверим, будет ли отличие между группами статистически достоверным. Проделаем то же самое для всех других событий."
   ]
  },
  {
   "cell_type": "markdown",
   "id": "e8d2a0ef",
   "metadata": {},
   "source": [
    "Самым популярным событием является `MainScreenAppear`."
   ]
  },
  {
   "cell_type": "code",
   "execution_count": 35,
   "id": "1c331674",
   "metadata": {
    "scrolled": true
   },
   "outputs": [
    {
     "name": "stdout",
     "output_type": "stream",
     "text": [
      "Количество пользователей в группе 246: 2456\n",
      "Количество пользователей в группе 247: 2482\n"
     ]
    }
   ],
   "source": [
    "print(f'Количество пользователей в группе 246:', data.query('exp_id == 246 and event_name == \"MainScreenAppear\"')['device_id_hash'].nunique())\n",
    "print(f'Количество пользователей в группе 247:', data.query('exp_id == 247 and event_name == \"MainScreenAppear\"')['device_id_hash'].nunique())"
   ]
  },
  {
   "cell_type": "code",
   "execution_count": 36,
   "id": "15fcf590",
   "metadata": {},
   "outputs": [
    {
     "name": "stdout",
     "output_type": "stream",
     "text": [
      "Доля пользователей в группе 246: 0.99\n",
      "Доля пользователей в группе 247: 0.98\n"
     ]
    }
   ],
   "source": [
    "print(f'Доля пользователей в группе 246:', round(data.query('exp_id == 246 and event_name == \"MainScreenAppear\"')['device_id_hash'].nunique()/data.query('exp_id == 246')['device_id_hash'].nunique(), 2))\n",
    "print(f'Доля пользователей в группе 247:', round(data.query('exp_id == 247 and event_name == \"MainScreenAppear\"')['device_id_hash'].nunique()/data.query('exp_id == 247')['device_id_hash'].nunique(), 2))"
   ]
  },
  {
   "cell_type": "markdown",
   "id": "eea9e303",
   "metadata": {},
   "source": [
    "Количество пользователей, совершивших событие `MainScreenAppear`:\n",
    "- в контрольной группе 246 - 2456 пользователей (99%), \n",
    "- в контрольной группе 247 - 2482 пользователей (98%)."
   ]
  },
  {
   "cell_type": "markdown",
   "id": "1303851d",
   "metadata": {},
   "source": [
    "Проверим, будет ли отличие между группами статистически достоверным.\n",
    "\n",
    "Сформулируем нулевую и альтернативную гипотезы.\n",
    "- Нулевая гипотеза (H0): между контрольными группами 246 и 247, в которых пользователи совершили заданное событие, нет статистически значимых различий.\n",
    "- Альтернативная гипотеза (H1): между контрольными группами 246 и 247, в которых пользователи совершили заданное событие, статистически значимые различия есть.\n",
    "\n",
    "Зададим уровень статистической значимости: 0,05. Обернем проверку в отдельную функцию `get_p_value()` с параметрами: событие `event`, группы `group_a`, `group_b`, уровень статистической значимости `alpha`."
   ]
  },
  {
   "cell_type": "code",
   "execution_count": 37,
   "id": "90cbc585",
   "metadata": {},
   "outputs": [],
   "source": [
    "def get_p_value(event, group_a, group_b, alpha):\n",
    "    event_users = np.array([data.query('exp_id == @group_a and event_name == @event')['device_id_hash'].nunique(), data.query('exp_id == @group_b and event_name == @event')['device_id_hash'].nunique()]) # количество пользователей, совершивших событие\n",
    "    all_users = np.array([data.query('exp_id == @group_a')['device_id_hash'].nunique(), data.query('exp_id == @group_b')['device_id_hash'].nunique()]) # общее количество пользователей\n",
    "\n",
    "    # пропорция пользователей, совершивших событие, в первой группе:\n",
    "    p1 = event_users[0]/all_users[0]\n",
    "\n",
    "    # пропорция пользователей, совершивших событие, во второй группе:\n",
    "    p2 = event_users[1]/all_users[1]\n",
    "\n",
    "    # пропорция пользователей, совершивших событие, в комбинированном датасете:\n",
    "    p_combined = (event_users[0] + event_users[1]) / (all_users[0] + all_users[1])\n",
    "\n",
    "    # разница пропорций в датасетах\n",
    "    difference = p1 - p2\n",
    "\n",
    "    # считаем статистику в ст.отклонениях стандартного нормального распределения\n",
    "    z_value = difference / mth.sqrt(p_combined * (1 - p_combined) * (1/all_users[0] + 1/all_users[1]))\n",
    "\n",
    "    # задаем стандартное нормальное распределение (среднее 0, ст.отклонение 1)\n",
    "    distr = st.norm(0, 1) \n",
    "\n",
    "    p_value = (1 - distr.cdf(abs(z_value))) * 2\n",
    "\n",
    "    print('P-значение: ', round(p_value, 3))\n",
    "\n",
    "    if p_value < alpha:\n",
    "        print(f'Отвергаем нулевую гипотезу: между группами {group_a} и {group_b}, в которых пользователи совершили событие {event}, есть статистически значимое различие.')\n",
    "    else:\n",
    "        print(f'Не получилось отвергнуть нулевую гипотезу, нет оснований считать группы {group_a} и {group_b}, в которых пользователи совершили событие {event}, разными.')"
   ]
  },
  {
   "cell_type": "markdown",
   "id": "d9378b74",
   "metadata": {},
   "source": [
    "Передадим функции `get_p_value()` параметры: событие `MainScreenAppear`, контрольные группы 246, 247, уровень статистической значимости 0.05."
   ]
  },
  {
   "cell_type": "code",
   "execution_count": 38,
   "id": "704cfb00",
   "metadata": {
    "scrolled": false
   },
   "outputs": [
    {
     "name": "stdout",
     "output_type": "stream",
     "text": [
      "P-значение:  0.586\n",
      "Не получилось отвергнуть нулевую гипотезу, нет оснований считать группы 246 и 247, в которых пользователи совершили событие MainScreenAppear, разными.\n"
     ]
    }
   ],
   "source": [
    "get_p_value(\"MainScreenAppear\", 246, 247, 0.05)"
   ]
  },
  {
   "cell_type": "markdown",
   "id": "165c4af2",
   "metadata": {},
   "source": [
    "Передадим функции `get_p_value()` параметры: событие `OffersScreenAppear`, контрольные группы 246, 247, уровень статистической значимости 0.05."
   ]
  },
  {
   "cell_type": "code",
   "execution_count": 39,
   "id": "dc89d05c",
   "metadata": {
    "scrolled": false
   },
   "outputs": [
    {
     "name": "stdout",
     "output_type": "stream",
     "text": [
      "P-значение:  0.323\n",
      "Не получилось отвергнуть нулевую гипотезу, нет оснований считать группы 246 и 247, в которых пользователи совершили событие OffersScreenAppear, разными.\n"
     ]
    }
   ],
   "source": [
    "get_p_value(\"OffersScreenAppear\", 246, 247, 0.05)"
   ]
  },
  {
   "cell_type": "markdown",
   "id": "990f74bc",
   "metadata": {},
   "source": [
    "Передадим функции `get_p_value()` параметры: событие `CartScreenAppear`, контрольные группы 246, 247, уровень статистической значимости 0.05."
   ]
  },
  {
   "cell_type": "code",
   "execution_count": 40,
   "id": "f018957d",
   "metadata": {
    "scrolled": false
   },
   "outputs": [
    {
     "name": "stdout",
     "output_type": "stream",
     "text": [
      "P-значение:  0.198\n",
      "Не получилось отвергнуть нулевую гипотезу, нет оснований считать группы 246 и 247, в которых пользователи совершили событие CartScreenAppear, разными.\n"
     ]
    }
   ],
   "source": [
    "get_p_value(\"CartScreenAppear\", 246, 247, 0.05)"
   ]
  },
  {
   "cell_type": "markdown",
   "id": "ed63ec4c",
   "metadata": {},
   "source": [
    "Передадим функции `get_p_value()` параметры: событие `PaymentScreenSuccessful`, контрольные группы 246, 247, уровень статистической значимости 0.05."
   ]
  },
  {
   "cell_type": "code",
   "execution_count": 41,
   "id": "5f9283b0",
   "metadata": {
    "scrolled": true
   },
   "outputs": [
    {
     "name": "stdout",
     "output_type": "stream",
     "text": [
      "P-значение:  0.109\n",
      "Не получилось отвергнуть нулевую гипотезу, нет оснований считать группы 246 и 247, в которых пользователи совершили событие PaymentScreenSuccessful, разными.\n"
     ]
    }
   ],
   "source": [
    "get_p_value(\"PaymentScreenSuccessful\", 246, 247, 0.05)"
   ]
  },
  {
   "cell_type": "markdown",
   "id": "d23c11b2",
   "metadata": {},
   "source": [
    "Можно сделать вывод, что разбиение на группы работает корректно. А/А-эксперимент проведен успешно и мы можем быть уверены в точности проведенного тестирования."
   ]
  },
  {
   "cell_type": "markdown",
   "id": "544b0232",
   "metadata": {},
   "source": [
    "### Аналогично поступим с группой с изменённым шрифтом."
   ]
  },
  {
   "cell_type": "markdown",
   "id": "3357c680",
   "metadata": {},
   "source": [
    "Сформулируем нулевую и альтернативную гипотезы.\n",
    "- Нулевая гипотеза (H0): между экспериментальной группой и контрольной группой, в которых пользователи совершили заданное событие, нет статистически значимых различий.\n",
    "- Альтернативная гипотеза (H1): между экспериментальной группой и контрольной группой, в которых пользователи совершили заданное событие, статистически значимые различия есть.\n",
    "\n",
    "Зададим уровень статистической значимости: 0,05. Обернем проверку в отдельную функцию `get_p_value()` с параметрами: событие `event`, группы `group_a`, `group_b`."
   ]
  },
  {
   "cell_type": "markdown",
   "id": "2d522e6b",
   "metadata": {},
   "source": [
    "Передадим функции `get_p_value()` параметры: событие `MainScreenAppear`, группы 246, 248, уровень статистической значимости 0.05."
   ]
  },
  {
   "cell_type": "code",
   "execution_count": 42,
   "id": "0e997afe",
   "metadata": {
    "scrolled": false
   },
   "outputs": [
    {
     "name": "stdout",
     "output_type": "stream",
     "text": [
      "P-значение:  0.398\n",
      "Не получилось отвергнуть нулевую гипотезу, нет оснований считать группы 246 и 248, в которых пользователи совершили событие MainScreenAppear, разными.\n"
     ]
    }
   ],
   "source": [
    "get_p_value(\"MainScreenAppear\", 246, 248, 0.05)"
   ]
  },
  {
   "cell_type": "markdown",
   "id": "abdf7272",
   "metadata": {},
   "source": [
    "Передадим функции `get_p_value()` параметры: событие `OffersScreenAppear`, группы 246, 248, уровень статистической значимости 0.05."
   ]
  },
  {
   "cell_type": "code",
   "execution_count": 43,
   "id": "14ae5d25",
   "metadata": {
    "scrolled": true
   },
   "outputs": [
    {
     "name": "stdout",
     "output_type": "stream",
     "text": [
      "P-значение:  0.253\n",
      "Не получилось отвергнуть нулевую гипотезу, нет оснований считать группы 246 и 248, в которых пользователи совершили событие OffersScreenAppear, разными.\n"
     ]
    }
   ],
   "source": [
    "get_p_value(\"OffersScreenAppear\", 246, 248, 0.05)"
   ]
  },
  {
   "cell_type": "markdown",
   "id": "1ba8d54f",
   "metadata": {},
   "source": [
    "Передадим функции `get_p_value()` параметры: событие `CartScreenAppear`, группы 246, 248, уровень статистической значимости 0.05."
   ]
  },
  {
   "cell_type": "code",
   "execution_count": 44,
   "id": "280dfc2a",
   "metadata": {
    "scrolled": true
   },
   "outputs": [
    {
     "name": "stdout",
     "output_type": "stream",
     "text": [
      "P-значение:  0.105\n",
      "Не получилось отвергнуть нулевую гипотезу, нет оснований считать группы 246 и 248, в которых пользователи совершили событие CartScreenAppear, разными.\n"
     ]
    }
   ],
   "source": [
    "get_p_value(\"CartScreenAppear\", 246, 248, 0.05)"
   ]
  },
  {
   "cell_type": "markdown",
   "id": "8b28c58e",
   "metadata": {},
   "source": [
    "Передадим функции `get_p_value()` параметры: событие `PaymentScreenSuccessful`, группы 246, 248, уровень статистической значимости 0.05."
   ]
  },
  {
   "cell_type": "code",
   "execution_count": 45,
   "id": "e91546ce",
   "metadata": {
    "scrolled": true
   },
   "outputs": [
    {
     "name": "stdout",
     "output_type": "stream",
     "text": [
      "P-значение:  0.234\n",
      "Не получилось отвергнуть нулевую гипотезу, нет оснований считать группы 246 и 248, в которых пользователи совершили событие PaymentScreenSuccessful, разными.\n"
     ]
    }
   ],
   "source": [
    "get_p_value(\"PaymentScreenSuccessful\", 246, 248, 0.05)"
   ]
  },
  {
   "cell_type": "markdown",
   "id": "aa7af4a9",
   "metadata": {},
   "source": [
    "Передадим функции `get_p_value()` параметры: событие `MainScreenAppear`, группы 247, 248, уровень статистической значимости 0.05."
   ]
  },
  {
   "cell_type": "code",
   "execution_count": 46,
   "id": "7089e59f",
   "metadata": {
    "scrolled": false
   },
   "outputs": [
    {
     "name": "stdout",
     "output_type": "stream",
     "text": [
      "P-значение:  0.763\n",
      "Не получилось отвергнуть нулевую гипотезу, нет оснований считать группы 247 и 248, в которых пользователи совершили событие MainScreenAppear, разными.\n"
     ]
    }
   ],
   "source": [
    "get_p_value(\"MainScreenAppear\", 247, 248, 0.05)"
   ]
  },
  {
   "cell_type": "markdown",
   "id": "77a53129",
   "metadata": {},
   "source": [
    "Передадим функции `get_p_value()` параметры: событие `OffersScreenAppear`, группы 247, 248, уровень статистической значимости 0.05."
   ]
  },
  {
   "cell_type": "code",
   "execution_count": 47,
   "id": "82e85050",
   "metadata": {
    "scrolled": true
   },
   "outputs": [
    {
     "name": "stdout",
     "output_type": "stream",
     "text": [
      "P-значение:  0.878\n",
      "Не получилось отвергнуть нулевую гипотезу, нет оснований считать группы 247 и 248, в которых пользователи совершили событие OffersScreenAppear, разными.\n"
     ]
    }
   ],
   "source": [
    "get_p_value(\"OffersScreenAppear\", 247, 248, 0.05)"
   ]
  },
  {
   "cell_type": "markdown",
   "id": "4d8a1b4a",
   "metadata": {},
   "source": [
    "Передадим функции `get_p_value()` параметры: событие `CartScreenAppear`, группы 247, 248, уровень статистической значимости 0.05."
   ]
  },
  {
   "cell_type": "code",
   "execution_count": 48,
   "id": "ce19d9e5",
   "metadata": {
    "scrolled": true
   },
   "outputs": [
    {
     "name": "stdout",
     "output_type": "stream",
     "text": [
      "P-значение:  0.741\n",
      "Не получилось отвергнуть нулевую гипотезу, нет оснований считать группы 247 и 248, в которых пользователи совершили событие CartScreenAppear, разными.\n"
     ]
    }
   ],
   "source": [
    "get_p_value(\"CartScreenAppear\", 247, 248, 0.05)"
   ]
  },
  {
   "cell_type": "markdown",
   "id": "a8c14ebf",
   "metadata": {},
   "source": [
    "Передадим функции `get_p_value()` параметры: событие `PaymentScreenSuccessful`, группы 247, 248, уровень статистической значимости 0.05."
   ]
  },
  {
   "cell_type": "code",
   "execution_count": 49,
   "id": "321fad81",
   "metadata": {
    "scrolled": false
   },
   "outputs": [
    {
     "name": "stdout",
     "output_type": "stream",
     "text": [
      "P-значение:  0.676\n",
      "Не получилось отвергнуть нулевую гипотезу, нет оснований считать группы 247 и 248, в которых пользователи совершили событие PaymentScreenSuccessful, разными.\n"
     ]
    }
   ],
   "source": [
    "get_p_value(\"PaymentScreenSuccessful\", 247, 248, 0.05)"
   ]
  },
  {
   "cell_type": "markdown",
   "id": "845c966b",
   "metadata": {},
   "source": [
    "Сравним результаты с объединённой контрольной группой. Обернем проверку в отдельную функцию get_p_value_united() с параметрами: событие `event`, уровень статистической значимости `alpha`."
   ]
  },
  {
   "cell_type": "code",
   "execution_count": 50,
   "id": "f0641d11",
   "metadata": {},
   "outputs": [],
   "source": [
    "def get_p_value_united(event, alpha):\n",
    "    event_users = np.array([data.query('exp_id == 248 and event_name == @event')['device_id_hash'].nunique(), data.query('(exp_id == 246 or exp_id == 247) and event_name == @event')['device_id_hash'].nunique()]) # количество пользователей, совершивших событие\n",
    "    all_users = np.array([data.query('exp_id == 248')['device_id_hash'].nunique(), data.query('exp_id == 246 or exp_id == 247')['device_id_hash'].nunique()]) # общее количество пользователей\n",
    "\n",
    "    # пропорция пользователей, совершивших событие, в первой группе:\n",
    "    p1 = event_users[0]/all_users[0]\n",
    "\n",
    "    # пропорция пользователей, совершивших событие, во второй группе:\n",
    "    p2 = event_users[1]/all_users[1]\n",
    "\n",
    "    # пропорция пользователей, совершивших событие, в комбинированном датасете:\n",
    "    p_combined = (event_users[0] + event_users[1]) / (all_users[0] + all_users[1])\n",
    "\n",
    "    # разница пропорций в датасетах\n",
    "    difference = p1 - p2\n",
    "\n",
    "    # считаем статистику в ст.отклонениях стандартного нормального распределения\n",
    "    z_value = difference / mth.sqrt(p_combined * (1 - p_combined) * (1/all_users[0] + 1/all_users[1]))\n",
    "\n",
    "    # задаем стандартное нормальное распределение (среднее 0, ст.отклонение 1)\n",
    "    distr = st.norm(0, 1) \n",
    "\n",
    "    p_value = (1 - distr.cdf(abs(z_value))) * 2\n",
    "\n",
    "    print('P-значение: ', round(p_value, 3))\n",
    "\n",
    "    if p_value < alpha:\n",
    "        print(f'Отвергаем нулевую гипотезу: между экспериментальной группой и объединенной контрольной группой, в которых пользователи совершили событие {event}, есть статистически значимое различие.')\n",
    "    else:\n",
    "        print(f'Не получилось отвергнуть нулевую гипотезу, нет оснований считать экспериментальную группу и объединенную контрольную группу, в которых пользователи совершили событие {event}, разными.')"
   ]
  },
  {
   "cell_type": "markdown",
   "id": "f4680b25",
   "metadata": {},
   "source": [
    "Передадим функции `get_p_value_united()` параметры: событие `MainScreenAppear`, уровень статистической значимости 0.05."
   ]
  },
  {
   "cell_type": "code",
   "execution_count": 51,
   "id": "c977ecf9",
   "metadata": {
    "scrolled": true
   },
   "outputs": [
    {
     "name": "stdout",
     "output_type": "stream",
     "text": [
      "P-значение:  0.507\n",
      "Не получилось отвергнуть нулевую гипотезу, нет оснований считать экспериментальную группу и объединенную контрольную группу, в которых пользователи совершили событие MainScreenAppear, разными.\n"
     ]
    }
   ],
   "source": [
    "get_p_value_united(\"MainScreenAppear\", 0.05)"
   ]
  },
  {
   "cell_type": "markdown",
   "id": "9d4fffc9",
   "metadata": {},
   "source": [
    "Передадим функции `get_p_value_united()` параметры: событие `OffersScreenAppear`, уровень статистической значимости 0.05."
   ]
  },
  {
   "cell_type": "code",
   "execution_count": 52,
   "id": "d17cade9",
   "metadata": {
    "scrolled": false
   },
   "outputs": [
    {
     "name": "stdout",
     "output_type": "stream",
     "text": [
      "P-значение:  0.456\n",
      "Не получилось отвергнуть нулевую гипотезу, нет оснований считать экспериментальную группу и объединенную контрольную группу, в которых пользователи совершили событие OffersScreenAppear, разными.\n"
     ]
    }
   ],
   "source": [
    "get_p_value_united(\"OffersScreenAppear\", 0.05)"
   ]
  },
  {
   "cell_type": "markdown",
   "id": "51ae1923",
   "metadata": {},
   "source": [
    "Передадим функции `get_p_value_united()` параметры: событие `CartScreenAppear`, уровень статистической значимости 0.05."
   ]
  },
  {
   "cell_type": "code",
   "execution_count": 53,
   "id": "7179f9df",
   "metadata": {
    "scrolled": false
   },
   "outputs": [
    {
     "name": "stdout",
     "output_type": "stream",
     "text": [
      "P-значение:  0.261\n",
      "Не получилось отвергнуть нулевую гипотезу, нет оснований считать экспериментальную группу и объединенную контрольную группу, в которых пользователи совершили событие CartScreenAppear, разными.\n"
     ]
    }
   ],
   "source": [
    "get_p_value_united(\"CartScreenAppear\", 0.05)"
   ]
  },
  {
   "cell_type": "markdown",
   "id": "eaa85b73",
   "metadata": {},
   "source": [
    "Передадим функции `get_p_value_united()` параметры: событие `PaymentScreenSuccessful`, уровень статистической значимости 0.05."
   ]
  },
  {
   "cell_type": "code",
   "execution_count": 54,
   "id": "e8d47c02",
   "metadata": {
    "scrolled": true
   },
   "outputs": [
    {
     "name": "stdout",
     "output_type": "stream",
     "text": [
      "P-значение:  0.658\n",
      "Не получилось отвергнуть нулевую гипотезу, нет оснований считать экспериментальную группу и объединенную контрольную группу, в которых пользователи совершили событие PaymentScreenSuccessful, разными.\n"
     ]
    }
   ],
   "source": [
    "get_p_value_united(\"PaymentScreenSuccessful\", 0.05)"
   ]
  },
  {
   "cell_type": "markdown",
   "id": "3e01ac05",
   "metadata": {},
   "source": [
    "По результатам проверки гипотез о равенстве долей не получилось отвергнуть нулевые гипотезы:\n",
    "- Нет оснований считать экспериментальную группу и контрольную группу, в которых пользователи совершили заданные события, разными.\n",
    "- Нет оснований считать экспериментальную группу и объединенную контрольную группу, в которых пользователи совершили заданные события, разными.\n",
    "\n",
    "Можно сделать вывод, что А/В-эксперимент проведен успешно и разбиение на группы работает корректно."
   ]
  },
  {
   "cell_type": "markdown",
   "id": "013b26f3",
   "metadata": {},
   "source": [
    "### Посчитаем вероятность получения ложноположительного результата. Скорректируем уровень значимости и повторно проведем эксперименты."
   ]
  },
  {
   "cell_type": "markdown",
   "id": "40fdd314",
   "metadata": {},
   "source": [
    "При проверке статистических гипотез мы выбрали уровень значимости 0,05. Всего провели проверку 16 статистических гипотез. При каждой проверке гипотезы с уровнем значимости 0.05, существует 5% вероятность получить ложноположительный результат.\n",
    "\n",
    "Рассчитаем вероятность получить хотя бы один ложноположительный результат при проверке 16 статистических гипотез с уровнем значимости 0.05:\n",
    "\n",
    "1 - (1 - 0.05)^16 ≈ 0.6728\n",
    "\n",
    "Таким образом, вероятность получить ложноположительный результат составляет 67%.\n",
    "\n",
    "Применим метод Бонферрони для корректировки уровня значимости:\n",
    "\n",
    "a_corr = a / m = 0.05 / 16 ≈ 0.003125\n",
    "\n",
    "Повторно проведем эксперименты со скорректированным уровнем значимости 0.003125."
   ]
  },
  {
   "cell_type": "code",
   "execution_count": 55,
   "id": "bce3a919",
   "metadata": {
    "scrolled": true
   },
   "outputs": [
    {
     "name": "stdout",
     "output_type": "stream",
     "text": [
      "P-значение:  0.586\n",
      "Не получилось отвергнуть нулевую гипотезу, нет оснований считать группы 246 и 247, в которых пользователи совершили событие MainScreenAppear, разными.\n"
     ]
    }
   ],
   "source": [
    "get_p_value(\"MainScreenAppear\", 246, 247, 0.003125)"
   ]
  },
  {
   "cell_type": "code",
   "execution_count": 56,
   "id": "f5357dcf",
   "metadata": {
    "scrolled": false
   },
   "outputs": [
    {
     "name": "stdout",
     "output_type": "stream",
     "text": [
      "P-значение:  0.323\n",
      "Не получилось отвергнуть нулевую гипотезу, нет оснований считать группы 246 и 247, в которых пользователи совершили событие OffersScreenAppear, разными.\n"
     ]
    }
   ],
   "source": [
    "get_p_value(\"OffersScreenAppear\", 246, 247, 0.003125)"
   ]
  },
  {
   "cell_type": "code",
   "execution_count": 57,
   "id": "346ec52e",
   "metadata": {
    "scrolled": false
   },
   "outputs": [
    {
     "name": "stdout",
     "output_type": "stream",
     "text": [
      "P-значение:  0.198\n",
      "Не получилось отвергнуть нулевую гипотезу, нет оснований считать группы 246 и 247, в которых пользователи совершили событие CartScreenAppear, разными.\n"
     ]
    }
   ],
   "source": [
    "get_p_value(\"CartScreenAppear\", 246, 247, 0.003125)"
   ]
  },
  {
   "cell_type": "code",
   "execution_count": 58,
   "id": "033ec9a8",
   "metadata": {
    "scrolled": false
   },
   "outputs": [
    {
     "name": "stdout",
     "output_type": "stream",
     "text": [
      "P-значение:  0.109\n",
      "Не получилось отвергнуть нулевую гипотезу, нет оснований считать группы 246 и 247, в которых пользователи совершили событие PaymentScreenSuccessful, разными.\n"
     ]
    }
   ],
   "source": [
    "get_p_value(\"PaymentScreenSuccessful\", 246, 247, 0.003125)"
   ]
  },
  {
   "cell_type": "code",
   "execution_count": 59,
   "id": "1dce1872",
   "metadata": {
    "scrolled": false
   },
   "outputs": [
    {
     "name": "stdout",
     "output_type": "stream",
     "text": [
      "P-значение:  0.398\n",
      "Не получилось отвергнуть нулевую гипотезу, нет оснований считать группы 246 и 248, в которых пользователи совершили событие MainScreenAppear, разными.\n"
     ]
    }
   ],
   "source": [
    "get_p_value(\"MainScreenAppear\", 246, 248, 0.003125)"
   ]
  },
  {
   "cell_type": "code",
   "execution_count": 60,
   "id": "04854bc6",
   "metadata": {
    "scrolled": false
   },
   "outputs": [
    {
     "name": "stdout",
     "output_type": "stream",
     "text": [
      "P-значение:  0.253\n",
      "Не получилось отвергнуть нулевую гипотезу, нет оснований считать группы 246 и 248, в которых пользователи совершили событие OffersScreenAppear, разными.\n"
     ]
    }
   ],
   "source": [
    "get_p_value(\"OffersScreenAppear\", 246, 248, 0.003125)"
   ]
  },
  {
   "cell_type": "code",
   "execution_count": 61,
   "id": "2ab8944d",
   "metadata": {
    "scrolled": true
   },
   "outputs": [
    {
     "name": "stdout",
     "output_type": "stream",
     "text": [
      "P-значение:  0.105\n",
      "Не получилось отвергнуть нулевую гипотезу, нет оснований считать группы 246 и 248, в которых пользователи совершили событие CartScreenAppear, разными.\n"
     ]
    }
   ],
   "source": [
    "get_p_value(\"CartScreenAppear\", 246, 248, 0.003125)"
   ]
  },
  {
   "cell_type": "code",
   "execution_count": 62,
   "id": "aa4b9689",
   "metadata": {
    "scrolled": true
   },
   "outputs": [
    {
     "name": "stdout",
     "output_type": "stream",
     "text": [
      "P-значение:  0.234\n",
      "Не получилось отвергнуть нулевую гипотезу, нет оснований считать группы 246 и 248, в которых пользователи совершили событие PaymentScreenSuccessful, разными.\n"
     ]
    }
   ],
   "source": [
    "get_p_value(\"PaymentScreenSuccessful\", 246, 248, 0.003125)"
   ]
  },
  {
   "cell_type": "code",
   "execution_count": 63,
   "id": "7a322b01",
   "metadata": {
    "scrolled": false
   },
   "outputs": [
    {
     "name": "stdout",
     "output_type": "stream",
     "text": [
      "P-значение:  0.763\n",
      "Не получилось отвергнуть нулевую гипотезу, нет оснований считать группы 247 и 248, в которых пользователи совершили событие MainScreenAppear, разными.\n"
     ]
    }
   ],
   "source": [
    "get_p_value(\"MainScreenAppear\", 247, 248, 0.003125)"
   ]
  },
  {
   "cell_type": "code",
   "execution_count": 64,
   "id": "46b86dfe",
   "metadata": {
    "scrolled": true
   },
   "outputs": [
    {
     "name": "stdout",
     "output_type": "stream",
     "text": [
      "P-значение:  0.878\n",
      "Не получилось отвергнуть нулевую гипотезу, нет оснований считать группы 247 и 248, в которых пользователи совершили событие OffersScreenAppear, разными.\n"
     ]
    }
   ],
   "source": [
    "get_p_value(\"OffersScreenAppear\", 247, 248, 0.003125)"
   ]
  },
  {
   "cell_type": "code",
   "execution_count": 65,
   "id": "fde99443",
   "metadata": {
    "scrolled": true
   },
   "outputs": [
    {
     "name": "stdout",
     "output_type": "stream",
     "text": [
      "P-значение:  0.741\n",
      "Не получилось отвергнуть нулевую гипотезу, нет оснований считать группы 247 и 248, в которых пользователи совершили событие CartScreenAppear, разными.\n"
     ]
    }
   ],
   "source": [
    "get_p_value(\"CartScreenAppear\", 247, 248, 0.003125)"
   ]
  },
  {
   "cell_type": "code",
   "execution_count": 66,
   "id": "d4674a74",
   "metadata": {
    "scrolled": false
   },
   "outputs": [
    {
     "name": "stdout",
     "output_type": "stream",
     "text": [
      "P-значение:  0.676\n",
      "Не получилось отвергнуть нулевую гипотезу, нет оснований считать группы 247 и 248, в которых пользователи совершили событие PaymentScreenSuccessful, разными.\n"
     ]
    }
   ],
   "source": [
    "get_p_value(\"PaymentScreenSuccessful\", 247, 248, 0.003125)"
   ]
  },
  {
   "cell_type": "code",
   "execution_count": 67,
   "id": "a812424b",
   "metadata": {
    "scrolled": true
   },
   "outputs": [
    {
     "name": "stdout",
     "output_type": "stream",
     "text": [
      "P-значение:  0.507\n",
      "Не получилось отвергнуть нулевую гипотезу, нет оснований считать экспериментальную группу и объединенную контрольную группу, в которых пользователи совершили событие MainScreenAppear, разными.\n"
     ]
    }
   ],
   "source": [
    "get_p_value_united(\"MainScreenAppear\", 0.003125)"
   ]
  },
  {
   "cell_type": "code",
   "execution_count": 68,
   "id": "0d0619c1",
   "metadata": {
    "scrolled": false
   },
   "outputs": [
    {
     "name": "stdout",
     "output_type": "stream",
     "text": [
      "P-значение:  0.456\n",
      "Не получилось отвергнуть нулевую гипотезу, нет оснований считать экспериментальную группу и объединенную контрольную группу, в которых пользователи совершили событие OffersScreenAppear, разными.\n"
     ]
    }
   ],
   "source": [
    "get_p_value_united(\"OffersScreenAppear\", 0.003125)"
   ]
  },
  {
   "cell_type": "code",
   "execution_count": 69,
   "id": "cc29e118",
   "metadata": {
    "scrolled": false
   },
   "outputs": [
    {
     "name": "stdout",
     "output_type": "stream",
     "text": [
      "P-значение:  0.261\n",
      "Не получилось отвергнуть нулевую гипотезу, нет оснований считать экспериментальную группу и объединенную контрольную группу, в которых пользователи совершили событие CartScreenAppear, разными.\n"
     ]
    }
   ],
   "source": [
    "get_p_value_united(\"CartScreenAppear\", 0.003125)"
   ]
  },
  {
   "cell_type": "code",
   "execution_count": 70,
   "id": "5aa035f8",
   "metadata": {
    "scrolled": true
   },
   "outputs": [
    {
     "name": "stdout",
     "output_type": "stream",
     "text": [
      "P-значение:  0.658\n",
      "Не получилось отвергнуть нулевую гипотезу, нет оснований считать экспериментальную группу и объединенную контрольную группу, в которых пользователи совершили событие PaymentScreenSuccessful, разными.\n"
     ]
    }
   ],
   "source": [
    "get_p_value_united(\"PaymentScreenSuccessful\", 0.003125)"
   ]
  },
  {
   "cell_type": "markdown",
   "id": "e3f60612",
   "metadata": {},
   "source": [
    "Результаты проверки статистических гипотез со скорректированным уровнем значимости 0.003125 не изменились. При проведении экспериментов ложноположительный результат не получен."
   ]
  },
  {
   "cell_type": "markdown",
   "id": "0deb1799",
   "metadata": {},
   "source": [
    "__Промежуточный вывод:__ изучили результаты эксперимента:\n",
    "- По результатам эксперимента видим, что доля пользователей, оплативших товары в корзине, в экспериментальной группе 248 не отличается от контрольной группы 246. Доля пользователей, которая проходит на следующий шаг воронки, в экспериментальной группе 248 отличается от контрольных групп на 1-2%. Можно сделать вывод, что новые шрифты в приложении для пользователей не показались непривычными, но в то же время показатели продаж не изменились. Поэтому сказать, что новый шрифт лучше старого мы не можем. Тем не менее, изменение шрифта во всем приложении не вызовет отторжения у пользователей.\n",
    "- В группе 246 - 2489 пользователей, 247 - 2520 пользователей, 248 - 2542 пользователя.\n",
    "- По критерию Манна-Уитни p-value больше 0,05 - статистически значимых различий в контрольных группах 246 и 247 нет.\n",
    "- Самым популярным событием является `MainScreenAppear`.\n",
    "- Количество пользователей, совершивших событие `MainScreenAppear`:\n",
    "    - в контрольной группе 246 - 2456 пользователей (99%), \n",
    "    - в контрольной группе 247 - 2482 пользователей (98%).\n",
    "- По результатам проверки гипотез о равенстве долей не получилось отвергнуть нулевые гипотезы:\n",
    "    - Нет оснований считать экспериментальную группу и контрольную группу, в которых пользователи совершили заданные события, разными.\n",
    "    - Нет оснований считать экспериментальную группу и объединенную контрольную группу, в которых пользователи совершили заданные события, разными.  \n",
    "- Можно сделать вывод, что А/А/В-эксперимент проведен успешно и разбиение на группы работает корректно.\n",
    "- При проверке 16 статистических гипотез с уровнем значимости 0.05 вероятность получить ложноположительный результат составляет 67%. \n",
    "- Результаты проверки статистических гипотез со скорректированным уровнем значимости 0.003125 не изменились. При проведении экспериментов ложноположительный результат не получен."
   ]
  },
  {
   "cell_type": "markdown",
   "id": "3bbd7ba9",
   "metadata": {},
   "source": [
    "## Шаг 6. Общий вывод."
   ]
  },
  {
   "cell_type": "markdown",
   "id": "c37b219e",
   "metadata": {},
   "source": [
    "Провели анализ, как ведут себя пользователи мобильного приложения.\n",
    "\n",
    "Изучили общую информацию:  \n",
    "- Увидели, что в данных нет пропусков.  \n",
    "- Названия столбцов указаны в верблюжьем регистре.  \n",
    "- Тип данных в столбце `EventTimestamp` `int` вместо `datetime64`.\n",
    "\n",
    "Провели подготовку данных к анализу:  \n",
    "- Привели названия столбцов к змеиному регистру.  \n",
    "- Изменили тип данных в столбце `event_timestamp` на `datetime64`, пропуски в данных отсутствуют.  \n",
    "- Нашли 411 дубликатов (0,17%), удалили их и заново пронумеровали индексы.  \n",
    "- Проверили, что пользователи не пересекаются между группами.\n",
    "- Добавили столбец даты и времени, а также отдельный столбец дат.\n",
    "\n",
    "Изучили и проверили данные:\n",
    "- Всего 243713 событий в логе.\n",
    "- Всего 7551 пользователь в логе.\n",
    "- В среднем приходится 32 события на пользователя.\n",
    "- Аномальных пользователей, совершивших очень много событий, не обнаружено.\n",
    "- Мы располгагаем данными с 25.07.2019 по 07.08.2019.\n",
    "- По гистограмме по дате и времени видим, что у нас одинаково полные данные с 01.08.2019 по 07.08.2019.\n",
    "- Отбросив данные до 01.08.2019, мы потеряли 2826 событий (1.16%) и 17 пользователей (0.23%).\n",
    "- Проверили, что в новых данных для анализа имеются пользователи из всех трёх экспериментальных групп.\n",
    "\n",
    "Изучили воронку событий:\n",
    "- Самым частым событием является показ главного экрана `MainScreenAppear` - 117328 раз, далее экран предложения `OffersScreenAppear` - 46333 раза, экран корзины `CartScreenAppear` - 42303 раза, экран успешной оплаты `PaymentScreenSuccessful` - 33918 раз. Наименее частым событием является руководство `Tutorial` - всего 1005 раз.\n",
    "- 98% пользователей увидели главный экран приложения, 61% - экран предложения, 49% - экран корзины, 47% - экран успешной оплаты и 11% - руководство.\n",
    "- Предположили следующий порядок событий в приложении:\n",
    "    1. Пользователь впервые открыл приложение и получил уведомление о знакомстве с руководством. Он может закрыть уведомление или прочитать руководство (событие `Tutorial`) и перейти на главный экран. Событие `Tutorial` является необязательным для работы с приложением.\n",
    "    2. Пользователь увидел главный экран (событие `MainScreenAppear`), где он может выбрать нужный раздел с продуктами питания.\n",
    "    3. Пользователь выбрал раздел с продуктами питания.\n",
    "    4. Пользователь увидел экран предложения (событие `OffersScreenAppear`), где он может выбрать необходимое количество товаров.\n",
    "    5. Пользователь нажал на кнопку \"Перейти в корзину\".\n",
    "    6. Пользователь увидел экран корзины (событие `CartScreenAppear`), где он может выбрать адрес доставки и ввести способ оплаты.\n",
    "    7. Пользователь ввел платежные реквизиты и нажал кнопку \"Оплатить\".\n",
    "    8. Пользователь увидел экран успешной оплаты (событие `PaymentScreenSuccessful`).\n",
    "- 62% пользователей, открывших главный экран, перешли на экран предложения, 81% пользователей перешли к экрану корзины, 95% пользователей оплатили товары в корзине.\n",
    "- Больше всего пользователей теряем на переходе к экрану предложения (событие `OffersScreenAppear`) - 2826 пользователей (37%).\n",
    "- 48% пользователей доходят от первого события до оплаты.\n",
    "\n",
    "Изучили результаты эксперимента:\n",
    "- По результатам эксперимента видим, что доля пользователей, оплативших товары в корзине, в экспериментальной группе 248 не отличается от контрольной группы 246. Доля пользователей, которая проходит на следующий шаг воронки, в экспериментальной группе 248 отличается от контрольных групп на 1-2%. Можно сделать вывод, что новые шрифты в приложении для пользователей не показались непривычными, но в то же время показатели продаж не изменились. Поэтому сказать, что новый шрифт лучше старого мы не можем. Тем не менее, изменение шрифта во всем приложении не вызовет отторжения у пользователей.\n",
    "- В группе 246 - 2489 пользователей, 247 - 2520 пользователей, 248 - 2542 пользователя.\n",
    "- По критерию Манна-Уитни p-value больше 0,05 - статистически значимых различий в контрольных группах 246 и 247 нет.\n",
    "- Самым популярным событием является `MainScreenAppear`.\n",
    "- Количество пользователей, совершивших событие `MainScreenAppear`:\n",
    "    - в контрольной группе 246 - 2456 пользователей (99%), \n",
    "    - в контрольной группе 247 - 2482 пользователей (98%).\n",
    "- По результатам проверки гипотез о равенстве долей не получилось отвергнуть нулевые гипотезы:\n",
    "    - Нет оснований считать экспериментальную группу и контрольную группу, в которых пользователи совершили заданные события, разными.\n",
    "    - Нет оснований считать экспериментальную группу и объединенную контрольную группу, в которых пользователи совершили заданные события, разными.  \n",
    "- Можно сделать вывод, что А/А/В-эксперимент проведен успешно и разбиение на группы работает корректно.\n",
    "- При проверке 16 статистических гипотез с уровнем значимости 0.05 вероятность получить ложноположительный результат составляет 67%. \n",
    "- Результаты проверки статистических гипотез со скорректированным уровнем значимости 0.003125 не изменились. При проведении экспериментов ложноположительный результат не получен."
   ]
  }
 ],
 "metadata": {
  "ExecuteTimeLog": [
   {
    "duration": 816,
    "start_time": "2023-05-09T12:51:33.849Z"
   },
   {
    "duration": 76,
    "start_time": "2023-05-09T12:51:34.669Z"
   },
   {
    "duration": 22,
    "start_time": "2023-05-09T12:51:34.747Z"
   },
   {
    "duration": 16,
    "start_time": "2023-05-09T12:51:34.771Z"
   },
   {
    "duration": 1017,
    "start_time": "2023-05-09T12:51:34.789Z"
   },
   {
    "duration": 11,
    "start_time": "2023-05-09T12:51:35.811Z"
   },
   {
    "duration": 29,
    "start_time": "2023-05-09T12:51:35.825Z"
   },
   {
    "duration": 7,
    "start_time": "2023-05-09T12:51:35.857Z"
   },
   {
    "duration": 16,
    "start_time": "2023-05-09T12:51:35.866Z"
   },
   {
    "duration": 43,
    "start_time": "2023-05-09T12:51:35.884Z"
   },
   {
    "duration": 9,
    "start_time": "2023-05-09T12:51:35.929Z"
   },
   {
    "duration": 17,
    "start_time": "2023-05-09T12:51:35.942Z"
   },
   {
    "duration": 6,
    "start_time": "2023-05-09T12:51:35.961Z"
   },
   {
    "duration": 46,
    "start_time": "2023-05-09T12:51:35.970Z"
   },
   {
    "duration": 69,
    "start_time": "2023-05-09T12:51:36.018Z"
   },
   {
    "duration": 54,
    "start_time": "2023-05-09T12:51:36.089Z"
   },
   {
    "duration": 15,
    "start_time": "2023-05-09T12:51:36.145Z"
   },
   {
    "duration": 31,
    "start_time": "2023-05-09T12:51:36.163Z"
   },
   {
    "duration": 99,
    "start_time": "2023-05-09T12:51:36.196Z"
   },
   {
    "duration": 19,
    "start_time": "2023-05-09T12:51:36.297Z"
   },
   {
    "duration": 23,
    "start_time": "2023-05-09T12:51:36.322Z"
   },
   {
    "duration": 580,
    "start_time": "2023-05-09T12:51:36.348Z"
   },
   {
    "duration": 10,
    "start_time": "2023-05-09T12:51:36.931Z"
   },
   {
    "duration": 522,
    "start_time": "2023-05-09T12:51:36.950Z"
   },
   {
    "duration": 411,
    "start_time": "2023-05-09T12:51:37.474Z"
   },
   {
    "duration": 40,
    "start_time": "2023-05-09T12:51:37.887Z"
   },
   {
    "duration": 1451,
    "start_time": "2023-05-09T12:51:37.929Z"
   },
   {
    "duration": 12,
    "start_time": "2023-05-09T12:51:39.382Z"
   },
   {
    "duration": 16,
    "start_time": "2023-05-09T12:51:39.396Z"
   },
   {
    "duration": 373,
    "start_time": "2023-05-09T12:51:39.414Z"
   },
   {
    "duration": 1487,
    "start_time": "2023-05-09T12:51:39.789Z"
   },
   {
    "duration": 769,
    "start_time": "2023-05-09T12:51:41.278Z"
   },
   {
    "duration": 1048,
    "start_time": "2023-05-09T12:51:42.049Z"
   },
   {
    "duration": 65,
    "start_time": "2023-05-09T12:51:43.100Z"
   },
   {
    "duration": 938,
    "start_time": "2023-05-09T12:51:43.168Z"
   },
   {
    "duration": 7,
    "start_time": "2023-05-09T12:51:44.113Z"
   },
   {
    "duration": 455,
    "start_time": "2023-05-09T12:51:44.123Z"
   },
   {
    "duration": 4,
    "start_time": "2023-05-09T12:51:44.580Z"
   },
   {
    "duration": 636,
    "start_time": "2023-05-09T12:51:44.588Z"
   },
   {
    "duration": 8,
    "start_time": "2023-05-09T12:51:45.227Z"
   },
   {
    "duration": 10,
    "start_time": "2023-05-09T12:51:45.240Z"
   },
   {
    "duration": 5,
    "start_time": "2023-05-09T12:51:45.252Z"
   },
   {
    "duration": 426,
    "start_time": "2023-05-09T12:51:45.260Z"
   },
   {
    "duration": 7,
    "start_time": "2023-05-09T12:51:45.689Z"
   },
   {
    "duration": 15,
    "start_time": "2023-05-09T12:51:45.698Z"
   },
   {
    "duration": 511,
    "start_time": "2023-05-09T12:51:45.717Z"
   },
   {
    "duration": 15,
    "start_time": "2023-05-09T12:51:46.231Z"
   },
   {
    "duration": 20,
    "start_time": "2023-05-09T13:21:25.432Z"
   },
   {
    "duration": 722,
    "start_time": "2023-05-09T13:21:41.949Z"
   },
   {
    "duration": 67,
    "start_time": "2023-05-09T13:21:42.672Z"
   },
   {
    "duration": 21,
    "start_time": "2023-05-09T13:21:42.741Z"
   },
   {
    "duration": 14,
    "start_time": "2023-05-09T13:21:42.764Z"
   },
   {
    "duration": 906,
    "start_time": "2023-05-09T13:21:42.779Z"
   },
   {
    "duration": 3,
    "start_time": "2023-05-09T13:21:43.687Z"
   },
   {
    "duration": 43,
    "start_time": "2023-05-09T13:21:43.691Z"
   },
   {
    "duration": 7,
    "start_time": "2023-05-09T13:21:43.736Z"
   },
   {
    "duration": 22,
    "start_time": "2023-05-09T13:21:43.746Z"
   },
   {
    "duration": 15,
    "start_time": "2023-05-09T13:21:43.771Z"
   },
   {
    "duration": 14,
    "start_time": "2023-05-09T13:21:43.788Z"
   },
   {
    "duration": 28,
    "start_time": "2023-05-09T13:21:43.804Z"
   },
   {
    "duration": 39,
    "start_time": "2023-05-09T13:21:43.836Z"
   },
   {
    "duration": 5,
    "start_time": "2023-05-09T13:21:43.876Z"
   },
   {
    "duration": 34,
    "start_time": "2023-05-09T13:21:43.883Z"
   },
   {
    "duration": 62,
    "start_time": "2023-05-09T13:21:43.920Z"
   },
   {
    "duration": 55,
    "start_time": "2023-05-09T13:21:43.984Z"
   },
   {
    "duration": 9,
    "start_time": "2023-05-09T13:21:44.041Z"
   },
   {
    "duration": 25,
    "start_time": "2023-05-09T13:21:44.052Z"
   },
   {
    "duration": 7,
    "start_time": "2023-05-09T13:21:44.078Z"
   },
   {
    "duration": 50,
    "start_time": "2023-05-09T13:21:44.087Z"
   },
   {
    "duration": 15,
    "start_time": "2023-05-09T13:21:44.138Z"
   },
   {
    "duration": 628,
    "start_time": "2023-05-09T13:21:44.155Z"
   },
   {
    "duration": 5,
    "start_time": "2023-05-09T13:21:44.785Z"
   },
   {
    "duration": 435,
    "start_time": "2023-05-09T13:21:44.791Z"
   },
   {
    "duration": 332,
    "start_time": "2023-05-09T13:21:45.234Z"
   },
   {
    "duration": 14,
    "start_time": "2023-05-09T13:21:45.570Z"
   },
   {
    "duration": 2586,
    "start_time": "2023-05-09T13:21:45.586Z"
   },
   {
    "duration": 8,
    "start_time": "2023-05-09T13:21:48.174Z"
   },
   {
    "duration": 19,
    "start_time": "2023-05-09T13:21:48.183Z"
   },
   {
    "duration": 323,
    "start_time": "2023-05-09T13:21:48.204Z"
   },
   {
    "duration": 1406,
    "start_time": "2023-05-09T13:21:48.529Z"
   },
   {
    "duration": 713,
    "start_time": "2023-05-09T13:21:49.938Z"
   },
   {
    "duration": 911,
    "start_time": "2023-05-09T13:21:50.653Z"
   },
   {
    "duration": 43,
    "start_time": "2023-05-09T13:21:51.566Z"
   },
   {
    "duration": 718,
    "start_time": "2023-05-09T13:21:51.610Z"
   },
   {
    "duration": 6,
    "start_time": "2023-05-09T13:21:52.330Z"
   },
   {
    "duration": 365,
    "start_time": "2023-05-09T13:21:52.338Z"
   },
   {
    "duration": 8,
    "start_time": "2023-05-09T13:21:52.721Z"
   },
   {
    "duration": 492,
    "start_time": "2023-05-09T13:21:52.731Z"
   },
   {
    "duration": 5,
    "start_time": "2023-05-09T13:21:53.226Z"
   },
   {
    "duration": 8,
    "start_time": "2023-05-09T13:21:53.233Z"
   },
   {
    "duration": 5,
    "start_time": "2023-05-09T13:21:53.243Z"
   },
   {
    "duration": 305,
    "start_time": "2023-05-09T13:21:53.250Z"
   },
   {
    "duration": 7,
    "start_time": "2023-05-09T13:21:53.557Z"
   },
   {
    "duration": 7,
    "start_time": "2023-05-09T13:21:53.566Z"
   },
   {
    "duration": 493,
    "start_time": "2023-05-09T13:21:53.575Z"
   },
   {
    "duration": 11,
    "start_time": "2023-05-09T13:21:54.070Z"
   },
   {
    "duration": 80,
    "start_time": "2023-05-09T13:29:25.853Z"
   },
   {
    "duration": 771,
    "start_time": "2023-05-09T13:29:52.164Z"
   },
   {
    "duration": 58,
    "start_time": "2023-05-09T13:29:52.938Z"
   },
   {
    "duration": 41,
    "start_time": "2023-05-09T13:29:52.998Z"
   },
   {
    "duration": 22,
    "start_time": "2023-05-09T13:29:53.042Z"
   },
   {
    "duration": 970,
    "start_time": "2023-05-09T13:29:53.065Z"
   },
   {
    "duration": 5,
    "start_time": "2023-05-09T13:29:54.039Z"
   },
   {
    "duration": 14,
    "start_time": "2023-05-09T13:29:54.048Z"
   },
   {
    "duration": 14,
    "start_time": "2023-05-09T13:29:54.064Z"
   },
   {
    "duration": 15,
    "start_time": "2023-05-09T13:29:54.080Z"
   },
   {
    "duration": 36,
    "start_time": "2023-05-09T13:29:54.098Z"
   },
   {
    "duration": 7,
    "start_time": "2023-05-09T13:29:54.137Z"
   },
   {
    "duration": 12,
    "start_time": "2023-05-09T13:29:54.146Z"
   },
   {
    "duration": 59,
    "start_time": "2023-05-09T13:29:54.160Z"
   },
   {
    "duration": 10,
    "start_time": "2023-05-09T13:29:54.221Z"
   },
   {
    "duration": 22,
    "start_time": "2023-05-09T13:29:54.233Z"
   },
   {
    "duration": 79,
    "start_time": "2023-05-09T13:29:54.257Z"
   },
   {
    "duration": 29,
    "start_time": "2023-05-09T13:29:54.339Z"
   },
   {
    "duration": 11,
    "start_time": "2023-05-09T13:29:54.370Z"
   },
   {
    "duration": 41,
    "start_time": "2023-05-09T13:29:54.382Z"
   },
   {
    "duration": 8,
    "start_time": "2023-05-09T13:29:54.429Z"
   },
   {
    "duration": 32,
    "start_time": "2023-05-09T13:29:54.440Z"
   },
   {
    "duration": 23,
    "start_time": "2023-05-09T13:29:54.474Z"
   },
   {
    "duration": 721,
    "start_time": "2023-05-09T13:29:54.499Z"
   },
   {
    "duration": 7,
    "start_time": "2023-05-09T13:29:55.223Z"
   },
   {
    "duration": 217,
    "start_time": "2023-05-09T13:29:55.232Z"
   },
   {
    "duration": 1169,
    "start_time": "2023-05-09T13:29:55.451Z"
   },
   {
    "duration": 1016,
    "start_time": "2023-05-09T13:29:56.622Z"
   },
   {
    "duration": 17,
    "start_time": "2023-05-09T13:29:57.643Z"
   },
   {
    "duration": 1825,
    "start_time": "2023-05-09T13:29:57.662Z"
   },
   {
    "duration": 28,
    "start_time": "2023-05-09T13:29:59.489Z"
   },
   {
    "duration": 13,
    "start_time": "2023-05-09T13:29:59.521Z"
   },
   {
    "duration": 338,
    "start_time": "2023-05-09T13:29:59.536Z"
   },
   {
    "duration": 1597,
    "start_time": "2023-05-09T13:29:59.876Z"
   },
   {
    "duration": 821,
    "start_time": "2023-05-09T13:30:01.475Z"
   },
   {
    "duration": 961,
    "start_time": "2023-05-09T13:30:02.299Z"
   },
   {
    "duration": 47,
    "start_time": "2023-05-09T13:30:03.262Z"
   },
   {
    "duration": 864,
    "start_time": "2023-05-09T13:30:03.311Z"
   },
   {
    "duration": 4,
    "start_time": "2023-05-09T13:30:04.177Z"
   },
   {
    "duration": 438,
    "start_time": "2023-05-09T13:30:04.183Z"
   },
   {
    "duration": 6,
    "start_time": "2023-05-09T13:30:04.624Z"
   },
   {
    "duration": 570,
    "start_time": "2023-05-09T13:30:04.633Z"
   },
   {
    "duration": 7,
    "start_time": "2023-05-09T13:30:05.217Z"
   },
   {
    "duration": 33,
    "start_time": "2023-05-09T13:30:05.227Z"
   },
   {
    "duration": 16,
    "start_time": "2023-05-09T13:30:05.262Z"
   },
   {
    "duration": 378,
    "start_time": "2023-05-09T13:30:05.280Z"
   },
   {
    "duration": 14,
    "start_time": "2023-05-09T13:30:05.668Z"
   },
   {
    "duration": 32,
    "start_time": "2023-05-09T13:30:05.684Z"
   },
   {
    "duration": 473,
    "start_time": "2023-05-09T13:30:05.718Z"
   },
   {
    "duration": 11,
    "start_time": "2023-05-09T13:30:06.193Z"
   },
   {
    "duration": 11,
    "start_time": "2023-05-09T13:43:27.596Z"
   },
   {
    "duration": 138,
    "start_time": "2023-05-09T13:48:12.196Z"
   },
   {
    "duration": 28,
    "start_time": "2023-05-09T13:51:51.770Z"
   },
   {
    "duration": 758,
    "start_time": "2023-05-09T14:16:02.131Z"
   },
   {
    "duration": 68,
    "start_time": "2023-05-09T14:16:02.892Z"
   },
   {
    "duration": 22,
    "start_time": "2023-05-09T14:16:02.962Z"
   },
   {
    "duration": 31,
    "start_time": "2023-05-09T14:16:02.986Z"
   },
   {
    "duration": 1017,
    "start_time": "2023-05-09T14:16:03.020Z"
   },
   {
    "duration": 5,
    "start_time": "2023-05-09T14:16:04.039Z"
   },
   {
    "duration": 18,
    "start_time": "2023-05-09T14:16:04.052Z"
   },
   {
    "duration": 11,
    "start_time": "2023-05-09T14:16:04.072Z"
   },
   {
    "duration": 29,
    "start_time": "2023-05-09T14:16:04.085Z"
   },
   {
    "duration": 27,
    "start_time": "2023-05-09T14:16:04.119Z"
   },
   {
    "duration": 10,
    "start_time": "2023-05-09T14:16:04.149Z"
   },
   {
    "duration": 20,
    "start_time": "2023-05-09T14:16:04.161Z"
   },
   {
    "duration": 76,
    "start_time": "2023-05-09T14:16:04.183Z"
   },
   {
    "duration": 5,
    "start_time": "2023-05-09T14:16:04.262Z"
   },
   {
    "duration": 72,
    "start_time": "2023-05-09T14:16:04.268Z"
   },
   {
    "duration": 178,
    "start_time": "2023-05-09T14:16:04.342Z"
   },
   {
    "duration": 37,
    "start_time": "2023-05-09T14:16:04.529Z"
   },
   {
    "duration": 52,
    "start_time": "2023-05-09T14:16:04.568Z"
   },
   {
    "duration": 44,
    "start_time": "2023-05-09T14:16:04.624Z"
   },
   {
    "duration": 50,
    "start_time": "2023-05-09T14:16:04.670Z"
   },
   {
    "duration": 13,
    "start_time": "2023-05-09T14:16:04.728Z"
   },
   {
    "duration": 21,
    "start_time": "2023-05-09T14:16:04.743Z"
   },
   {
    "duration": 1555,
    "start_time": "2023-05-09T14:16:04.766Z"
   },
   {
    "duration": 7,
    "start_time": "2023-05-09T14:16:06.324Z"
   },
   {
    "duration": 217,
    "start_time": "2023-05-09T14:16:06.334Z"
   },
   {
    "duration": 668,
    "start_time": "2023-05-09T14:16:06.553Z"
   },
   {
    "duration": 369,
    "start_time": "2023-05-09T14:16:07.223Z"
   },
   {
    "duration": 30,
    "start_time": "2023-05-09T14:16:07.594Z"
   },
   {
    "duration": 14,
    "start_time": "2023-05-09T14:16:07.626Z"
   },
   {
    "duration": 1269,
    "start_time": "2023-05-09T14:16:07.642Z"
   },
   {
    "duration": 11,
    "start_time": "2023-05-09T14:16:08.914Z"
   },
   {
    "duration": 38,
    "start_time": "2023-05-09T14:16:08.927Z"
   },
   {
    "duration": 413,
    "start_time": "2023-05-09T14:16:08.967Z"
   },
   {
    "duration": 1419,
    "start_time": "2023-05-09T14:16:09.381Z"
   },
   {
    "duration": 725,
    "start_time": "2023-05-09T14:16:10.802Z"
   },
   {
    "duration": 874,
    "start_time": "2023-05-09T14:16:11.530Z"
   },
   {
    "duration": 55,
    "start_time": "2023-05-09T14:16:12.407Z"
   },
   {
    "duration": 823,
    "start_time": "2023-05-09T14:16:12.464Z"
   },
   {
    "duration": 5,
    "start_time": "2023-05-09T14:16:13.288Z"
   },
   {
    "duration": 406,
    "start_time": "2023-05-09T14:16:13.295Z"
   },
   {
    "duration": 5,
    "start_time": "2023-05-09T14:16:13.721Z"
   },
   {
    "duration": 526,
    "start_time": "2023-05-09T14:16:13.730Z"
   },
   {
    "duration": 9,
    "start_time": "2023-05-09T14:16:14.258Z"
   },
   {
    "duration": 24,
    "start_time": "2023-05-09T14:16:14.269Z"
   },
   {
    "duration": 30,
    "start_time": "2023-05-09T14:16:14.296Z"
   },
   {
    "duration": 364,
    "start_time": "2023-05-09T14:16:14.334Z"
   },
   {
    "duration": 6,
    "start_time": "2023-05-09T14:16:14.701Z"
   },
   {
    "duration": 27,
    "start_time": "2023-05-09T14:16:14.720Z"
   },
   {
    "duration": 430,
    "start_time": "2023-05-09T14:16:14.749Z"
   },
   {
    "duration": 12,
    "start_time": "2023-05-09T14:16:15.180Z"
   },
   {
    "duration": 5,
    "start_time": "2023-05-09T14:17:27.294Z"
   },
   {
    "duration": 1069,
    "start_time": "2023-05-11T22:37:25.321Z"
   },
   {
    "duration": 54,
    "start_time": "2023-05-11T22:37:26.392Z"
   },
   {
    "duration": 20,
    "start_time": "2023-05-11T22:37:26.447Z"
   },
   {
    "duration": 14,
    "start_time": "2023-05-11T22:37:26.469Z"
   },
   {
    "duration": 731,
    "start_time": "2023-05-11T22:37:26.486Z"
   },
   {
    "duration": 3,
    "start_time": "2023-05-11T22:37:27.222Z"
   },
   {
    "duration": 16,
    "start_time": "2023-05-11T22:37:27.227Z"
   },
   {
    "duration": 5,
    "start_time": "2023-05-11T22:37:27.245Z"
   },
   {
    "duration": 10,
    "start_time": "2023-05-11T22:37:27.251Z"
   },
   {
    "duration": 4,
    "start_time": "2023-05-11T22:37:27.262Z"
   },
   {
    "duration": 5,
    "start_time": "2023-05-11T22:37:27.267Z"
   },
   {
    "duration": 36,
    "start_time": "2023-05-11T22:37:27.274Z"
   },
   {
    "duration": 19,
    "start_time": "2023-05-11T22:37:27.314Z"
   },
   {
    "duration": 4,
    "start_time": "2023-05-11T22:37:27.336Z"
   },
   {
    "duration": 3,
    "start_time": "2023-05-11T22:37:27.342Z"
   },
   {
    "duration": 72,
    "start_time": "2023-05-11T22:37:27.346Z"
   },
   {
    "duration": 2,
    "start_time": "2023-05-11T22:37:27.421Z"
   },
   {
    "duration": 11,
    "start_time": "2023-05-11T22:37:27.425Z"
   },
   {
    "duration": 27,
    "start_time": "2023-05-11T22:37:27.437Z"
   },
   {
    "duration": 10,
    "start_time": "2023-05-11T22:37:27.466Z"
   },
   {
    "duration": 7,
    "start_time": "2023-05-11T22:37:27.478Z"
   },
   {
    "duration": 37,
    "start_time": "2023-05-11T22:37:27.487Z"
   },
   {
    "duration": 7,
    "start_time": "2023-05-11T22:37:27.526Z"
   },
   {
    "duration": 18,
    "start_time": "2023-05-11T22:37:27.535Z"
   },
   {
    "duration": 11,
    "start_time": "2023-05-11T22:37:27.555Z"
   },
   {
    "duration": 407,
    "start_time": "2023-05-11T22:37:27.567Z"
   },
   {
    "duration": 3,
    "start_time": "2023-05-11T22:37:27.976Z"
   },
   {
    "duration": 82,
    "start_time": "2023-05-11T22:37:27.981Z"
   },
   {
    "duration": 375,
    "start_time": "2023-05-11T22:37:28.064Z"
   },
   {
    "duration": 281,
    "start_time": "2023-05-11T22:37:28.441Z"
   },
   {
    "duration": 10,
    "start_time": "2023-05-11T22:37:28.724Z"
   },
   {
    "duration": 8,
    "start_time": "2023-05-11T22:37:28.736Z"
   },
   {
    "duration": 887,
    "start_time": "2023-05-11T22:37:28.746Z"
   },
   {
    "duration": 8,
    "start_time": "2023-05-11T22:37:29.634Z"
   },
   {
    "duration": 6,
    "start_time": "2023-05-11T22:37:29.643Z"
   },
   {
    "duration": 210,
    "start_time": "2023-05-11T22:37:29.650Z"
   },
   {
    "duration": 11,
    "start_time": "2023-05-11T22:37:29.861Z"
   },
   {
    "duration": 1115,
    "start_time": "2023-05-11T22:37:29.874Z"
   },
   {
    "duration": 3,
    "start_time": "2023-05-11T22:37:30.992Z"
   },
   {
    "duration": 131,
    "start_time": "2023-05-11T22:37:31.008Z"
   },
   {
    "duration": 243,
    "start_time": "2023-05-11T22:37:31.143Z"
   },
   {
    "duration": 263,
    "start_time": "2023-05-11T22:37:31.388Z"
   },
   {
    "duration": 2,
    "start_time": "2023-05-11T22:37:31.653Z"
   },
   {
    "duration": 178,
    "start_time": "2023-05-11T22:37:31.657Z"
   },
   {
    "duration": 151,
    "start_time": "2023-05-11T22:37:31.837Z"
   },
   {
    "duration": 1591,
    "start_time": "2023-05-11T22:37:31.990Z"
   },
   {
    "duration": 3,
    "start_time": "2023-05-11T22:37:33.583Z"
   },
   {
    "duration": 6,
    "start_time": "2023-05-11T22:37:33.588Z"
   },
   {
    "duration": 587,
    "start_time": "2023-05-11T22:37:33.595Z"
   },
   {
    "duration": 2,
    "start_time": "2023-05-11T22:37:34.184Z"
   },
   {
    "duration": 7,
    "start_time": "2023-05-11T22:37:34.187Z"
   },
   {
    "duration": 427,
    "start_time": "2023-05-11T22:37:34.206Z"
   },
   {
    "duration": 2,
    "start_time": "2023-05-11T22:37:34.635Z"
   },
   {
    "duration": 6,
    "start_time": "2023-05-11T22:37:34.638Z"
   },
   {
    "duration": 309,
    "start_time": "2023-05-11T22:37:34.645Z"
   },
   {
    "duration": 4,
    "start_time": "2023-05-11T22:37:34.956Z"
   },
   {
    "duration": 7,
    "start_time": "2023-05-11T22:37:34.962Z"
   },
   {
    "duration": 7,
    "start_time": "2023-05-11T22:37:34.970Z"
   },
   {
    "duration": 8,
    "start_time": "2023-05-11T22:37:34.978Z"
   },
   {
    "duration": 287,
    "start_time": "2023-05-11T22:37:34.988Z"
   },
   {
    "duration": 6,
    "start_time": "2023-05-11T22:37:35.276Z"
   },
   {
    "duration": 9,
    "start_time": "2023-05-11T22:37:35.283Z"
   },
   {
    "duration": 14,
    "start_time": "2023-05-11T22:37:35.293Z"
   },
   {
    "duration": 18,
    "start_time": "2023-05-11T22:37:35.310Z"
   },
   {
    "duration": 6,
    "start_time": "2023-05-11T22:37:35.329Z"
   },
   {
    "duration": 6,
    "start_time": "2023-05-11T22:37:35.336Z"
   },
   {
    "duration": 1872,
    "start_time": "2023-07-14T15:03:55.261Z"
   },
   {
    "duration": 835,
    "start_time": "2023-07-14T15:03:57.136Z"
   },
   {
    "duration": 21,
    "start_time": "2023-07-14T15:03:57.974Z"
   },
   {
    "duration": 54,
    "start_time": "2023-07-14T15:03:57.997Z"
   },
   {
    "duration": 50,
    "start_time": "2023-07-14T15:03:58.059Z"
   },
   {
    "duration": 12,
    "start_time": "2023-07-14T15:03:58.111Z"
   },
   {
    "duration": 15,
    "start_time": "2023-07-14T15:03:58.125Z"
   },
   {
    "duration": 137,
    "start_time": "2023-07-14T15:03:58.142Z"
   },
   {
    "duration": 16,
    "start_time": "2023-07-14T15:03:58.285Z"
   },
   {
    "duration": 11,
    "start_time": "2023-07-14T15:03:58.304Z"
   },
   {
    "duration": 138,
    "start_time": "2023-07-14T15:03:58.317Z"
   },
   {
    "duration": 24,
    "start_time": "2023-07-14T15:03:58.461Z"
   },
   {
    "duration": 30,
    "start_time": "2023-07-14T15:03:58.486Z"
   },
   {
    "duration": 44,
    "start_time": "2023-07-14T15:03:58.521Z"
   },
   {
    "duration": 76,
    "start_time": "2023-07-14T15:03:58.567Z"
   },
   {
    "duration": 25,
    "start_time": "2023-07-14T15:03:58.658Z"
   },
   {
    "duration": 507,
    "start_time": "2023-07-14T15:03:58.684Z"
   },
   {
    "duration": 44,
    "start_time": "2023-07-14T15:03:59.193Z"
   },
   {
    "duration": 14,
    "start_time": "2023-07-14T15:03:59.239Z"
   },
   {
    "duration": 49,
    "start_time": "2023-07-14T15:03:59.255Z"
   },
   {
    "duration": 45,
    "start_time": "2023-07-14T15:03:59.306Z"
   },
   {
    "duration": 123,
    "start_time": "2023-07-14T15:03:59.353Z"
   },
   {
    "duration": 16,
    "start_time": "2023-07-14T15:03:59.478Z"
   },
   {
    "duration": 22,
    "start_time": "2023-07-14T15:03:59.496Z"
   },
   {
    "duration": 357,
    "start_time": "2023-07-14T15:03:59.520Z"
   },
   {
    "duration": 57,
    "start_time": "2023-07-14T15:03:59.879Z"
   },
   {
    "duration": 71,
    "start_time": "2023-07-14T15:03:59.945Z"
   },
   {
    "duration": 81,
    "start_time": "2023-07-14T15:04:00.018Z"
   },
   {
    "duration": 77,
    "start_time": "2023-07-14T15:04:00.101Z"
   },
   {
    "duration": 197,
    "start_time": "2023-07-14T15:04:00.181Z"
   },
   {
    "duration": 90,
    "start_time": "2023-07-14T15:04:00.380Z"
   },
   {
    "duration": 10,
    "start_time": "2023-07-14T15:04:00.474Z"
   },
   {
    "duration": 133,
    "start_time": "2023-07-14T15:04:00.486Z"
   },
   {
    "duration": 75,
    "start_time": "2023-07-14T15:04:00.622Z"
   },
   {
    "duration": 75,
    "start_time": "2023-07-14T15:04:00.700Z"
   },
   {
    "duration": 79,
    "start_time": "2023-07-14T15:04:00.778Z"
   },
   {
    "duration": 100,
    "start_time": "2023-07-14T15:04:00.861Z"
   },
   {
    "duration": 72,
    "start_time": "2023-07-14T15:04:00.964Z"
   },
   {
    "duration": 65,
    "start_time": "2023-07-14T15:04:01.038Z"
   },
   {
    "duration": 247,
    "start_time": "2023-07-14T15:04:01.105Z"
   },
   {
    "duration": 67,
    "start_time": "2023-07-14T15:04:01.358Z"
   },
   {
    "duration": 110,
    "start_time": "2023-07-14T15:04:01.428Z"
   },
   {
    "duration": 50,
    "start_time": "2023-07-14T15:04:01.540Z"
   },
   {
    "duration": 69,
    "start_time": "2023-07-14T15:04:01.593Z"
   },
   {
    "duration": 10,
    "start_time": "2023-07-14T15:04:01.665Z"
   },
   {
    "duration": 116,
    "start_time": "2023-07-14T15:04:01.677Z"
   },
   {
    "duration": 85,
    "start_time": "2023-07-14T15:04:01.795Z"
   },
   {
    "duration": 54,
    "start_time": "2023-07-14T15:04:01.884Z"
   },
   {
    "duration": 62,
    "start_time": "2023-07-14T15:04:01.939Z"
   },
   {
    "duration": 129,
    "start_time": "2023-07-14T15:11:40.455Z"
   },
   {
    "duration": 18,
    "start_time": "2023-07-14T15:11:56.497Z"
   },
   {
    "duration": 15,
    "start_time": "2023-07-14T15:12:02.877Z"
   },
   {
    "duration": 5,
    "start_time": "2023-07-14T15:12:25.427Z"
   },
   {
    "duration": 5,
    "start_time": "2023-07-14T15:12:31.305Z"
   },
   {
    "duration": 39,
    "start_time": "2023-07-14T15:12:54.149Z"
   },
   {
    "duration": 209,
    "start_time": "2023-07-14T15:13:52.325Z"
   },
   {
    "duration": 216,
    "start_time": "2023-07-14T15:14:00.070Z"
   },
   {
    "duration": 4,
    "start_time": "2023-07-14T15:15:48.081Z"
   },
   {
    "duration": 13,
    "start_time": "2023-07-14T15:15:50.915Z"
   },
   {
    "duration": 97,
    "start_time": "2023-07-14T15:24:09.393Z"
   },
   {
    "duration": 9,
    "start_time": "2023-07-14T15:24:14.075Z"
   },
   {
    "duration": 1583,
    "start_time": "2023-07-16T22:44:12.104Z"
   },
   {
    "duration": 496,
    "start_time": "2023-07-16T22:44:13.689Z"
   },
   {
    "duration": 11,
    "start_time": "2023-07-16T22:44:14.187Z"
   },
   {
    "duration": 42,
    "start_time": "2023-07-16T22:44:14.200Z"
   },
   {
    "duration": 38,
    "start_time": "2023-07-16T22:44:14.244Z"
   },
   {
    "duration": 3,
    "start_time": "2023-07-16T22:44:14.284Z"
   },
   {
    "duration": 35,
    "start_time": "2023-07-16T22:44:14.288Z"
   },
   {
    "duration": 99,
    "start_time": "2023-07-16T22:44:14.325Z"
   },
   {
    "duration": 12,
    "start_time": "2023-07-16T22:44:14.425Z"
   },
   {
    "duration": 14,
    "start_time": "2023-07-16T22:44:14.440Z"
   },
   {
    "duration": 137,
    "start_time": "2023-07-16T22:44:14.455Z"
   },
   {
    "duration": 83,
    "start_time": "2023-07-16T22:44:14.594Z"
   },
   {
    "duration": 95,
    "start_time": "2023-07-16T22:44:14.678Z"
   },
   {
    "duration": 104,
    "start_time": "2023-07-16T22:44:14.776Z"
   },
   {
    "duration": 17,
    "start_time": "2023-07-16T22:44:14.883Z"
   },
   {
    "duration": 30,
    "start_time": "2023-07-16T22:44:14.902Z"
   },
   {
    "duration": 25,
    "start_time": "2023-07-16T22:44:14.933Z"
   },
   {
    "duration": 217,
    "start_time": "2023-07-16T22:44:14.959Z"
   },
   {
    "duration": 43,
    "start_time": "2023-07-16T22:44:15.178Z"
   },
   {
    "duration": 269,
    "start_time": "2023-07-16T22:44:15.222Z"
   },
   {
    "duration": 63,
    "start_time": "2023-07-16T22:44:15.493Z"
   },
   {
    "duration": 6,
    "start_time": "2023-07-16T22:44:15.558Z"
   },
   {
    "duration": 10,
    "start_time": "2023-07-16T22:44:15.565Z"
   },
   {
    "duration": 30,
    "start_time": "2023-07-16T22:44:15.576Z"
   },
   {
    "duration": 76,
    "start_time": "2023-07-16T22:44:15.608Z"
   },
   {
    "duration": 12,
    "start_time": "2023-07-16T22:44:15.685Z"
   },
   {
    "duration": 21,
    "start_time": "2023-07-16T22:44:15.698Z"
   },
   {
    "duration": 23,
    "start_time": "2023-07-16T22:44:15.724Z"
   },
   {
    "duration": 8,
    "start_time": "2023-07-16T22:44:15.748Z"
   },
   {
    "duration": 52,
    "start_time": "2023-07-16T22:44:15.758Z"
   },
   {
    "duration": 39,
    "start_time": "2023-07-16T22:44:15.812Z"
   },
   {
    "duration": 36,
    "start_time": "2023-07-16T22:44:15.853Z"
   },
   {
    "duration": 50,
    "start_time": "2023-07-16T22:44:15.891Z"
   },
   {
    "duration": 22,
    "start_time": "2023-07-16T22:44:15.943Z"
   },
   {
    "duration": 38,
    "start_time": "2023-07-16T22:44:15.966Z"
   },
   {
    "duration": 58,
    "start_time": "2023-07-16T22:44:16.005Z"
   },
   {
    "duration": 5,
    "start_time": "2023-07-16T22:44:16.065Z"
   },
   {
    "duration": 76,
    "start_time": "2023-07-16T22:44:16.072Z"
   },
   {
    "duration": 39,
    "start_time": "2023-07-16T22:44:16.149Z"
   },
   {
    "duration": 54,
    "start_time": "2023-07-16T22:44:16.190Z"
   },
   {
    "duration": 37,
    "start_time": "2023-07-16T22:44:16.245Z"
   },
   {
    "duration": 62,
    "start_time": "2023-07-16T22:44:16.283Z"
   },
   {
    "duration": 36,
    "start_time": "2023-07-16T22:44:16.347Z"
   },
   {
    "duration": 58,
    "start_time": "2023-07-16T22:44:16.385Z"
   },
   {
    "duration": 36,
    "start_time": "2023-07-16T22:44:16.444Z"
   },
   {
    "duration": 56,
    "start_time": "2023-07-16T22:44:16.482Z"
   },
   {
    "duration": 38,
    "start_time": "2023-07-16T22:44:16.540Z"
   },
   {
    "duration": 53,
    "start_time": "2023-07-16T22:44:16.580Z"
   },
   {
    "duration": 36,
    "start_time": "2023-07-16T22:44:16.635Z"
   },
   {
    "duration": 5,
    "start_time": "2023-07-16T22:44:16.673Z"
   },
   {
    "duration": 72,
    "start_time": "2023-07-16T22:44:16.679Z"
   },
   {
    "duration": 47,
    "start_time": "2023-07-16T22:44:16.753Z"
   },
   {
    "duration": 70,
    "start_time": "2023-07-16T22:44:16.802Z"
   },
   {
    "duration": 53,
    "start_time": "2023-07-16T22:44:16.873Z"
   },
   {
    "duration": 47,
    "start_time": "2023-07-16T22:44:16.927Z"
   },
   {
    "duration": 54,
    "start_time": "2023-07-16T22:44:16.975Z"
   },
   {
    "duration": 48,
    "start_time": "2023-07-16T22:44:17.031Z"
   },
   {
    "duration": 55,
    "start_time": "2023-07-16T22:44:17.081Z"
   },
   {
    "duration": 48,
    "start_time": "2023-07-16T22:44:17.137Z"
   },
   {
    "duration": 57,
    "start_time": "2023-07-16T22:44:17.187Z"
   },
   {
    "duration": 46,
    "start_time": "2023-07-16T22:44:17.245Z"
   },
   {
    "duration": 59,
    "start_time": "2023-07-16T22:44:17.293Z"
   },
   {
    "duration": 52,
    "start_time": "2023-07-16T22:44:17.354Z"
   },
   {
    "duration": 55,
    "start_time": "2023-07-16T22:44:17.407Z"
   },
   {
    "duration": 68,
    "start_time": "2023-07-16T22:44:17.464Z"
   },
   {
    "duration": 43,
    "start_time": "2023-07-16T22:44:17.534Z"
   },
   {
    "duration": 78,
    "start_time": "2023-07-16T22:44:17.579Z"
   },
   {
    "duration": 61,
    "start_time": "2023-07-16T22:44:17.659Z"
   },
   {
    "duration": 57,
    "start_time": "2023-07-16T22:44:17.722Z"
   },
   {
    "duration": 72,
    "start_time": "2023-07-16T22:44:17.781Z"
   }
  ],
  "kernelspec": {
   "display_name": "Python 3 (ipykernel)",
   "language": "python",
   "name": "python3"
  },
  "language_info": {
   "codemirror_mode": {
    "name": "ipython",
    "version": 3
   },
   "file_extension": ".py",
   "mimetype": "text/x-python",
   "name": "python",
   "nbconvert_exporter": "python",
   "pygments_lexer": "ipython3",
   "version": "3.9.16"
  },
  "toc": {
   "base_numbering": 1,
   "nav_menu": {},
   "number_sections": true,
   "sideBar": true,
   "skip_h1_title": true,
   "title_cell": "Table of Contents",
   "title_sidebar": "Contents",
   "toc_cell": false,
   "toc_position": {
    "height": "calc(100% - 180px)",
    "left": "10px",
    "top": "150px",
    "width": "187.943px"
   },
   "toc_section_display": true,
   "toc_window_display": true
  }
 },
 "nbformat": 4,
 "nbformat_minor": 5
}
