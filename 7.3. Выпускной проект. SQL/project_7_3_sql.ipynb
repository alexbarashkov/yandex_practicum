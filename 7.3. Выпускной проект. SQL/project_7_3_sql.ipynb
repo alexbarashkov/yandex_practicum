{
 "cells": [
  {
   "cell_type": "markdown",
   "id": "a9adb78d",
   "metadata": {},
   "source": [
    "# Выпускной проект. SQL"
   ]
  },
  {
   "cell_type": "markdown",
   "id": "eb03167d",
   "metadata": {},
   "source": [
    "__План (декомпозиция) анализа данных:__  \n",
    "\n",
    "1. [Введение.](#intro)  \n",
    "    1.1. [Описание проекта.](#project)  \n",
    "    1.2. [Цель проекта.](#purpose)  \n",
    "    1.3. [Описание данных.](#data)  \n",
    "2. [Изучение общей информации.](#read_and_study)  \n",
    "    2.1. [Импорт библиотек и установка параметров доступа к базе данных.](#import)  \n",
    "    2.2. [Рассмотрение общей информации.](#info)  \n",
    "3. [Выполнение заданий.](#tasks)  \n",
    "    3.1. [Количество книг, вышедших после 1 января 2000 года.](#books_count)  \n",
    "    3.2. [Количество обзоров и средняя оценка для каждой книги.](#reviews_count)  \n",
    "    3.3. [Определение издательства, которое выпустило наибольшее число книг толще 50 страниц.](#publishing_house)  \n",
    "    3.4. [Определение автора с самой высокой средней оценкой книг.](#author)  \n",
    "    3.5. [Среднее количество обзоров от пользователей, которые поставили больше 48 оценок.](#users_reviews)  \n",
    "4. [Общий вывод.](#conclusion)  "
   ]
  },
  {
   "cell_type": "markdown",
   "id": "e620c801",
   "metadata": {},
   "source": [
    "##  <a id=\"intro\">Введение.</a>"
   ]
  },
  {
   "cell_type": "markdown",
   "id": "eff1a487",
   "metadata": {},
   "source": [
    "### <a id=\"project\">Описание проекта.</a>\n",
    "\n",
    "Коронавирус застал мир врасплох, изменив привычный порядок вещей. В свободное время жители городов больше не выходят на улицу, не посещают кафе и торговые центры. Зато стало больше времени для книг.\n",
    "\n",
    "Наша компания решила быть на волне и купила крупный сервис для чтения книг по подписке. В представленной базе данных — информация о книгах, издательствах, авторах, а также пользовательские обзоры книг. Эти данные помогут сформулировать ценностное предложение для нового продукта.\n",
    "\n",
    "### <a id=\"purpose\">Цель проекта.</a>\n",
    "\n",
    "Проанализировать базу данных купленного сервиса для чтения книг по подписке и сформулировать ценностное предложение для нового продукта.\n",
    "\n",
    "### <a id=\"data\">Описание данных.</a>\n",
    "\n",
    "Таблица `books` содержит данные о книгах:\n",
    "- `book_id` — идентификатор книги;\n",
    "- `author_id` — идентификатор автора;\n",
    "- `title` — название книги;\n",
    "- `num_pages` — количество страниц;\n",
    "- `publication_date` — дата публикации книги;\n",
    "- `publisher_id` — идентификатор издателя.\n",
    "\n",
    "Таблица `authors` содержит данные об авторах:\n",
    "- `author_id` — идентификатор автора;\n",
    "- `author` — имя автора.\n",
    "\n",
    "Таблица `publishers` содержит данные об издательствах:\n",
    "- `publisher_id` — идентификатор издательства;\n",
    "- `publisher` — название издательства;\n",
    "\n",
    "Таблица `ratings` содержит данные о пользовательских оценках книг:\n",
    "- `rating_id` — идентификатор оценки;\n",
    "- `book_id` — идентификатор книги;\n",
    "- `username` — имя пользователя, оставившего оценку;\n",
    "- `rating` — оценка книги.\n",
    "\n",
    "Таблица `reviews` содержит данные о пользовательских обзорах на книги:\n",
    "- `review_id` — идентификатор обзора;\n",
    "- `book_id` — идентификатор книги;\n",
    "- `username` — имя пользователя, написавшего обзор;\n",
    "- `text` — текст обзора."
   ]
  },
  {
   "cell_type": "markdown",
   "id": "a4425fe5",
   "metadata": {},
   "source": [
    "##  <a id=\"read_and_study\">Изучение общей информации.</a>"
   ]
  },
  {
   "cell_type": "markdown",
   "id": "bbf1cbd4",
   "metadata": {},
   "source": [
    "### <a id=\"import\">Импорт библиотек и установка параметров доступа к базе данных.</a>"
   ]
  },
  {
   "cell_type": "code",
   "execution_count": 1,
   "id": "1f4c9aa8",
   "metadata": {
    "scrolled": true
   },
   "outputs": [
    {
     "name": "stdout",
     "output_type": "stream",
     "text": [
      "Requirement already satisfied: sqlalchemy in /Users/alexeybarashkov/anaconda3/envs/practicum/lib/python3.9/site-packages (2.0.20)\n",
      "Requirement already satisfied: typing-extensions>=4.2.0 in /Users/alexeybarashkov/anaconda3/envs/practicum/lib/python3.9/site-packages (from sqlalchemy) (4.7.1)\n",
      "Requirement already satisfied: psycopg2-binary in /Users/alexeybarashkov/anaconda3/envs/practicum/lib/python3.9/site-packages (2.9.7)\n"
     ]
    }
   ],
   "source": [
    "# Устанавливаем необходимые в проекте библиотеки\n",
    "!pip install sqlalchemy\n",
    "!pip install psycopg2-binary"
   ]
  },
  {
   "cell_type": "code",
   "execution_count": 2,
   "id": "34648909",
   "metadata": {},
   "outputs": [],
   "source": [
    "# Импортируем библиотеки\n",
    "import pandas as pd\n",
    "from sqlalchemy import text, create_engine"
   ]
  },
  {
   "cell_type": "code",
   "execution_count": 3,
   "id": "641d64b4",
   "metadata": {},
   "outputs": [],
   "source": [
    "# Устанавливаем параметры\n",
    "db_config = {'user': 'praktikum_student', # имя пользователя\n",
    "'pwd': 'Sdf4$2;d-d30pp', # пароль\n",
    "'host': 'rc1b-wcoijxj3yxfsf3fs.mdb.yandexcloud.net',\n",
    "'port': 6432, # порт подключения\n",
    "'db': 'data-analyst-final-project-db'} # название базы данных\n",
    "connection_string = 'postgresql://{user}:{pwd}@{host}:{port}/{db}'.format(**db_config)\n",
    "\n",
    "# Сохраняем коннектор\n",
    "engine = create_engine(connection_string, connect_args={'sslmode':'require'})"
   ]
  },
  {
   "cell_type": "markdown",
   "id": "e9391a0c",
   "metadata": {},
   "source": [
    "### <a id=\"info\">Рассмотрение общей информации.</a>"
   ]
  },
  {
   "cell_type": "code",
   "execution_count": 4,
   "id": "fb6d247d",
   "metadata": {},
   "outputs": [],
   "source": [
    "# Определим функцию для предварительного исследования таблиц\n",
    "def info(table):\n",
    "    display(pd.io.sql.read_sql(sql=text('''SELECT * FROM {} LIMIT 5'''.format(table)), con = engine.connect()))\n",
    "    pd.io.sql.read_sql(sql=text('''SELECT * FROM {}'''.format(table)), con = engine.connect()).info()\n",
    "    display(pd.io.sql.read_sql(sql=text('''SELECT * FROM {}'''.format(table)), con = engine.connect()).describe())"
   ]
  },
  {
   "cell_type": "markdown",
   "id": "b5dd6a42",
   "metadata": {},
   "source": [
    "Применяя функцию `info` рассмотрим общую информацию по таблицам."
   ]
  },
  {
   "cell_type": "code",
   "execution_count": 5,
   "id": "c7a702b5",
   "metadata": {
    "scrolled": false
   },
   "outputs": [
    {
     "name": "stdout",
     "output_type": "stream",
     "text": [
      "Общая информация по таблице `books`:\n"
     ]
    },
    {
     "data": {
      "text/html": [
       "<div>\n",
       "<style scoped>\n",
       "    .dataframe tbody tr th:only-of-type {\n",
       "        vertical-align: middle;\n",
       "    }\n",
       "\n",
       "    .dataframe tbody tr th {\n",
       "        vertical-align: top;\n",
       "    }\n",
       "\n",
       "    .dataframe thead th {\n",
       "        text-align: right;\n",
       "    }\n",
       "</style>\n",
       "<table border=\"1\" class=\"dataframe\">\n",
       "  <thead>\n",
       "    <tr style=\"text-align: right;\">\n",
       "      <th></th>\n",
       "      <th>book_id</th>\n",
       "      <th>author_id</th>\n",
       "      <th>title</th>\n",
       "      <th>num_pages</th>\n",
       "      <th>publication_date</th>\n",
       "      <th>publisher_id</th>\n",
       "    </tr>\n",
       "  </thead>\n",
       "  <tbody>\n",
       "    <tr>\n",
       "      <th>0</th>\n",
       "      <td>1</td>\n",
       "      <td>546</td>\n",
       "      <td>'Salem's Lot</td>\n",
       "      <td>594</td>\n",
       "      <td>2005-11-01</td>\n",
       "      <td>93</td>\n",
       "    </tr>\n",
       "    <tr>\n",
       "      <th>1</th>\n",
       "      <td>2</td>\n",
       "      <td>465</td>\n",
       "      <td>1 000 Places to See Before You Die</td>\n",
       "      <td>992</td>\n",
       "      <td>2003-05-22</td>\n",
       "      <td>336</td>\n",
       "    </tr>\n",
       "    <tr>\n",
       "      <th>2</th>\n",
       "      <td>3</td>\n",
       "      <td>407</td>\n",
       "      <td>13 Little Blue Envelopes (Little Blue Envelope...</td>\n",
       "      <td>322</td>\n",
       "      <td>2010-12-21</td>\n",
       "      <td>135</td>\n",
       "    </tr>\n",
       "    <tr>\n",
       "      <th>3</th>\n",
       "      <td>4</td>\n",
       "      <td>82</td>\n",
       "      <td>1491: New Revelations of the Americas Before C...</td>\n",
       "      <td>541</td>\n",
       "      <td>2006-10-10</td>\n",
       "      <td>309</td>\n",
       "    </tr>\n",
       "    <tr>\n",
       "      <th>4</th>\n",
       "      <td>5</td>\n",
       "      <td>125</td>\n",
       "      <td>1776</td>\n",
       "      <td>386</td>\n",
       "      <td>2006-07-04</td>\n",
       "      <td>268</td>\n",
       "    </tr>\n",
       "  </tbody>\n",
       "</table>\n",
       "</div>"
      ],
      "text/plain": [
       "   book_id  author_id                                              title  \\\n",
       "0        1        546                                       'Salem's Lot   \n",
       "1        2        465                 1 000 Places to See Before You Die   \n",
       "2        3        407  13 Little Blue Envelopes (Little Blue Envelope...   \n",
       "3        4         82  1491: New Revelations of the Americas Before C...   \n",
       "4        5        125                                               1776   \n",
       "\n",
       "   num_pages publication_date  publisher_id  \n",
       "0        594       2005-11-01            93  \n",
       "1        992       2003-05-22           336  \n",
       "2        322       2010-12-21           135  \n",
       "3        541       2006-10-10           309  \n",
       "4        386       2006-07-04           268  "
      ]
     },
     "metadata": {},
     "output_type": "display_data"
    },
    {
     "name": "stdout",
     "output_type": "stream",
     "text": [
      "<class 'pandas.core.frame.DataFrame'>\n",
      "RangeIndex: 1000 entries, 0 to 999\n",
      "Data columns (total 6 columns):\n",
      " #   Column            Non-Null Count  Dtype \n",
      "---  ------            --------------  ----- \n",
      " 0   book_id           1000 non-null   int64 \n",
      " 1   author_id         1000 non-null   int64 \n",
      " 2   title             1000 non-null   object\n",
      " 3   num_pages         1000 non-null   int64 \n",
      " 4   publication_date  1000 non-null   object\n",
      " 5   publisher_id      1000 non-null   int64 \n",
      "dtypes: int64(4), object(2)\n",
      "memory usage: 47.0+ KB\n"
     ]
    },
    {
     "data": {
      "text/html": [
       "<div>\n",
       "<style scoped>\n",
       "    .dataframe tbody tr th:only-of-type {\n",
       "        vertical-align: middle;\n",
       "    }\n",
       "\n",
       "    .dataframe tbody tr th {\n",
       "        vertical-align: top;\n",
       "    }\n",
       "\n",
       "    .dataframe thead th {\n",
       "        text-align: right;\n",
       "    }\n",
       "</style>\n",
       "<table border=\"1\" class=\"dataframe\">\n",
       "  <thead>\n",
       "    <tr style=\"text-align: right;\">\n",
       "      <th></th>\n",
       "      <th>book_id</th>\n",
       "      <th>author_id</th>\n",
       "      <th>num_pages</th>\n",
       "      <th>publisher_id</th>\n",
       "    </tr>\n",
       "  </thead>\n",
       "  <tbody>\n",
       "    <tr>\n",
       "      <th>count</th>\n",
       "      <td>1000.000000</td>\n",
       "      <td>1000.000000</td>\n",
       "      <td>1000.00000</td>\n",
       "      <td>1000.000000</td>\n",
       "    </tr>\n",
       "    <tr>\n",
       "      <th>mean</th>\n",
       "      <td>500.500000</td>\n",
       "      <td>320.417000</td>\n",
       "      <td>389.11100</td>\n",
       "      <td>171.270000</td>\n",
       "    </tr>\n",
       "    <tr>\n",
       "      <th>std</th>\n",
       "      <td>288.819436</td>\n",
       "      <td>181.620172</td>\n",
       "      <td>229.39014</td>\n",
       "      <td>99.082685</td>\n",
       "    </tr>\n",
       "    <tr>\n",
       "      <th>min</th>\n",
       "      <td>1.000000</td>\n",
       "      <td>1.000000</td>\n",
       "      <td>14.00000</td>\n",
       "      <td>1.000000</td>\n",
       "    </tr>\n",
       "    <tr>\n",
       "      <th>25%</th>\n",
       "      <td>250.750000</td>\n",
       "      <td>162.750000</td>\n",
       "      <td>249.00000</td>\n",
       "      <td>83.000000</td>\n",
       "    </tr>\n",
       "    <tr>\n",
       "      <th>50%</th>\n",
       "      <td>500.500000</td>\n",
       "      <td>316.500000</td>\n",
       "      <td>352.00000</td>\n",
       "      <td>177.500000</td>\n",
       "    </tr>\n",
       "    <tr>\n",
       "      <th>75%</th>\n",
       "      <td>750.250000</td>\n",
       "      <td>481.000000</td>\n",
       "      <td>453.00000</td>\n",
       "      <td>258.000000</td>\n",
       "    </tr>\n",
       "    <tr>\n",
       "      <th>max</th>\n",
       "      <td>1000.000000</td>\n",
       "      <td>636.000000</td>\n",
       "      <td>2690.00000</td>\n",
       "      <td>340.000000</td>\n",
       "    </tr>\n",
       "  </tbody>\n",
       "</table>\n",
       "</div>"
      ],
      "text/plain": [
       "           book_id    author_id   num_pages  publisher_id\n",
       "count  1000.000000  1000.000000  1000.00000   1000.000000\n",
       "mean    500.500000   320.417000   389.11100    171.270000\n",
       "std     288.819436   181.620172   229.39014     99.082685\n",
       "min       1.000000     1.000000    14.00000      1.000000\n",
       "25%     250.750000   162.750000   249.00000     83.000000\n",
       "50%     500.500000   316.500000   352.00000    177.500000\n",
       "75%     750.250000   481.000000   453.00000    258.000000\n",
       "max    1000.000000   636.000000  2690.00000    340.000000"
      ]
     },
     "metadata": {},
     "output_type": "display_data"
    },
    {
     "name": "stdout",
     "output_type": "stream",
     "text": [
      "\n",
      "Общая информация по таблице `authors`:\n"
     ]
    },
    {
     "data": {
      "text/html": [
       "<div>\n",
       "<style scoped>\n",
       "    .dataframe tbody tr th:only-of-type {\n",
       "        vertical-align: middle;\n",
       "    }\n",
       "\n",
       "    .dataframe tbody tr th {\n",
       "        vertical-align: top;\n",
       "    }\n",
       "\n",
       "    .dataframe thead th {\n",
       "        text-align: right;\n",
       "    }\n",
       "</style>\n",
       "<table border=\"1\" class=\"dataframe\">\n",
       "  <thead>\n",
       "    <tr style=\"text-align: right;\">\n",
       "      <th></th>\n",
       "      <th>author_id</th>\n",
       "      <th>author</th>\n",
       "    </tr>\n",
       "  </thead>\n",
       "  <tbody>\n",
       "    <tr>\n",
       "      <th>0</th>\n",
       "      <td>1</td>\n",
       "      <td>A.S. Byatt</td>\n",
       "    </tr>\n",
       "    <tr>\n",
       "      <th>1</th>\n",
       "      <td>2</td>\n",
       "      <td>Aesop/Laura Harris/Laura Gibbs</td>\n",
       "    </tr>\n",
       "    <tr>\n",
       "      <th>2</th>\n",
       "      <td>3</td>\n",
       "      <td>Agatha Christie</td>\n",
       "    </tr>\n",
       "    <tr>\n",
       "      <th>3</th>\n",
       "      <td>4</td>\n",
       "      <td>Alan Brennert</td>\n",
       "    </tr>\n",
       "    <tr>\n",
       "      <th>4</th>\n",
       "      <td>5</td>\n",
       "      <td>Alan Moore/David   Lloyd</td>\n",
       "    </tr>\n",
       "  </tbody>\n",
       "</table>\n",
       "</div>"
      ],
      "text/plain": [
       "   author_id                          author\n",
       "0          1                      A.S. Byatt\n",
       "1          2  Aesop/Laura Harris/Laura Gibbs\n",
       "2          3                 Agatha Christie\n",
       "3          4                   Alan Brennert\n",
       "4          5        Alan Moore/David   Lloyd"
      ]
     },
     "metadata": {},
     "output_type": "display_data"
    },
    {
     "name": "stdout",
     "output_type": "stream",
     "text": [
      "<class 'pandas.core.frame.DataFrame'>\n",
      "RangeIndex: 636 entries, 0 to 635\n",
      "Data columns (total 2 columns):\n",
      " #   Column     Non-Null Count  Dtype \n",
      "---  ------     --------------  ----- \n",
      " 0   author_id  636 non-null    int64 \n",
      " 1   author     636 non-null    object\n",
      "dtypes: int64(1), object(1)\n",
      "memory usage: 10.1+ KB\n"
     ]
    },
    {
     "data": {
      "text/html": [
       "<div>\n",
       "<style scoped>\n",
       "    .dataframe tbody tr th:only-of-type {\n",
       "        vertical-align: middle;\n",
       "    }\n",
       "\n",
       "    .dataframe tbody tr th {\n",
       "        vertical-align: top;\n",
       "    }\n",
       "\n",
       "    .dataframe thead th {\n",
       "        text-align: right;\n",
       "    }\n",
       "</style>\n",
       "<table border=\"1\" class=\"dataframe\">\n",
       "  <thead>\n",
       "    <tr style=\"text-align: right;\">\n",
       "      <th></th>\n",
       "      <th>author_id</th>\n",
       "    </tr>\n",
       "  </thead>\n",
       "  <tbody>\n",
       "    <tr>\n",
       "      <th>count</th>\n",
       "      <td>636.000000</td>\n",
       "    </tr>\n",
       "    <tr>\n",
       "      <th>mean</th>\n",
       "      <td>318.500000</td>\n",
       "    </tr>\n",
       "    <tr>\n",
       "      <th>std</th>\n",
       "      <td>183.741666</td>\n",
       "    </tr>\n",
       "    <tr>\n",
       "      <th>min</th>\n",
       "      <td>1.000000</td>\n",
       "    </tr>\n",
       "    <tr>\n",
       "      <th>25%</th>\n",
       "      <td>159.750000</td>\n",
       "    </tr>\n",
       "    <tr>\n",
       "      <th>50%</th>\n",
       "      <td>318.500000</td>\n",
       "    </tr>\n",
       "    <tr>\n",
       "      <th>75%</th>\n",
       "      <td>477.250000</td>\n",
       "    </tr>\n",
       "    <tr>\n",
       "      <th>max</th>\n",
       "      <td>636.000000</td>\n",
       "    </tr>\n",
       "  </tbody>\n",
       "</table>\n",
       "</div>"
      ],
      "text/plain": [
       "        author_id\n",
       "count  636.000000\n",
       "mean   318.500000\n",
       "std    183.741666\n",
       "min      1.000000\n",
       "25%    159.750000\n",
       "50%    318.500000\n",
       "75%    477.250000\n",
       "max    636.000000"
      ]
     },
     "metadata": {},
     "output_type": "display_data"
    },
    {
     "name": "stdout",
     "output_type": "stream",
     "text": [
      "\n",
      "Общая информация по таблице `publishers`:\n"
     ]
    },
    {
     "data": {
      "text/html": [
       "<div>\n",
       "<style scoped>\n",
       "    .dataframe tbody tr th:only-of-type {\n",
       "        vertical-align: middle;\n",
       "    }\n",
       "\n",
       "    .dataframe tbody tr th {\n",
       "        vertical-align: top;\n",
       "    }\n",
       "\n",
       "    .dataframe thead th {\n",
       "        text-align: right;\n",
       "    }\n",
       "</style>\n",
       "<table border=\"1\" class=\"dataframe\">\n",
       "  <thead>\n",
       "    <tr style=\"text-align: right;\">\n",
       "      <th></th>\n",
       "      <th>publisher_id</th>\n",
       "      <th>publisher</th>\n",
       "    </tr>\n",
       "  </thead>\n",
       "  <tbody>\n",
       "    <tr>\n",
       "      <th>0</th>\n",
       "      <td>1</td>\n",
       "      <td>Ace</td>\n",
       "    </tr>\n",
       "    <tr>\n",
       "      <th>1</th>\n",
       "      <td>2</td>\n",
       "      <td>Ace Book</td>\n",
       "    </tr>\n",
       "    <tr>\n",
       "      <th>2</th>\n",
       "      <td>3</td>\n",
       "      <td>Ace Books</td>\n",
       "    </tr>\n",
       "    <tr>\n",
       "      <th>3</th>\n",
       "      <td>4</td>\n",
       "      <td>Ace Hardcover</td>\n",
       "    </tr>\n",
       "    <tr>\n",
       "      <th>4</th>\n",
       "      <td>5</td>\n",
       "      <td>Addison Wesley Publishing Company</td>\n",
       "    </tr>\n",
       "  </tbody>\n",
       "</table>\n",
       "</div>"
      ],
      "text/plain": [
       "   publisher_id                          publisher\n",
       "0             1                                Ace\n",
       "1             2                           Ace Book\n",
       "2             3                          Ace Books\n",
       "3             4                      Ace Hardcover\n",
       "4             5  Addison Wesley Publishing Company"
      ]
     },
     "metadata": {},
     "output_type": "display_data"
    },
    {
     "name": "stdout",
     "output_type": "stream",
     "text": [
      "<class 'pandas.core.frame.DataFrame'>\n",
      "RangeIndex: 340 entries, 0 to 339\n",
      "Data columns (total 2 columns):\n",
      " #   Column        Non-Null Count  Dtype \n",
      "---  ------        --------------  ----- \n",
      " 0   publisher_id  340 non-null    int64 \n",
      " 1   publisher     340 non-null    object\n",
      "dtypes: int64(1), object(1)\n",
      "memory usage: 5.4+ KB\n"
     ]
    },
    {
     "data": {
      "text/html": [
       "<div>\n",
       "<style scoped>\n",
       "    .dataframe tbody tr th:only-of-type {\n",
       "        vertical-align: middle;\n",
       "    }\n",
       "\n",
       "    .dataframe tbody tr th {\n",
       "        vertical-align: top;\n",
       "    }\n",
       "\n",
       "    .dataframe thead th {\n",
       "        text-align: right;\n",
       "    }\n",
       "</style>\n",
       "<table border=\"1\" class=\"dataframe\">\n",
       "  <thead>\n",
       "    <tr style=\"text-align: right;\">\n",
       "      <th></th>\n",
       "      <th>publisher_id</th>\n",
       "    </tr>\n",
       "  </thead>\n",
       "  <tbody>\n",
       "    <tr>\n",
       "      <th>count</th>\n",
       "      <td>340.000000</td>\n",
       "    </tr>\n",
       "    <tr>\n",
       "      <th>mean</th>\n",
       "      <td>170.500000</td>\n",
       "    </tr>\n",
       "    <tr>\n",
       "      <th>std</th>\n",
       "      <td>98.293777</td>\n",
       "    </tr>\n",
       "    <tr>\n",
       "      <th>min</th>\n",
       "      <td>1.000000</td>\n",
       "    </tr>\n",
       "    <tr>\n",
       "      <th>25%</th>\n",
       "      <td>85.750000</td>\n",
       "    </tr>\n",
       "    <tr>\n",
       "      <th>50%</th>\n",
       "      <td>170.500000</td>\n",
       "    </tr>\n",
       "    <tr>\n",
       "      <th>75%</th>\n",
       "      <td>255.250000</td>\n",
       "    </tr>\n",
       "    <tr>\n",
       "      <th>max</th>\n",
       "      <td>340.000000</td>\n",
       "    </tr>\n",
       "  </tbody>\n",
       "</table>\n",
       "</div>"
      ],
      "text/plain": [
       "       publisher_id\n",
       "count    340.000000\n",
       "mean     170.500000\n",
       "std       98.293777\n",
       "min        1.000000\n",
       "25%       85.750000\n",
       "50%      170.500000\n",
       "75%      255.250000\n",
       "max      340.000000"
      ]
     },
     "metadata": {},
     "output_type": "display_data"
    },
    {
     "name": "stdout",
     "output_type": "stream",
     "text": [
      "\n",
      "Общая информация по таблице `ratings`:\n"
     ]
    },
    {
     "data": {
      "text/html": [
       "<div>\n",
       "<style scoped>\n",
       "    .dataframe tbody tr th:only-of-type {\n",
       "        vertical-align: middle;\n",
       "    }\n",
       "\n",
       "    .dataframe tbody tr th {\n",
       "        vertical-align: top;\n",
       "    }\n",
       "\n",
       "    .dataframe thead th {\n",
       "        text-align: right;\n",
       "    }\n",
       "</style>\n",
       "<table border=\"1\" class=\"dataframe\">\n",
       "  <thead>\n",
       "    <tr style=\"text-align: right;\">\n",
       "      <th></th>\n",
       "      <th>rating_id</th>\n",
       "      <th>book_id</th>\n",
       "      <th>username</th>\n",
       "      <th>rating</th>\n",
       "    </tr>\n",
       "  </thead>\n",
       "  <tbody>\n",
       "    <tr>\n",
       "      <th>0</th>\n",
       "      <td>1</td>\n",
       "      <td>1</td>\n",
       "      <td>ryanfranco</td>\n",
       "      <td>4</td>\n",
       "    </tr>\n",
       "    <tr>\n",
       "      <th>1</th>\n",
       "      <td>2</td>\n",
       "      <td>1</td>\n",
       "      <td>grantpatricia</td>\n",
       "      <td>2</td>\n",
       "    </tr>\n",
       "    <tr>\n",
       "      <th>2</th>\n",
       "      <td>3</td>\n",
       "      <td>1</td>\n",
       "      <td>brandtandrea</td>\n",
       "      <td>5</td>\n",
       "    </tr>\n",
       "    <tr>\n",
       "      <th>3</th>\n",
       "      <td>4</td>\n",
       "      <td>2</td>\n",
       "      <td>lorichen</td>\n",
       "      <td>3</td>\n",
       "    </tr>\n",
       "    <tr>\n",
       "      <th>4</th>\n",
       "      <td>5</td>\n",
       "      <td>2</td>\n",
       "      <td>mariokeller</td>\n",
       "      <td>2</td>\n",
       "    </tr>\n",
       "  </tbody>\n",
       "</table>\n",
       "</div>"
      ],
      "text/plain": [
       "   rating_id  book_id       username  rating\n",
       "0          1        1     ryanfranco       4\n",
       "1          2        1  grantpatricia       2\n",
       "2          3        1   brandtandrea       5\n",
       "3          4        2       lorichen       3\n",
       "4          5        2    mariokeller       2"
      ]
     },
     "metadata": {},
     "output_type": "display_data"
    },
    {
     "name": "stdout",
     "output_type": "stream",
     "text": [
      "<class 'pandas.core.frame.DataFrame'>\n",
      "RangeIndex: 6456 entries, 0 to 6455\n",
      "Data columns (total 4 columns):\n",
      " #   Column     Non-Null Count  Dtype \n",
      "---  ------     --------------  ----- \n",
      " 0   rating_id  6456 non-null   int64 \n",
      " 1   book_id    6456 non-null   int64 \n",
      " 2   username   6456 non-null   object\n",
      " 3   rating     6456 non-null   int64 \n",
      "dtypes: int64(3), object(1)\n",
      "memory usage: 201.9+ KB\n"
     ]
    },
    {
     "data": {
      "text/html": [
       "<div>\n",
       "<style scoped>\n",
       "    .dataframe tbody tr th:only-of-type {\n",
       "        vertical-align: middle;\n",
       "    }\n",
       "\n",
       "    .dataframe tbody tr th {\n",
       "        vertical-align: top;\n",
       "    }\n",
       "\n",
       "    .dataframe thead th {\n",
       "        text-align: right;\n",
       "    }\n",
       "</style>\n",
       "<table border=\"1\" class=\"dataframe\">\n",
       "  <thead>\n",
       "    <tr style=\"text-align: right;\">\n",
       "      <th></th>\n",
       "      <th>rating_id</th>\n",
       "      <th>book_id</th>\n",
       "      <th>rating</th>\n",
       "    </tr>\n",
       "  </thead>\n",
       "  <tbody>\n",
       "    <tr>\n",
       "      <th>count</th>\n",
       "      <td>6456.000000</td>\n",
       "      <td>6456.000000</td>\n",
       "      <td>6456.000000</td>\n",
       "    </tr>\n",
       "    <tr>\n",
       "      <th>mean</th>\n",
       "      <td>3228.500000</td>\n",
       "      <td>510.574195</td>\n",
       "      <td>3.928284</td>\n",
       "    </tr>\n",
       "    <tr>\n",
       "      <th>std</th>\n",
       "      <td>1863.831001</td>\n",
       "      <td>284.141636</td>\n",
       "      <td>0.943303</td>\n",
       "    </tr>\n",
       "    <tr>\n",
       "      <th>min</th>\n",
       "      <td>1.000000</td>\n",
       "      <td>1.000000</td>\n",
       "      <td>1.000000</td>\n",
       "    </tr>\n",
       "    <tr>\n",
       "      <th>25%</th>\n",
       "      <td>1614.750000</td>\n",
       "      <td>291.000000</td>\n",
       "      <td>3.000000</td>\n",
       "    </tr>\n",
       "    <tr>\n",
       "      <th>50%</th>\n",
       "      <td>3228.500000</td>\n",
       "      <td>506.000000</td>\n",
       "      <td>4.000000</td>\n",
       "    </tr>\n",
       "    <tr>\n",
       "      <th>75%</th>\n",
       "      <td>4842.250000</td>\n",
       "      <td>750.000000</td>\n",
       "      <td>5.000000</td>\n",
       "    </tr>\n",
       "    <tr>\n",
       "      <th>max</th>\n",
       "      <td>6456.000000</td>\n",
       "      <td>1000.000000</td>\n",
       "      <td>5.000000</td>\n",
       "    </tr>\n",
       "  </tbody>\n",
       "</table>\n",
       "</div>"
      ],
      "text/plain": [
       "         rating_id      book_id       rating\n",
       "count  6456.000000  6456.000000  6456.000000\n",
       "mean   3228.500000   510.574195     3.928284\n",
       "std    1863.831001   284.141636     0.943303\n",
       "min       1.000000     1.000000     1.000000\n",
       "25%    1614.750000   291.000000     3.000000\n",
       "50%    3228.500000   506.000000     4.000000\n",
       "75%    4842.250000   750.000000     5.000000\n",
       "max    6456.000000  1000.000000     5.000000"
      ]
     },
     "metadata": {},
     "output_type": "display_data"
    },
    {
     "name": "stdout",
     "output_type": "stream",
     "text": [
      "\n",
      "Общая информация по таблице `reviews`:\n"
     ]
    },
    {
     "data": {
      "text/html": [
       "<div>\n",
       "<style scoped>\n",
       "    .dataframe tbody tr th:only-of-type {\n",
       "        vertical-align: middle;\n",
       "    }\n",
       "\n",
       "    .dataframe tbody tr th {\n",
       "        vertical-align: top;\n",
       "    }\n",
       "\n",
       "    .dataframe thead th {\n",
       "        text-align: right;\n",
       "    }\n",
       "</style>\n",
       "<table border=\"1\" class=\"dataframe\">\n",
       "  <thead>\n",
       "    <tr style=\"text-align: right;\">\n",
       "      <th></th>\n",
       "      <th>review_id</th>\n",
       "      <th>book_id</th>\n",
       "      <th>username</th>\n",
       "      <th>text</th>\n",
       "    </tr>\n",
       "  </thead>\n",
       "  <tbody>\n",
       "    <tr>\n",
       "      <th>0</th>\n",
       "      <td>1</td>\n",
       "      <td>1</td>\n",
       "      <td>brandtandrea</td>\n",
       "      <td>Mention society tell send professor analysis. ...</td>\n",
       "    </tr>\n",
       "    <tr>\n",
       "      <th>1</th>\n",
       "      <td>2</td>\n",
       "      <td>1</td>\n",
       "      <td>ryanfranco</td>\n",
       "      <td>Foot glass pretty audience hit themselves. Amo...</td>\n",
       "    </tr>\n",
       "    <tr>\n",
       "      <th>2</th>\n",
       "      <td>3</td>\n",
       "      <td>2</td>\n",
       "      <td>lorichen</td>\n",
       "      <td>Listen treat keep worry. Miss husband tax but ...</td>\n",
       "    </tr>\n",
       "    <tr>\n",
       "      <th>3</th>\n",
       "      <td>4</td>\n",
       "      <td>3</td>\n",
       "      <td>johnsonamanda</td>\n",
       "      <td>Finally month interesting blue could nature cu...</td>\n",
       "    </tr>\n",
       "    <tr>\n",
       "      <th>4</th>\n",
       "      <td>5</td>\n",
       "      <td>3</td>\n",
       "      <td>scotttamara</td>\n",
       "      <td>Nation purpose heavy give wait song will. List...</td>\n",
       "    </tr>\n",
       "  </tbody>\n",
       "</table>\n",
       "</div>"
      ],
      "text/plain": [
       "   review_id  book_id       username  \\\n",
       "0          1        1   brandtandrea   \n",
       "1          2        1     ryanfranco   \n",
       "2          3        2       lorichen   \n",
       "3          4        3  johnsonamanda   \n",
       "4          5        3    scotttamara   \n",
       "\n",
       "                                                text  \n",
       "0  Mention society tell send professor analysis. ...  \n",
       "1  Foot glass pretty audience hit themselves. Amo...  \n",
       "2  Listen treat keep worry. Miss husband tax but ...  \n",
       "3  Finally month interesting blue could nature cu...  \n",
       "4  Nation purpose heavy give wait song will. List...  "
      ]
     },
     "metadata": {},
     "output_type": "display_data"
    },
    {
     "name": "stdout",
     "output_type": "stream",
     "text": [
      "<class 'pandas.core.frame.DataFrame'>\n",
      "RangeIndex: 2793 entries, 0 to 2792\n",
      "Data columns (total 4 columns):\n",
      " #   Column     Non-Null Count  Dtype \n",
      "---  ------     --------------  ----- \n",
      " 0   review_id  2793 non-null   int64 \n",
      " 1   book_id    2793 non-null   int64 \n",
      " 2   username   2793 non-null   object\n",
      " 3   text       2793 non-null   object\n",
      "dtypes: int64(2), object(2)\n",
      "memory usage: 87.4+ KB\n"
     ]
    },
    {
     "data": {
      "text/html": [
       "<div>\n",
       "<style scoped>\n",
       "    .dataframe tbody tr th:only-of-type {\n",
       "        vertical-align: middle;\n",
       "    }\n",
       "\n",
       "    .dataframe tbody tr th {\n",
       "        vertical-align: top;\n",
       "    }\n",
       "\n",
       "    .dataframe thead th {\n",
       "        text-align: right;\n",
       "    }\n",
       "</style>\n",
       "<table border=\"1\" class=\"dataframe\">\n",
       "  <thead>\n",
       "    <tr style=\"text-align: right;\">\n",
       "      <th></th>\n",
       "      <th>review_id</th>\n",
       "      <th>book_id</th>\n",
       "    </tr>\n",
       "  </thead>\n",
       "  <tbody>\n",
       "    <tr>\n",
       "      <th>count</th>\n",
       "      <td>2793.000000</td>\n",
       "      <td>2793.000000</td>\n",
       "    </tr>\n",
       "    <tr>\n",
       "      <th>mean</th>\n",
       "      <td>1397.000000</td>\n",
       "      <td>504.693161</td>\n",
       "    </tr>\n",
       "    <tr>\n",
       "      <th>std</th>\n",
       "      <td>806.413976</td>\n",
       "      <td>288.472931</td>\n",
       "    </tr>\n",
       "    <tr>\n",
       "      <th>min</th>\n",
       "      <td>1.000000</td>\n",
       "      <td>1.000000</td>\n",
       "    </tr>\n",
       "    <tr>\n",
       "      <th>25%</th>\n",
       "      <td>699.000000</td>\n",
       "      <td>259.000000</td>\n",
       "    </tr>\n",
       "    <tr>\n",
       "      <th>50%</th>\n",
       "      <td>1397.000000</td>\n",
       "      <td>505.000000</td>\n",
       "    </tr>\n",
       "    <tr>\n",
       "      <th>75%</th>\n",
       "      <td>2095.000000</td>\n",
       "      <td>753.000000</td>\n",
       "    </tr>\n",
       "    <tr>\n",
       "      <th>max</th>\n",
       "      <td>2793.000000</td>\n",
       "      <td>1000.000000</td>\n",
       "    </tr>\n",
       "  </tbody>\n",
       "</table>\n",
       "</div>"
      ],
      "text/plain": [
       "         review_id      book_id\n",
       "count  2793.000000  2793.000000\n",
       "mean   1397.000000   504.693161\n",
       "std     806.413976   288.472931\n",
       "min       1.000000     1.000000\n",
       "25%     699.000000   259.000000\n",
       "50%    1397.000000   505.000000\n",
       "75%    2095.000000   753.000000\n",
       "max    2793.000000  1000.000000"
      ]
     },
     "metadata": {},
     "output_type": "display_data"
    },
    {
     "name": "stdout",
     "output_type": "stream",
     "text": [
      "\n"
     ]
    }
   ],
   "source": [
    "df_list = ['books', 'authors', 'publishers', 'ratings', 'reviews']\n",
    "for df in df_list:\n",
    "    print(f'Общая информация по таблице `{df}`:')\n",
    "    info(df)\n",
    "    print()"
   ]
  },
  {
   "cell_type": "markdown",
   "id": "6e5704b2",
   "metadata": {},
   "source": [
    "__Промежуточный вывод:__ импортировали библиотеки, установили параметры доступа к базе данных и изучили общую информацию пяти таблиц: `books`, `authors`, `publishers`, `ratings`, `reviews`. Видим, что пропуски отсутствуют, типы данных соответствуют значениям."
   ]
  },
  {
   "cell_type": "markdown",
   "id": "8295bc6c",
   "metadata": {},
   "source": [
    "##  <a id=\"tasks\">Выполнение заданий.</a>"
   ]
  },
  {
   "cell_type": "markdown",
   "id": "65fad9d9",
   "metadata": {},
   "source": [
    "###  <a id=\"books_count\">Количество книг, вышедших после 1 января 2000 года.</a>"
   ]
  },
  {
   "cell_type": "code",
   "execution_count": 6,
   "id": "fecf3707",
   "metadata": {},
   "outputs": [],
   "source": [
    "query = '''\n",
    "            SELECT COUNT(book_id) AS books_count\n",
    "            FROM books\n",
    "            WHERE publication_date>=DATE('2000-01-01')\n",
    "        '''"
   ]
  },
  {
   "cell_type": "code",
   "execution_count": 7,
   "id": "96a5a6e2",
   "metadata": {
    "scrolled": true
   },
   "outputs": [
    {
     "data": {
      "text/html": [
       "<div>\n",
       "<style scoped>\n",
       "    .dataframe tbody tr th:only-of-type {\n",
       "        vertical-align: middle;\n",
       "    }\n",
       "\n",
       "    .dataframe tbody tr th {\n",
       "        vertical-align: top;\n",
       "    }\n",
       "\n",
       "    .dataframe thead th {\n",
       "        text-align: right;\n",
       "    }\n",
       "</style>\n",
       "<table border=\"1\" class=\"dataframe\">\n",
       "  <thead>\n",
       "    <tr style=\"text-align: right;\">\n",
       "      <th></th>\n",
       "      <th>books_count</th>\n",
       "    </tr>\n",
       "  </thead>\n",
       "  <tbody>\n",
       "    <tr>\n",
       "      <th>0</th>\n",
       "      <td>821</td>\n",
       "    </tr>\n",
       "  </tbody>\n",
       "</table>\n",
       "</div>"
      ],
      "text/plain": [
       "   books_count\n",
       "0          821"
      ]
     },
     "execution_count": 7,
     "metadata": {},
     "output_type": "execute_result"
    }
   ],
   "source": [
    "pd.io.sql.read_sql(sql=text(query), con = engine.connect())"
   ]
  },
  {
   "cell_type": "markdown",
   "id": "cfd111a9",
   "metadata": {},
   "source": [
    "После 1 января 2000 года вышла 821 книга."
   ]
  },
  {
   "cell_type": "markdown",
   "id": "ce59b745",
   "metadata": {},
   "source": [
    "###  <a id=\"reviews_count\">Количество обзоров и средняя оценка для каждой книги.</a>"
   ]
  },
  {
   "cell_type": "code",
   "execution_count": 8,
   "id": "722cfcc2",
   "metadata": {},
   "outputs": [],
   "source": [
    "query = '''\n",
    "            WITH t1 AS (\n",
    "            SELECT\n",
    "                book_id\n",
    "                , COUNT(review_id) AS review_count\n",
    "            FROM reviews\n",
    "            GROUP BY 1\n",
    "            ),\n",
    "            t2 AS (\n",
    "            SELECT\n",
    "                book_id\n",
    "                , AVG(rating) AS avg_rating\n",
    "            FROM ratings\n",
    "            GROUP BY 1\n",
    "            )\n",
    "            SELECT\n",
    "                title\n",
    "                , SUM(review_count) AS review_count\n",
    "                , AVG(avg_rating) AS avg_rating\n",
    "            FROM books AS b\n",
    "            LEFT JOIN t1 on b.book_id = t1.book_id\n",
    "            LEFT JOIN t2 on b.book_id = t2.book_id\n",
    "            GROUP BY 1\n",
    "        '''"
   ]
  },
  {
   "cell_type": "code",
   "execution_count": 9,
   "id": "4de1319b",
   "metadata": {
    "scrolled": false
   },
   "outputs": [
    {
     "data": {
      "text/html": [
       "<div>\n",
       "<style scoped>\n",
       "    .dataframe tbody tr th:only-of-type {\n",
       "        vertical-align: middle;\n",
       "    }\n",
       "\n",
       "    .dataframe tbody tr th {\n",
       "        vertical-align: top;\n",
       "    }\n",
       "\n",
       "    .dataframe thead th {\n",
       "        text-align: right;\n",
       "    }\n",
       "</style>\n",
       "<table border=\"1\" class=\"dataframe\">\n",
       "  <thead>\n",
       "    <tr style=\"text-align: right;\">\n",
       "      <th></th>\n",
       "      <th>title</th>\n",
       "      <th>review_count</th>\n",
       "      <th>avg_rating</th>\n",
       "    </tr>\n",
       "  </thead>\n",
       "  <tbody>\n",
       "    <tr>\n",
       "      <th>0</th>\n",
       "      <td>The Count of Monte Cristo</td>\n",
       "      <td>5.0</td>\n",
       "      <td>4.217391</td>\n",
       "    </tr>\n",
       "    <tr>\n",
       "      <th>1</th>\n",
       "      <td>Count Zero (Sprawl  #2)</td>\n",
       "      <td>2.0</td>\n",
       "      <td>2.500000</td>\n",
       "    </tr>\n",
       "    <tr>\n",
       "      <th>2</th>\n",
       "      <td>The Botany of Desire: A Plant's-Eye View of th...</td>\n",
       "      <td>2.0</td>\n",
       "      <td>3.500000</td>\n",
       "    </tr>\n",
       "    <tr>\n",
       "      <th>3</th>\n",
       "      <td>The Poisonwood Bible</td>\n",
       "      <td>5.0</td>\n",
       "      <td>4.363636</td>\n",
       "    </tr>\n",
       "    <tr>\n",
       "      <th>4</th>\n",
       "      <td>The Canterbury Tales</td>\n",
       "      <td>3.0</td>\n",
       "      <td>3.333333</td>\n",
       "    </tr>\n",
       "    <tr>\n",
       "      <th>...</th>\n",
       "      <td>...</td>\n",
       "      <td>...</td>\n",
       "      <td>...</td>\n",
       "    </tr>\n",
       "    <tr>\n",
       "      <th>994</th>\n",
       "      <td>In the Heart of the Sea: The Tragedy of the Wh...</td>\n",
       "      <td>3.0</td>\n",
       "      <td>3.333333</td>\n",
       "    </tr>\n",
       "    <tr>\n",
       "      <th>995</th>\n",
       "      <td>Of Love and Other Demons</td>\n",
       "      <td>2.0</td>\n",
       "      <td>4.500000</td>\n",
       "    </tr>\n",
       "    <tr>\n",
       "      <th>996</th>\n",
       "      <td>Welcome to Temptation (Dempseys  #1)</td>\n",
       "      <td>2.0</td>\n",
       "      <td>5.000000</td>\n",
       "    </tr>\n",
       "    <tr>\n",
       "      <th>997</th>\n",
       "      <td>World's End (The Sandman  #8)</td>\n",
       "      <td>2.0</td>\n",
       "      <td>4.500000</td>\n",
       "    </tr>\n",
       "    <tr>\n",
       "      <th>998</th>\n",
       "      <td>Holes (Holes  #1)</td>\n",
       "      <td>5.0</td>\n",
       "      <td>3.967742</td>\n",
       "    </tr>\n",
       "  </tbody>\n",
       "</table>\n",
       "<p>999 rows × 3 columns</p>\n",
       "</div>"
      ],
      "text/plain": [
       "                                                 title  review_count  \\\n",
       "0                            The Count of Monte Cristo           5.0   \n",
       "1                              Count Zero (Sprawl  #2)           2.0   \n",
       "2    The Botany of Desire: A Plant's-Eye View of th...           2.0   \n",
       "3                                 The Poisonwood Bible           5.0   \n",
       "4                                 The Canterbury Tales           3.0   \n",
       "..                                                 ...           ...   \n",
       "994  In the Heart of the Sea: The Tragedy of the Wh...           3.0   \n",
       "995                           Of Love and Other Demons           2.0   \n",
       "996               Welcome to Temptation (Dempseys  #1)           2.0   \n",
       "997                      World's End (The Sandman  #8)           2.0   \n",
       "998                                  Holes (Holes  #1)           5.0   \n",
       "\n",
       "     avg_rating  \n",
       "0      4.217391  \n",
       "1      2.500000  \n",
       "2      3.500000  \n",
       "3      4.363636  \n",
       "4      3.333333  \n",
       "..          ...  \n",
       "994    3.333333  \n",
       "995    4.500000  \n",
       "996    5.000000  \n",
       "997    4.500000  \n",
       "998    3.967742  \n",
       "\n",
       "[999 rows x 3 columns]"
      ]
     },
     "execution_count": 9,
     "metadata": {},
     "output_type": "execute_result"
    }
   ],
   "source": [
    "pd.io.sql.read_sql(sql=text(query), con = engine.connect())"
   ]
  },
  {
   "cell_type": "markdown",
   "id": "287837ae",
   "metadata": {},
   "source": [
    "###  <a id=\"publishing_house\">Определение издательства, которое выпустило наибольшее число книг толще 50 страниц.</a>"
   ]
  },
  {
   "cell_type": "markdown",
   "id": "8247fea4",
   "metadata": {},
   "source": [
    "Исключим из анализа брошюры."
   ]
  },
  {
   "cell_type": "code",
   "execution_count": 10,
   "id": "2e63b3cd",
   "metadata": {},
   "outputs": [],
   "source": [
    "query = ''' \n",
    "            SELECT\n",
    "                publisher\n",
    "                , COUNT(book_id) as books_count \n",
    "            FROM books AS b\n",
    "            LEFT JOIN publishers AS p ON b.publisher_id = p.publisher_id\n",
    "            WHERE num_pages > 50\n",
    "            GROUP BY 1\n",
    "            ORDER BY 2 DESC\n",
    "            LIMIT 1            \n",
    "        '''"
   ]
  },
  {
   "cell_type": "code",
   "execution_count": 11,
   "id": "d516a4f7",
   "metadata": {
    "scrolled": false
   },
   "outputs": [
    {
     "data": {
      "text/html": [
       "<div>\n",
       "<style scoped>\n",
       "    .dataframe tbody tr th:only-of-type {\n",
       "        vertical-align: middle;\n",
       "    }\n",
       "\n",
       "    .dataframe tbody tr th {\n",
       "        vertical-align: top;\n",
       "    }\n",
       "\n",
       "    .dataframe thead th {\n",
       "        text-align: right;\n",
       "    }\n",
       "</style>\n",
       "<table border=\"1\" class=\"dataframe\">\n",
       "  <thead>\n",
       "    <tr style=\"text-align: right;\">\n",
       "      <th></th>\n",
       "      <th>publisher</th>\n",
       "      <th>books_count</th>\n",
       "    </tr>\n",
       "  </thead>\n",
       "  <tbody>\n",
       "    <tr>\n",
       "      <th>0</th>\n",
       "      <td>Penguin Books</td>\n",
       "      <td>42</td>\n",
       "    </tr>\n",
       "  </tbody>\n",
       "</table>\n",
       "</div>"
      ],
      "text/plain": [
       "       publisher  books_count\n",
       "0  Penguin Books           42"
      ]
     },
     "execution_count": 11,
     "metadata": {},
     "output_type": "execute_result"
    }
   ],
   "source": [
    "pd.io.sql.read_sql(sql=text(query), con = engine.connect())"
   ]
  },
  {
   "cell_type": "markdown",
   "id": "165891ff",
   "metadata": {},
   "source": [
    "Наибольшее число книг толщец 50 страниц выпустило издательство `Penguin Books` - 42 книги."
   ]
  },
  {
   "cell_type": "markdown",
   "id": "e436abb5",
   "metadata": {},
   "source": [
    "###  <a id=\"author\">Определение автора с самой высокой средней оценкой книг.</a>"
   ]
  },
  {
   "cell_type": "markdown",
   "id": "56614296",
   "metadata": {},
   "source": [
    "Будем учитывать только книги с 50 и более оценками."
   ]
  },
  {
   "cell_type": "code",
   "execution_count": 12,
   "id": "87ef16cd",
   "metadata": {},
   "outputs": [],
   "source": [
    "query = '''\n",
    "            WITH t1 AS (\n",
    "            SELECT\n",
    "                book_id\n",
    "                , COUNT(rating) AS rating_count\n",
    "                , AVG(rating) AS avg_rating\n",
    "            FROM ratings\n",
    "            GROUP BY 1\n",
    "            HAVING COUNT(rating_id) >= 50\n",
    "            ),\n",
    "            t2 AS (\n",
    "            SELECT\n",
    "                author\n",
    "                , author_id\n",
    "            FROM authors\n",
    "            )\n",
    "            SELECT\n",
    "                author\n",
    "                , AVG(avg_rating) AS avg_rating\n",
    "                , SUM(rating_count) AS rating_count\n",
    "            FROM books AS b\n",
    "            RIGHT JOIN t1 on b.book_id = t1.book_id\n",
    "            LEFT JOIN t2 on b.author_id = t2.author_id\n",
    "            GROUP BY 1\n",
    "            ORDER BY 2 DESC\n",
    "            LIMIT 1\n",
    "        '''"
   ]
  },
  {
   "cell_type": "code",
   "execution_count": 13,
   "id": "77b45a26",
   "metadata": {
    "scrolled": false
   },
   "outputs": [
    {
     "data": {
      "text/html": [
       "<div>\n",
       "<style scoped>\n",
       "    .dataframe tbody tr th:only-of-type {\n",
       "        vertical-align: middle;\n",
       "    }\n",
       "\n",
       "    .dataframe tbody tr th {\n",
       "        vertical-align: top;\n",
       "    }\n",
       "\n",
       "    .dataframe thead th {\n",
       "        text-align: right;\n",
       "    }\n",
       "</style>\n",
       "<table border=\"1\" class=\"dataframe\">\n",
       "  <thead>\n",
       "    <tr style=\"text-align: right;\">\n",
       "      <th></th>\n",
       "      <th>author</th>\n",
       "      <th>avg_rating</th>\n",
       "      <th>rating_count</th>\n",
       "    </tr>\n",
       "  </thead>\n",
       "  <tbody>\n",
       "    <tr>\n",
       "      <th>0</th>\n",
       "      <td>J.K. Rowling/Mary GrandPré</td>\n",
       "      <td>4.283844</td>\n",
       "      <td>310.0</td>\n",
       "    </tr>\n",
       "  </tbody>\n",
       "</table>\n",
       "</div>"
      ],
      "text/plain": [
       "                       author  avg_rating  rating_count\n",
       "0  J.K. Rowling/Mary GrandPré    4.283844         310.0"
      ]
     },
     "execution_count": 13,
     "metadata": {},
     "output_type": "execute_result"
    }
   ],
   "source": [
    "pd.io.sql.read_sql(sql=text(query), con = engine.connect())"
   ]
  },
  {
   "cell_type": "markdown",
   "id": "0c1d1048",
   "metadata": {},
   "source": [
    "Автор с самой высокой средней оценкой книг - J.K. Rowling/Mary GrandPré."
   ]
  },
  {
   "cell_type": "markdown",
   "id": "85c7ee9e",
   "metadata": {},
   "source": [
    "###  <a id=\"users_reviews\">Среднее количество обзоров от пользователей, которые поставили больше 48 оценок.</a>"
   ]
  },
  {
   "cell_type": "code",
   "execution_count": 14,
   "id": "9f7d2a57",
   "metadata": {},
   "outputs": [],
   "source": [
    "query = '''\n",
    "            SELECT\n",
    "                ROUND(AVG(review_counts)) AS avg_reviews\n",
    "            FROM\n",
    "                (SELECT\n",
    "                    COUNT(review_id) AS review_counts\n",
    "                FROM\n",
    "                    (SELECT\n",
    "                        username\n",
    "                    FROM ratings\n",
    "                    GROUP BY 1\n",
    "                    HAVING COUNT(rating_id) > 48) AS t1\n",
    "                LEFT JOIN reviews ON t1.username = reviews.username\n",
    "                GROUP BY t1.username) AS t2\n",
    "        '''"
   ]
  },
  {
   "cell_type": "code",
   "execution_count": 15,
   "id": "9fdcc6db",
   "metadata": {},
   "outputs": [
    {
     "data": {
      "text/html": [
       "<div>\n",
       "<style scoped>\n",
       "    .dataframe tbody tr th:only-of-type {\n",
       "        vertical-align: middle;\n",
       "    }\n",
       "\n",
       "    .dataframe tbody tr th {\n",
       "        vertical-align: top;\n",
       "    }\n",
       "\n",
       "    .dataframe thead th {\n",
       "        text-align: right;\n",
       "    }\n",
       "</style>\n",
       "<table border=\"1\" class=\"dataframe\">\n",
       "  <thead>\n",
       "    <tr style=\"text-align: right;\">\n",
       "      <th></th>\n",
       "      <th>avg_reviews</th>\n",
       "    </tr>\n",
       "  </thead>\n",
       "  <tbody>\n",
       "    <tr>\n",
       "      <th>0</th>\n",
       "      <td>24.0</td>\n",
       "    </tr>\n",
       "  </tbody>\n",
       "</table>\n",
       "</div>"
      ],
      "text/plain": [
       "   avg_reviews\n",
       "0         24.0"
      ]
     },
     "execution_count": 15,
     "metadata": {},
     "output_type": "execute_result"
    }
   ],
   "source": [
    "pd.io.sql.read_sql(sql=text(query), con = engine.connect())"
   ]
  },
  {
   "cell_type": "markdown",
   "id": "00bd96ab",
   "metadata": {},
   "source": [
    "Среднее количество обзоров от пользователей, которые поставили больше 48 оценок, - 24."
   ]
  },
  {
   "cell_type": "markdown",
   "id": "4b839111",
   "metadata": {},
   "source": [
    "## <a id=\"conclusion\">Общий вывод.</a>"
   ]
  },
  {
   "cell_type": "markdown",
   "id": "67c5c262",
   "metadata": {},
   "source": [
    "Провели анализ базы данных SQL:\n",
    "- Количество книг, выпущенных после 1 января 2000 года, - 821.\n",
    "- Посчитали количество обзоров (999) и среднюю оценку для каждой книги. \n",
    "- Определили издательство, которое выпустило наибольшее число книг толще 50 страниц, - `Penguin Books` (42 книги).\n",
    "- Определили автора с самой высокой средней оценкой книг - J.K. Rowling/Mary GrandPré со средним рейтингом 4.28, составленным по 310 оценкам пользователей.\n",
    "- Среднее количество обзоров от пользователей, которые поставили больше 48 оценок, - 24."
   ]
  }
 ],
 "metadata": {
  "ExecuteTimeLog": [
   {
    "duration": 1536,
    "start_time": "2023-08-07T02:15:13.917Z"
   },
   {
    "duration": 75,
    "start_time": "2023-08-07T02:15:15.455Z"
   },
   {
    "duration": 20,
    "start_time": "2023-08-07T02:15:15.531Z"
   },
   {
    "duration": 29,
    "start_time": "2023-08-07T02:15:15.553Z"
   },
   {
    "duration": 40,
    "start_time": "2023-08-07T02:15:15.584Z"
   },
   {
    "duration": 3,
    "start_time": "2023-08-07T02:15:15.626Z"
   },
   {
    "duration": 38,
    "start_time": "2023-08-07T02:15:15.630Z"
   },
   {
    "duration": 14,
    "start_time": "2023-08-07T02:15:15.669Z"
   },
   {
    "duration": 33,
    "start_time": "2023-08-07T02:15:15.684Z"
   },
   {
    "duration": 11,
    "start_time": "2023-08-07T02:15:15.720Z"
   },
   {
    "duration": 34,
    "start_time": "2023-08-07T02:15:15.733Z"
   },
   {
    "duration": 184,
    "start_time": "2023-08-07T02:15:15.768Z"
   },
   {
    "duration": 0,
    "start_time": "2023-08-07T02:15:15.955Z"
   },
   {
    "duration": 0,
    "start_time": "2023-08-07T02:15:15.956Z"
   },
   {
    "duration": 0,
    "start_time": "2023-08-07T02:15:15.957Z"
   },
   {
    "duration": 0,
    "start_time": "2023-08-07T02:15:15.958Z"
   },
   {
    "duration": 0,
    "start_time": "2023-08-07T02:15:15.959Z"
   },
   {
    "duration": 0,
    "start_time": "2023-08-07T02:15:15.961Z"
   },
   {
    "duration": 0,
    "start_time": "2023-08-07T02:15:15.962Z"
   },
   {
    "duration": 0,
    "start_time": "2023-08-07T02:15:15.963Z"
   },
   {
    "duration": 0,
    "start_time": "2023-08-07T02:15:15.974Z"
   },
   {
    "duration": 0,
    "start_time": "2023-08-07T02:15:15.976Z"
   },
   {
    "duration": 0,
    "start_time": "2023-08-07T02:15:15.978Z"
   },
   {
    "duration": 0,
    "start_time": "2023-08-07T02:15:15.979Z"
   },
   {
    "duration": 0,
    "start_time": "2023-08-07T02:15:15.981Z"
   },
   {
    "duration": 0,
    "start_time": "2023-08-07T02:15:15.983Z"
   },
   {
    "duration": 0,
    "start_time": "2023-08-07T02:15:15.984Z"
   },
   {
    "duration": 0,
    "start_time": "2023-08-07T02:15:15.986Z"
   },
   {
    "duration": 0,
    "start_time": "2023-08-07T02:15:15.988Z"
   },
   {
    "duration": 0,
    "start_time": "2023-08-07T02:15:15.989Z"
   },
   {
    "duration": 0,
    "start_time": "2023-08-07T02:15:15.990Z"
   },
   {
    "duration": 0,
    "start_time": "2023-08-07T02:15:15.991Z"
   },
   {
    "duration": 0,
    "start_time": "2023-08-07T02:15:15.992Z"
   },
   {
    "duration": 0,
    "start_time": "2023-08-07T02:15:15.993Z"
   },
   {
    "duration": 0,
    "start_time": "2023-08-07T02:15:15.994Z"
   },
   {
    "duration": 0,
    "start_time": "2023-08-07T02:15:15.995Z"
   },
   {
    "duration": 0,
    "start_time": "2023-08-07T02:15:15.996Z"
   },
   {
    "duration": 0,
    "start_time": "2023-08-07T02:15:15.997Z"
   },
   {
    "duration": 0,
    "start_time": "2023-08-07T02:15:15.999Z"
   },
   {
    "duration": 0,
    "start_time": "2023-08-07T02:15:16.000Z"
   },
   {
    "duration": 0,
    "start_time": "2023-08-07T02:15:16.001Z"
   },
   {
    "duration": 0,
    "start_time": "2023-08-07T02:15:16.002Z"
   },
   {
    "duration": 0,
    "start_time": "2023-08-07T02:15:16.003Z"
   },
   {
    "duration": 0,
    "start_time": "2023-08-07T02:15:16.004Z"
   },
   {
    "duration": 0,
    "start_time": "2023-08-07T02:15:16.005Z"
   },
   {
    "duration": 0,
    "start_time": "2023-08-07T02:15:16.006Z"
   },
   {
    "duration": 0,
    "start_time": "2023-08-07T02:15:16.007Z"
   },
   {
    "duration": 0,
    "start_time": "2023-08-07T02:15:16.008Z"
   },
   {
    "duration": 0,
    "start_time": "2023-08-07T02:15:16.010Z"
   },
   {
    "duration": 0,
    "start_time": "2023-08-07T02:15:16.011Z"
   },
   {
    "duration": 0,
    "start_time": "2023-08-07T02:15:16.012Z"
   },
   {
    "duration": 0,
    "start_time": "2023-08-07T02:15:16.013Z"
   },
   {
    "duration": 0,
    "start_time": "2023-08-07T02:15:16.014Z"
   },
   {
    "duration": 0,
    "start_time": "2023-08-07T02:15:16.015Z"
   },
   {
    "duration": 4,
    "start_time": "2023-08-07T02:15:41.242Z"
   },
   {
    "duration": 34,
    "start_time": "2023-08-07T02:15:41.255Z"
   },
   {
    "duration": 0,
    "start_time": "2023-08-07T02:15:41.291Z"
   },
   {
    "duration": 0,
    "start_time": "2023-08-07T02:15:41.292Z"
   },
   {
    "duration": 0,
    "start_time": "2023-08-07T02:15:41.293Z"
   },
   {
    "duration": 0,
    "start_time": "2023-08-07T02:15:41.294Z"
   },
   {
    "duration": 0,
    "start_time": "2023-08-07T02:15:41.295Z"
   },
   {
    "duration": 0,
    "start_time": "2023-08-07T02:15:41.296Z"
   },
   {
    "duration": 0,
    "start_time": "2023-08-07T02:15:41.297Z"
   },
   {
    "duration": 0,
    "start_time": "2023-08-07T02:15:41.298Z"
   },
   {
    "duration": 0,
    "start_time": "2023-08-07T02:15:41.299Z"
   },
   {
    "duration": 0,
    "start_time": "2023-08-07T02:15:41.300Z"
   },
   {
    "duration": 0,
    "start_time": "2023-08-07T02:15:41.301Z"
   },
   {
    "duration": 20,
    "start_time": "2023-08-07T02:15:41.303Z"
   },
   {
    "duration": 546,
    "start_time": "2023-08-07T02:15:41.324Z"
   },
   {
    "duration": 11,
    "start_time": "2023-08-07T02:15:41.872Z"
   },
   {
    "duration": 125,
    "start_time": "2023-08-07T02:15:41.884Z"
   },
   {
    "duration": 92,
    "start_time": "2023-08-07T02:15:42.012Z"
   },
   {
    "duration": 11,
    "start_time": "2023-08-07T02:15:42.107Z"
   },
   {
    "duration": 90,
    "start_time": "2023-08-07T02:15:42.120Z"
   },
   {
    "duration": 0,
    "start_time": "2023-08-07T02:15:42.212Z"
   },
   {
    "duration": 0,
    "start_time": "2023-08-07T02:15:42.213Z"
   },
   {
    "duration": 0,
    "start_time": "2023-08-07T02:15:42.214Z"
   },
   {
    "duration": 0,
    "start_time": "2023-08-07T02:15:42.215Z"
   },
   {
    "duration": 0,
    "start_time": "2023-08-07T02:15:42.217Z"
   },
   {
    "duration": 0,
    "start_time": "2023-08-07T02:15:42.218Z"
   },
   {
    "duration": 0,
    "start_time": "2023-08-07T02:15:42.219Z"
   },
   {
    "duration": 0,
    "start_time": "2023-08-07T02:15:42.220Z"
   },
   {
    "duration": 0,
    "start_time": "2023-08-07T02:15:42.220Z"
   },
   {
    "duration": 0,
    "start_time": "2023-08-07T02:15:42.221Z"
   },
   {
    "duration": 0,
    "start_time": "2023-08-07T02:15:42.222Z"
   },
   {
    "duration": 0,
    "start_time": "2023-08-07T02:15:42.223Z"
   },
   {
    "duration": 0,
    "start_time": "2023-08-07T02:15:42.224Z"
   },
   {
    "duration": 0,
    "start_time": "2023-08-07T02:15:42.225Z"
   },
   {
    "duration": 0,
    "start_time": "2023-08-07T02:15:42.226Z"
   },
   {
    "duration": 0,
    "start_time": "2023-08-07T02:15:42.227Z"
   },
   {
    "duration": 0,
    "start_time": "2023-08-07T02:15:42.228Z"
   },
   {
    "duration": 0,
    "start_time": "2023-08-07T02:15:42.229Z"
   },
   {
    "duration": 0,
    "start_time": "2023-08-07T02:15:42.230Z"
   },
   {
    "duration": 0,
    "start_time": "2023-08-07T02:15:42.231Z"
   },
   {
    "duration": 0,
    "start_time": "2023-08-07T02:15:42.232Z"
   },
   {
    "duration": 0,
    "start_time": "2023-08-07T02:15:42.233Z"
   },
   {
    "duration": 9589,
    "start_time": "2023-08-07T02:15:57.368Z"
   },
   {
    "duration": 22,
    "start_time": "2023-08-07T02:16:06.961Z"
   },
   {
    "duration": 26,
    "start_time": "2023-08-07T02:16:06.985Z"
   },
   {
    "duration": 185,
    "start_time": "2023-08-07T02:16:07.013Z"
   },
   {
    "duration": 75,
    "start_time": "2023-08-07T02:16:07.200Z"
   },
   {
    "duration": 20,
    "start_time": "2023-08-07T02:16:07.277Z"
   },
   {
    "duration": 22,
    "start_time": "2023-08-07T02:16:07.300Z"
   },
   {
    "duration": 0,
    "start_time": "2023-08-07T02:16:07.324Z"
   },
   {
    "duration": 0,
    "start_time": "2023-08-07T02:16:07.376Z"
   },
   {
    "duration": 0,
    "start_time": "2023-08-07T02:16:07.378Z"
   },
   {
    "duration": 0,
    "start_time": "2023-08-07T02:16:07.379Z"
   },
   {
    "duration": 0,
    "start_time": "2023-08-07T02:16:07.380Z"
   },
   {
    "duration": 0,
    "start_time": "2023-08-07T02:16:07.381Z"
   },
   {
    "duration": 0,
    "start_time": "2023-08-07T02:16:07.382Z"
   },
   {
    "duration": 0,
    "start_time": "2023-08-07T02:16:07.383Z"
   },
   {
    "duration": 0,
    "start_time": "2023-08-07T02:16:07.384Z"
   },
   {
    "duration": 0,
    "start_time": "2023-08-07T02:16:07.385Z"
   },
   {
    "duration": 0,
    "start_time": "2023-08-07T02:16:07.385Z"
   },
   {
    "duration": 0,
    "start_time": "2023-08-07T02:16:07.386Z"
   },
   {
    "duration": 0,
    "start_time": "2023-08-07T02:16:07.387Z"
   },
   {
    "duration": 0,
    "start_time": "2023-08-07T02:16:07.389Z"
   },
   {
    "duration": 0,
    "start_time": "2023-08-07T02:16:07.390Z"
   },
   {
    "duration": 11,
    "start_time": "2023-08-07T02:16:23.102Z"
   },
   {
    "duration": 18,
    "start_time": "2023-08-07T02:16:23.116Z"
   },
   {
    "duration": 45,
    "start_time": "2023-08-07T02:16:23.137Z"
   },
   {
    "duration": 8,
    "start_time": "2023-08-07T02:16:23.184Z"
   },
   {
    "duration": 17,
    "start_time": "2023-08-07T02:16:23.194Z"
   },
   {
    "duration": 9,
    "start_time": "2023-08-07T02:16:23.213Z"
   },
   {
    "duration": 13,
    "start_time": "2023-08-07T02:16:23.224Z"
   },
   {
    "duration": 42,
    "start_time": "2023-08-07T02:16:23.239Z"
   },
   {
    "duration": 17,
    "start_time": "2023-08-07T02:16:23.282Z"
   },
   {
    "duration": 16,
    "start_time": "2023-08-07T02:16:23.301Z"
   },
   {
    "duration": 18,
    "start_time": "2023-08-07T02:16:23.319Z"
   },
   {
    "duration": 1,
    "start_time": "2023-08-07T02:16:23.338Z"
   },
   {
    "duration": 0,
    "start_time": "2023-08-07T02:16:23.340Z"
   },
   {
    "duration": 0,
    "start_time": "2023-08-07T02:16:23.341Z"
   },
   {
    "duration": 0,
    "start_time": "2023-08-07T02:16:23.342Z"
   },
   {
    "duration": 15,
    "start_time": "2023-08-07T02:16:32.632Z"
   },
   {
    "duration": 18,
    "start_time": "2023-08-07T02:16:32.649Z"
   },
   {
    "duration": 53,
    "start_time": "2023-08-07T02:16:32.669Z"
   },
   {
    "duration": 27,
    "start_time": "2023-08-07T02:16:32.724Z"
   },
   {
    "duration": 106,
    "start_time": "2023-08-07T02:17:18.274Z"
   },
   {
    "duration": 8,
    "start_time": "2023-08-07T02:19:52.178Z"
   },
   {
    "duration": 56,
    "start_time": "2023-08-07T02:21:17.799Z"
   },
   {
    "duration": 17,
    "start_time": "2023-08-07T02:21:22.210Z"
   },
   {
    "duration": 34,
    "start_time": "2023-08-07T02:22:03.806Z"
   },
   {
    "duration": 29,
    "start_time": "2023-08-07T02:22:19.762Z"
   },
   {
    "duration": 31,
    "start_time": "2023-08-07T02:22:23.359Z"
   },
   {
    "duration": 30,
    "start_time": "2023-08-07T02:22:26.339Z"
   },
   {
    "duration": 29,
    "start_time": "2023-08-07T02:22:29.123Z"
   },
   {
    "duration": 30,
    "start_time": "2023-08-07T02:22:32.611Z"
   },
   {
    "duration": 26,
    "start_time": "2023-08-07T02:22:36.536Z"
   },
   {
    "duration": 26,
    "start_time": "2023-08-07T02:22:39.172Z"
   },
   {
    "duration": 34,
    "start_time": "2023-08-07T02:22:41.688Z"
   },
   {
    "duration": 1775,
    "start_time": "2023-08-07T02:23:42.402Z"
   },
   {
    "duration": 9,
    "start_time": "2023-08-07T02:24:05.398Z"
   },
   {
    "duration": 48,
    "start_time": "2023-08-07T02:24:45.957Z"
   },
   {
    "duration": 1821,
    "start_time": "2023-08-07T17:08:24.003Z"
   },
   {
    "duration": 151,
    "start_time": "2023-08-07T17:08:25.826Z"
   },
   {
    "duration": 34,
    "start_time": "2023-08-07T17:08:25.979Z"
   },
   {
    "duration": 64,
    "start_time": "2023-08-07T17:08:26.014Z"
   },
   {
    "duration": 70,
    "start_time": "2023-08-07T17:08:26.081Z"
   },
   {
    "duration": 4,
    "start_time": "2023-08-07T17:08:26.153Z"
   },
   {
    "duration": 79,
    "start_time": "2023-08-07T17:08:26.159Z"
   },
   {
    "duration": 19,
    "start_time": "2023-08-07T17:08:26.240Z"
   },
   {
    "duration": 56,
    "start_time": "2023-08-07T17:08:26.261Z"
   },
   {
    "duration": 44,
    "start_time": "2023-08-07T17:08:26.318Z"
   },
   {
    "duration": 64,
    "start_time": "2023-08-07T17:08:26.364Z"
   },
   {
    "duration": 38,
    "start_time": "2023-08-07T17:08:26.430Z"
   },
   {
    "duration": 66,
    "start_time": "2023-08-07T17:08:26.471Z"
   },
   {
    "duration": 24,
    "start_time": "2023-08-07T17:08:26.541Z"
   },
   {
    "duration": 37,
    "start_time": "2023-08-07T17:08:26.567Z"
   },
   {
    "duration": 1514,
    "start_time": "2023-08-07T17:08:26.608Z"
   },
   {
    "duration": 4,
    "start_time": "2023-08-07T17:08:28.124Z"
   },
   {
    "duration": 207,
    "start_time": "2023-08-07T17:08:28.129Z"
   },
   {
    "duration": 99,
    "start_time": "2023-08-07T17:08:28.338Z"
   },
   {
    "duration": 95,
    "start_time": "2023-08-07T17:08:28.439Z"
   },
   {
    "duration": 96,
    "start_time": "2023-08-07T17:08:28.536Z"
   },
   {
    "duration": 179,
    "start_time": "2023-08-07T17:08:28.634Z"
   },
   {
    "duration": 114,
    "start_time": "2023-08-07T17:08:28.820Z"
   },
   {
    "duration": 111,
    "start_time": "2023-08-07T17:08:28.936Z"
   },
   {
    "duration": 100,
    "start_time": "2023-08-07T17:08:29.049Z"
   },
   {
    "duration": 22,
    "start_time": "2023-08-07T17:08:29.151Z"
   },
   {
    "duration": 56,
    "start_time": "2023-08-07T17:08:29.175Z"
   },
   {
    "duration": 18,
    "start_time": "2023-08-07T17:08:29.234Z"
   },
   {
    "duration": 26,
    "start_time": "2023-08-07T17:08:29.254Z"
   },
   {
    "duration": 36,
    "start_time": "2023-08-07T17:08:29.283Z"
   },
   {
    "duration": 47,
    "start_time": "2023-08-07T17:08:29.323Z"
   },
   {
    "duration": 37,
    "start_time": "2023-08-07T17:08:29.371Z"
   },
   {
    "duration": 66,
    "start_time": "2023-08-07T17:08:29.422Z"
   },
   {
    "duration": 101,
    "start_time": "2023-08-07T17:08:29.492Z"
   },
   {
    "duration": 16,
    "start_time": "2023-08-07T17:08:29.595Z"
   },
   {
    "duration": 111,
    "start_time": "2023-08-07T17:08:29.612Z"
   },
   {
    "duration": 78,
    "start_time": "2023-08-07T17:08:29.729Z"
   },
   {
    "duration": 23,
    "start_time": "2023-08-07T17:08:29.809Z"
   },
   {
    "duration": 232,
    "start_time": "2023-08-07T17:08:29.834Z"
   },
   {
    "duration": 11470,
    "start_time": "2023-08-07T17:08:30.067Z"
   },
   {
    "duration": 13,
    "start_time": "2023-08-07T17:08:41.544Z"
   },
   {
    "duration": 28,
    "start_time": "2023-08-07T17:08:41.588Z"
   },
   {
    "duration": 183,
    "start_time": "2023-08-07T17:08:41.630Z"
   },
   {
    "duration": 17,
    "start_time": "2023-08-07T17:08:41.815Z"
   },
   {
    "duration": 62,
    "start_time": "2023-08-07T17:08:41.835Z"
   },
   {
    "duration": 733,
    "start_time": "2023-08-07T17:08:41.899Z"
   },
   {
    "duration": 24,
    "start_time": "2023-08-07T17:08:42.642Z"
   },
   {
    "duration": 475,
    "start_time": "2023-08-07T17:08:42.668Z"
   },
   {
    "duration": 10,
    "start_time": "2023-08-07T17:08:43.144Z"
   },
   {
    "duration": 43,
    "start_time": "2023-08-07T17:08:43.156Z"
   },
   {
    "duration": 55,
    "start_time": "2023-08-07T17:08:43.206Z"
   },
   {
    "duration": 9,
    "start_time": "2023-08-07T17:08:43.263Z"
   },
   {
    "duration": 56,
    "start_time": "2023-08-07T17:08:43.273Z"
   },
   {
    "duration": 49,
    "start_time": "2023-08-07T17:08:43.332Z"
   },
   {
    "duration": 18,
    "start_time": "2023-08-07T17:08:43.383Z"
   },
   {
    "duration": 31,
    "start_time": "2023-08-07T17:08:43.408Z"
   },
   {
    "duration": 74,
    "start_time": "2023-08-07T17:08:43.441Z"
   },
   {
    "duration": 31,
    "start_time": "2023-08-07T17:08:43.520Z"
   },
   {
    "duration": 24,
    "start_time": "2023-08-07T17:08:43.553Z"
   },
   {
    "duration": 24,
    "start_time": "2023-08-07T17:08:43.579Z"
   },
   {
    "duration": 228,
    "start_time": "2023-08-07T17:08:43.605Z"
   },
   {
    "duration": 17,
    "start_time": "2023-08-07T17:08:43.835Z"
   },
   {
    "duration": 48,
    "start_time": "2023-08-07T17:08:43.854Z"
   },
   {
    "duration": 71,
    "start_time": "2023-08-07T17:08:43.904Z"
   },
   {
    "duration": 98,
    "start_time": "2023-08-07T17:08:43.977Z"
   },
   {
    "duration": 24,
    "start_time": "2023-08-07T17:12:03.014Z"
   },
   {
    "duration": 87,
    "start_time": "2023-08-07T17:12:06.182Z"
   },
   {
    "duration": 118,
    "start_time": "2023-08-07T17:12:08.514Z"
   },
   {
    "duration": 22,
    "start_time": "2023-08-07T17:12:17.324Z"
   },
   {
    "duration": 63,
    "start_time": "2023-08-07T17:12:26.123Z"
   },
   {
    "duration": 105,
    "start_time": "2023-08-07T17:12:30.945Z"
   },
   {
    "duration": 1770,
    "start_time": "2023-08-08T01:34:19.437Z"
   },
   {
    "duration": 141,
    "start_time": "2023-08-08T01:34:21.210Z"
   },
   {
    "duration": 20,
    "start_time": "2023-08-08T01:34:21.352Z"
   },
   {
    "duration": 14,
    "start_time": "2023-08-08T01:34:21.374Z"
   },
   {
    "duration": 37,
    "start_time": "2023-08-08T01:34:21.389Z"
   },
   {
    "duration": 3,
    "start_time": "2023-08-08T01:34:21.428Z"
   },
   {
    "duration": 18,
    "start_time": "2023-08-08T01:34:21.433Z"
   },
   {
    "duration": 11,
    "start_time": "2023-08-08T01:34:21.453Z"
   },
   {
    "duration": 48,
    "start_time": "2023-08-08T01:34:21.465Z"
   },
   {
    "duration": 17,
    "start_time": "2023-08-08T01:34:21.515Z"
   },
   {
    "duration": 17,
    "start_time": "2023-08-08T01:34:21.534Z"
   },
   {
    "duration": 9,
    "start_time": "2023-08-08T01:34:21.553Z"
   },
   {
    "duration": 57,
    "start_time": "2023-08-08T01:34:21.564Z"
   },
   {
    "duration": 6,
    "start_time": "2023-08-08T01:34:21.622Z"
   },
   {
    "duration": 12,
    "start_time": "2023-08-08T01:34:21.630Z"
   },
   {
    "duration": 532,
    "start_time": "2023-08-08T01:34:21.643Z"
   },
   {
    "duration": 3,
    "start_time": "2023-08-08T01:34:22.177Z"
   },
   {
    "duration": 117,
    "start_time": "2023-08-08T01:34:22.182Z"
   },
   {
    "duration": 139,
    "start_time": "2023-08-08T01:34:22.302Z"
   },
   {
    "duration": 85,
    "start_time": "2023-08-08T01:34:22.442Z"
   },
   {
    "duration": 88,
    "start_time": "2023-08-08T01:34:22.529Z"
   },
   {
    "duration": 86,
    "start_time": "2023-08-08T01:34:22.619Z"
   },
   {
    "duration": 71,
    "start_time": "2023-08-08T01:34:22.708Z"
   },
   {
    "duration": 74,
    "start_time": "2023-08-08T01:34:22.796Z"
   },
   {
    "duration": 97,
    "start_time": "2023-08-08T01:34:22.871Z"
   },
   {
    "duration": 89,
    "start_time": "2023-08-08T01:34:22.969Z"
   },
   {
    "duration": 37,
    "start_time": "2023-08-08T01:34:23.060Z"
   },
   {
    "duration": 28,
    "start_time": "2023-08-08T01:34:23.104Z"
   },
   {
    "duration": 12,
    "start_time": "2023-08-08T01:34:23.134Z"
   },
   {
    "duration": 5,
    "start_time": "2023-08-08T01:34:23.148Z"
   },
   {
    "duration": 41,
    "start_time": "2023-08-08T01:34:23.155Z"
   },
   {
    "duration": 46,
    "start_time": "2023-08-08T01:34:23.197Z"
   },
   {
    "duration": 19,
    "start_time": "2023-08-08T01:34:23.245Z"
   },
   {
    "duration": 96,
    "start_time": "2023-08-08T01:34:23.266Z"
   },
   {
    "duration": 10,
    "start_time": "2023-08-08T01:34:23.363Z"
   },
   {
    "duration": 87,
    "start_time": "2023-08-08T01:34:23.374Z"
   },
   {
    "duration": 66,
    "start_time": "2023-08-08T01:34:23.462Z"
   },
   {
    "duration": 12,
    "start_time": "2023-08-08T01:34:23.530Z"
   },
   {
    "duration": 231,
    "start_time": "2023-08-08T01:34:23.544Z"
   },
   {
    "duration": 9999,
    "start_time": "2023-08-08T01:34:23.776Z"
   },
   {
    "duration": 31,
    "start_time": "2023-08-08T01:34:33.777Z"
   },
   {
    "duration": 29,
    "start_time": "2023-08-08T01:34:33.810Z"
   },
   {
    "duration": 182,
    "start_time": "2023-08-08T01:34:33.840Z"
   },
   {
    "duration": 11,
    "start_time": "2023-08-08T01:34:34.023Z"
   },
   {
    "duration": 59,
    "start_time": "2023-08-08T01:34:34.036Z"
   },
   {
    "duration": 616,
    "start_time": "2023-08-08T01:34:34.098Z"
   },
   {
    "duration": 13,
    "start_time": "2023-08-08T01:34:34.716Z"
   },
   {
    "duration": 337,
    "start_time": "2023-08-08T01:34:34.731Z"
   },
   {
    "duration": 8,
    "start_time": "2023-08-08T01:34:35.070Z"
   },
   {
    "duration": 34,
    "start_time": "2023-08-08T01:34:35.096Z"
   },
   {
    "duration": 57,
    "start_time": "2023-08-08T01:34:35.131Z"
   },
   {
    "duration": 9,
    "start_time": "2023-08-08T01:34:35.190Z"
   },
   {
    "duration": 49,
    "start_time": "2023-08-08T01:34:35.201Z"
   },
   {
    "duration": 58,
    "start_time": "2023-08-08T01:34:35.251Z"
   },
   {
    "duration": 9,
    "start_time": "2023-08-08T01:34:35.312Z"
   },
   {
    "duration": 20,
    "start_time": "2023-08-08T01:34:35.323Z"
   },
   {
    "duration": 59,
    "start_time": "2023-08-08T01:34:35.345Z"
   },
   {
    "duration": 16,
    "start_time": "2023-08-08T01:34:35.406Z"
   },
   {
    "duration": 41,
    "start_time": "2023-08-08T01:34:35.424Z"
   },
   {
    "duration": 20,
    "start_time": "2023-08-08T01:34:35.467Z"
   },
   {
    "duration": 151,
    "start_time": "2023-08-08T01:34:35.489Z"
   },
   {
    "duration": 14,
    "start_time": "2023-08-08T01:34:35.642Z"
   },
   {
    "duration": 19,
    "start_time": "2023-08-08T01:34:35.658Z"
   },
   {
    "duration": 80,
    "start_time": "2023-08-08T01:34:35.678Z"
   },
   {
    "duration": 96,
    "start_time": "2023-08-08T01:34:35.760Z"
   }
  ],
  "kernelspec": {
   "display_name": "Python 3 (ipykernel)",
   "language": "python",
   "name": "python3"
  },
  "language_info": {
   "codemirror_mode": {
    "name": "ipython",
    "version": 3
   },
   "file_extension": ".py",
   "mimetype": "text/x-python",
   "name": "python",
   "nbconvert_exporter": "python",
   "pygments_lexer": "ipython3",
   "version": "3.9.16"
  },
  "toc": {
   "base_numbering": 1,
   "nav_menu": {},
   "number_sections": true,
   "sideBar": true,
   "skip_h1_title": true,
   "title_cell": "Table of Contents",
   "title_sidebar": "Contents",
   "toc_cell": false,
   "toc_position": {},
   "toc_section_display": true,
   "toc_window_display": false
  }
 },
 "nbformat": 4,
 "nbformat_minor": 5
}
